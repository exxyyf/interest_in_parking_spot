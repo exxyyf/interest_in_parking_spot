{
 "cells": [
  {
   "cell_type": "code",
   "execution_count": 1,
   "id": "451a2772",
   "metadata": {},
   "outputs": [
    {
     "name": "stderr",
     "output_type": "stream",
     "text": [
      "C:\\Users\\User\\anaconda3\\envs\\new\\lib\\site-packages\\numpy\\_distributor_init.py:30: UserWarning: loaded more than 1 DLL from .libs:\n",
      "C:\\Users\\User\\anaconda3\\envs\\new\\lib\\site-packages\\numpy\\.libs\\libopenblas.FB5AE2TYXYH2IJRDKGDGQ3XBKLKTF43H.gfortran-win_amd64.dll\n",
      "C:\\Users\\User\\anaconda3\\envs\\new\\lib\\site-packages\\numpy\\.libs\\libopenblas64__v0.3.21-gcc_10_3_0.dll\n",
      "  warnings.warn(\"loaded more than 1 DLL from .libs:\"\n"
     ]
    },
    {
     "name": "stdout",
     "output_type": "stream",
     "text": [
      "WARNING:tensorflow:From C:\\Users\\User\\anaconda3\\envs\\new\\lib\\site-packages\\keras\\src\\losses.py:2976: The name tf.losses.sparse_softmax_cross_entropy is deprecated. Please use tf.compat.v1.losses.sparse_softmax_cross_entropy instead.\n",
      "\n"
     ]
    }
   ],
   "source": [
    "import pandas as pd\n",
    "from sklearn.preprocessing import StandardScaler\n",
    "from sklearn.model_selection import train_test_split\n",
    "from sklearn.metrics import f1_score\n",
    "from sklearn.metrics import roc_auc_score\n",
    "from catboost import CatBoostClassifier\n",
    "from catboost import cv, Pool\n",
    "from sklearn.metrics import roc_auc_score\n",
    "from tensorflow.keras.models import Sequential\n",
    "from tensorflow.keras.layers import Dense\n",
    "from tensorflow import keras\n",
    "from scikeras.wrappers import KerasClassifier\n",
    "from sklearn.model_selection import cross_val_score\n",
    "from sklearn.preprocessing import LabelEncoder\n",
    "from sklearn.preprocessing import OneHotEncoder\n",
    "from sklearn.model_selection import StratifiedKFold\n",
    "from sklearn.preprocessing import StandardScaler\n",
    "from sklearn.pipeline import Pipeline\n",
    "from sklearn.compose import ColumnTransformer\n",
    "from sklearn.model_selection import train_test_split\n",
    "from sklearn.utils import shuffle\n",
    "from sklearn.preprocessing import MinMaxScaler\n",
    "from tensorflow.keras.metrics import AUC\n",
    "from sklearn.model_selection import KFold\n",
    "from keras.models import Sequential\n",
    "from keras.layers import Dense\n",
    "from scikeras.wrappers import KerasClassifier\n",
    "from sklearn.model_selection import StratifiedKFold\n",
    "from sklearn.model_selection import cross_val_score\n",
    "import numpy as np\n",
    "import pandas as pd\n",
    "import matplotlib.pyplot as plt\n",
    "import seaborn as sns\n",
    "RS = 121212\n",
    "from sklearn.metrics import confusion_matrix\n",
    "from sklearn.metrics import ConfusionMatrixDisplay\n",
    "from imblearn.over_sampling import SMOTE"
   ]
  },
  {
   "cell_type": "markdown",
   "id": "77f19e6b",
   "metadata": {},
   "source": [
    "# Загрузка данных"
   ]
  },
  {
   "cell_type": "code",
   "execution_count": 2,
   "id": "96c05521",
   "metadata": {},
   "outputs": [],
   "source": [
    "df = pd.read_csv('train_dataset_Самолет.csv', low_memory=False, parse_dates=['report_date'])"
   ]
  },
  {
   "cell_type": "code",
   "execution_count": 3,
   "id": "a1e59cea",
   "metadata": {},
   "outputs": [
    {
     "data": {
      "text/html": [
       "<div>\n",
       "<style scoped>\n",
       "    .dataframe tbody tr th:only-of-type {\n",
       "        vertical-align: middle;\n",
       "    }\n",
       "\n",
       "    .dataframe tbody tr th {\n",
       "        vertical-align: top;\n",
       "    }\n",
       "\n",
       "    .dataframe thead th {\n",
       "        text-align: right;\n",
       "    }\n",
       "</style>\n",
       "<table border=\"1\" class=\"dataframe\">\n",
       "  <thead>\n",
       "    <tr style=\"text-align: right;\">\n",
       "      <th></th>\n",
       "      <th>report_date</th>\n",
       "      <th>client_id</th>\n",
       "      <th>target</th>\n",
       "      <th>col1</th>\n",
       "      <th>col2</th>\n",
       "      <th>col3</th>\n",
       "      <th>col4</th>\n",
       "      <th>col5</th>\n",
       "      <th>col6</th>\n",
       "      <th>col7</th>\n",
       "      <th>...</th>\n",
       "      <th>col2654</th>\n",
       "      <th>col2655</th>\n",
       "      <th>col2656</th>\n",
       "      <th>col2657</th>\n",
       "      <th>col2658</th>\n",
       "      <th>col2659</th>\n",
       "      <th>col2660</th>\n",
       "      <th>col2661</th>\n",
       "      <th>col2662</th>\n",
       "      <th>col2663</th>\n",
       "    </tr>\n",
       "  </thead>\n",
       "  <tbody>\n",
       "    <tr>\n",
       "      <th>0</th>\n",
       "      <td>2022-11-01</td>\n",
       "      <td>1</td>\n",
       "      <td>0</td>\n",
       "      <td>NaN</td>\n",
       "      <td>NaN</td>\n",
       "      <td>NaN</td>\n",
       "      <td>NaN</td>\n",
       "      <td>NaN</td>\n",
       "      <td>NaN</td>\n",
       "      <td>NaN</td>\n",
       "      <td>...</td>\n",
       "      <td>NaN</td>\n",
       "      <td>NaN</td>\n",
       "      <td>NaN</td>\n",
       "      <td>NaN</td>\n",
       "      <td>NaN</td>\n",
       "      <td>NaN</td>\n",
       "      <td>NaN</td>\n",
       "      <td>NaN</td>\n",
       "      <td>NaN</td>\n",
       "      <td>0.256261</td>\n",
       "    </tr>\n",
       "    <tr>\n",
       "      <th>1</th>\n",
       "      <td>2022-11-01</td>\n",
       "      <td>5</td>\n",
       "      <td>0</td>\n",
       "      <td>NaN</td>\n",
       "      <td>NaN</td>\n",
       "      <td>NaN</td>\n",
       "      <td>NaN</td>\n",
       "      <td>NaN</td>\n",
       "      <td>NaN</td>\n",
       "      <td>NaN</td>\n",
       "      <td>...</td>\n",
       "      <td>7616803.0</td>\n",
       "      <td>7616803.0</td>\n",
       "      <td>7616803.0</td>\n",
       "      <td>NaN</td>\n",
       "      <td>NaN</td>\n",
       "      <td>NaN</td>\n",
       "      <td>7616803.0</td>\n",
       "      <td>7616803.0</td>\n",
       "      <td>7616803.0</td>\n",
       "      <td>0.256261</td>\n",
       "    </tr>\n",
       "    <tr>\n",
       "      <th>2</th>\n",
       "      <td>2022-05-01</td>\n",
       "      <td>6</td>\n",
       "      <td>0</td>\n",
       "      <td>NaN</td>\n",
       "      <td>NaN</td>\n",
       "      <td>NaN</td>\n",
       "      <td>NaN</td>\n",
       "      <td>NaN</td>\n",
       "      <td>NaN</td>\n",
       "      <td>NaN</td>\n",
       "      <td>...</td>\n",
       "      <td>NaN</td>\n",
       "      <td>NaN</td>\n",
       "      <td>NaN</td>\n",
       "      <td>NaN</td>\n",
       "      <td>NaN</td>\n",
       "      <td>NaN</td>\n",
       "      <td>NaN</td>\n",
       "      <td>NaN</td>\n",
       "      <td>NaN</td>\n",
       "      <td>0.256261</td>\n",
       "    </tr>\n",
       "    <tr>\n",
       "      <th>3</th>\n",
       "      <td>2022-09-01</td>\n",
       "      <td>7</td>\n",
       "      <td>0</td>\n",
       "      <td>NaN</td>\n",
       "      <td>NaN</td>\n",
       "      <td>NaN</td>\n",
       "      <td>NaN</td>\n",
       "      <td>NaN</td>\n",
       "      <td>NaN</td>\n",
       "      <td>NaN</td>\n",
       "      <td>...</td>\n",
       "      <td>NaN</td>\n",
       "      <td>NaN</td>\n",
       "      <td>NaN</td>\n",
       "      <td>NaN</td>\n",
       "      <td>NaN</td>\n",
       "      <td>NaN</td>\n",
       "      <td>NaN</td>\n",
       "      <td>NaN</td>\n",
       "      <td>NaN</td>\n",
       "      <td>0.258682</td>\n",
       "    </tr>\n",
       "    <tr>\n",
       "      <th>4</th>\n",
       "      <td>2022-08-01</td>\n",
       "      <td>8</td>\n",
       "      <td>0</td>\n",
       "      <td>NaN</td>\n",
       "      <td>NaN</td>\n",
       "      <td>NaN</td>\n",
       "      <td>NaN</td>\n",
       "      <td>NaN</td>\n",
       "      <td>NaN</td>\n",
       "      <td>NaN</td>\n",
       "      <td>...</td>\n",
       "      <td>NaN</td>\n",
       "      <td>NaN</td>\n",
       "      <td>NaN</td>\n",
       "      <td>NaN</td>\n",
       "      <td>NaN</td>\n",
       "      <td>NaN</td>\n",
       "      <td>NaN</td>\n",
       "      <td>NaN</td>\n",
       "      <td>NaN</td>\n",
       "      <td>0.254164</td>\n",
       "    </tr>\n",
       "  </tbody>\n",
       "</table>\n",
       "<p>5 rows × 2666 columns</p>\n",
       "</div>"
      ],
      "text/plain": [
       "  report_date  client_id  target  col1  col2  col3  col4  col5  col6  col7  \\\n",
       "0  2022-11-01          1       0   NaN   NaN   NaN   NaN   NaN   NaN   NaN   \n",
       "1  2022-11-01          5       0   NaN   NaN   NaN   NaN   NaN   NaN   NaN   \n",
       "2  2022-05-01          6       0   NaN   NaN   NaN   NaN   NaN   NaN   NaN   \n",
       "3  2022-09-01          7       0   NaN   NaN   NaN   NaN   NaN   NaN   NaN   \n",
       "4  2022-08-01          8       0   NaN   NaN   NaN   NaN   NaN   NaN   NaN   \n",
       "\n",
       "   ...    col2654    col2655    col2656  col2657  col2658  col2659    col2660  \\\n",
       "0  ...        NaN        NaN        NaN      NaN      NaN      NaN        NaN   \n",
       "1  ...  7616803.0  7616803.0  7616803.0      NaN      NaN      NaN  7616803.0   \n",
       "2  ...        NaN        NaN        NaN      NaN      NaN      NaN        NaN   \n",
       "3  ...        NaN        NaN        NaN      NaN      NaN      NaN        NaN   \n",
       "4  ...        NaN        NaN        NaN      NaN      NaN      NaN        NaN   \n",
       "\n",
       "     col2661    col2662   col2663  \n",
       "0        NaN        NaN  0.256261  \n",
       "1  7616803.0  7616803.0  0.256261  \n",
       "2        NaN        NaN  0.256261  \n",
       "3        NaN        NaN  0.258682  \n",
       "4        NaN        NaN  0.254164  \n",
       "\n",
       "[5 rows x 2666 columns]"
      ]
     },
     "execution_count": 3,
     "metadata": {},
     "output_type": "execute_result"
    }
   ],
   "source": [
    "df.head()"
   ]
  },
  {
   "cell_type": "markdown",
   "id": "6fa07f9a",
   "metadata": {},
   "source": [
    "plt.figure(figsize=(15, 10))\n",
    "sns.heatmap(df.select_dtypes([int, float]).corr())\n",
    "plt.show()"
   ]
  },
  {
   "cell_type": "code",
   "execution_count": 4,
   "id": "a27ff995",
   "metadata": {},
   "outputs": [],
   "source": [
    "data = df.dropna(thresh=int(len(df)*0.95), axis=1).copy()\n",
    "data.drop(columns=['col1454'], inplace=True)"
   ]
  },
  {
   "cell_type": "code",
   "execution_count": 5,
   "id": "e4d5c5ed",
   "metadata": {},
   "outputs": [
    {
     "name": "stderr",
     "output_type": "stream",
     "text": [
      "C:\\Users\\User\\AppData\\Local\\Temp\\ipykernel_16616\\476127175.py:1: FutureWarning: DataFrame.mean and DataFrame.median with numeric_only=None will include datetime64 and datetime64tz columns in a future version.\n",
      "  data = data.fillna(data.mean())\n"
     ]
    }
   ],
   "source": [
    "data = data.fillna(data.mean())"
   ]
  },
  {
   "cell_type": "code",
   "execution_count": 6,
   "id": "2436510b",
   "metadata": {},
   "outputs": [
    {
     "data": {
      "text/html": [
       "<div>\n",
       "<style scoped>\n",
       "    .dataframe tbody tr th:only-of-type {\n",
       "        vertical-align: middle;\n",
       "    }\n",
       "\n",
       "    .dataframe tbody tr th {\n",
       "        vertical-align: top;\n",
       "    }\n",
       "\n",
       "    .dataframe thead th {\n",
       "        text-align: right;\n",
       "    }\n",
       "</style>\n",
       "<table border=\"1\" class=\"dataframe\">\n",
       "  <thead>\n",
       "    <tr style=\"text-align: right;\">\n",
       "      <th></th>\n",
       "      <th>report_date</th>\n",
       "      <th>client_id</th>\n",
       "      <th>target</th>\n",
       "      <th>col1453</th>\n",
       "      <th>col2167</th>\n",
       "      <th>col2168</th>\n",
       "      <th>col2169</th>\n",
       "      <th>col2170</th>\n",
       "      <th>col2171</th>\n",
       "      <th>col2172</th>\n",
       "      <th>...</th>\n",
       "      <th>col2365</th>\n",
       "      <th>col2366</th>\n",
       "      <th>col2388</th>\n",
       "      <th>col2389</th>\n",
       "      <th>col2390</th>\n",
       "      <th>col2460</th>\n",
       "      <th>col2461</th>\n",
       "      <th>col2462</th>\n",
       "      <th>col2470</th>\n",
       "      <th>col2663</th>\n",
       "    </tr>\n",
       "  </thead>\n",
       "  <tbody>\n",
       "    <tr>\n",
       "      <th>0</th>\n",
       "      <td>2022-11-01</td>\n",
       "      <td>1</td>\n",
       "      <td>0</td>\n",
       "      <td>0</td>\n",
       "      <td>0.0</td>\n",
       "      <td>0.0</td>\n",
       "      <td>0.0</td>\n",
       "      <td>0.0</td>\n",
       "      <td>0.0</td>\n",
       "      <td>0.0</td>\n",
       "      <td>...</td>\n",
       "      <td>1.0</td>\n",
       "      <td>1.0</td>\n",
       "      <td>37.88</td>\n",
       "      <td>37.88</td>\n",
       "      <td>37.880</td>\n",
       "      <td>0.00</td>\n",
       "      <td>0.00</td>\n",
       "      <td>0.00</td>\n",
       "      <td>545.000000</td>\n",
       "      <td>0.256261</td>\n",
       "    </tr>\n",
       "    <tr>\n",
       "      <th>1</th>\n",
       "      <td>2022-11-01</td>\n",
       "      <td>5</td>\n",
       "      <td>0</td>\n",
       "      <td>1</td>\n",
       "      <td>0.0</td>\n",
       "      <td>0.0</td>\n",
       "      <td>0.0</td>\n",
       "      <td>0.0</td>\n",
       "      <td>0.0</td>\n",
       "      <td>6.0</td>\n",
       "      <td>...</td>\n",
       "      <td>1.0</td>\n",
       "      <td>1.0</td>\n",
       "      <td>38.75</td>\n",
       "      <td>3.34</td>\n",
       "      <td>21.045</td>\n",
       "      <td>0.00</td>\n",
       "      <td>0.00</td>\n",
       "      <td>0.00</td>\n",
       "      <td>242.000000</td>\n",
       "      <td>0.256261</td>\n",
       "    </tr>\n",
       "    <tr>\n",
       "      <th>2</th>\n",
       "      <td>2022-05-01</td>\n",
       "      <td>6</td>\n",
       "      <td>0</td>\n",
       "      <td>0</td>\n",
       "      <td>0.0</td>\n",
       "      <td>0.0</td>\n",
       "      <td>0.0</td>\n",
       "      <td>0.0</td>\n",
       "      <td>0.0</td>\n",
       "      <td>0.0</td>\n",
       "      <td>...</td>\n",
       "      <td>1.0</td>\n",
       "      <td>1.0</td>\n",
       "      <td>36.75</td>\n",
       "      <td>36.75</td>\n",
       "      <td>36.750</td>\n",
       "      <td>2.10</td>\n",
       "      <td>2.10</td>\n",
       "      <td>2.10</td>\n",
       "      <td>557.000000</td>\n",
       "      <td>0.256261</td>\n",
       "    </tr>\n",
       "    <tr>\n",
       "      <th>3</th>\n",
       "      <td>2022-09-01</td>\n",
       "      <td>7</td>\n",
       "      <td>0</td>\n",
       "      <td>0</td>\n",
       "      <td>1.0</td>\n",
       "      <td>1.0</td>\n",
       "      <td>1.0</td>\n",
       "      <td>1.0</td>\n",
       "      <td>1.0</td>\n",
       "      <td>1.0</td>\n",
       "      <td>...</td>\n",
       "      <td>1.0</td>\n",
       "      <td>1.0</td>\n",
       "      <td>35.56</td>\n",
       "      <td>35.56</td>\n",
       "      <td>35.560</td>\n",
       "      <td>1.40</td>\n",
       "      <td>1.40</td>\n",
       "      <td>1.40</td>\n",
       "      <td>332.556663</td>\n",
       "      <td>0.258682</td>\n",
       "    </tr>\n",
       "    <tr>\n",
       "      <th>4</th>\n",
       "      <td>2022-08-01</td>\n",
       "      <td>8</td>\n",
       "      <td>0</td>\n",
       "      <td>0</td>\n",
       "      <td>0.0</td>\n",
       "      <td>0.0</td>\n",
       "      <td>0.0</td>\n",
       "      <td>0.0</td>\n",
       "      <td>0.0</td>\n",
       "      <td>3.0</td>\n",
       "      <td>...</td>\n",
       "      <td>2.0</td>\n",
       "      <td>2.0</td>\n",
       "      <td>54.52</td>\n",
       "      <td>54.52</td>\n",
       "      <td>54.520</td>\n",
       "      <td>2.28</td>\n",
       "      <td>2.28</td>\n",
       "      <td>2.28</td>\n",
       "      <td>256.000000</td>\n",
       "      <td>0.254164</td>\n",
       "    </tr>\n",
       "  </tbody>\n",
       "</table>\n",
       "<p>5 rows × 54 columns</p>\n",
       "</div>"
      ],
      "text/plain": [
       "  report_date  client_id  target  col1453  col2167  col2168  col2169  col2170  \\\n",
       "0  2022-11-01          1       0        0      0.0      0.0      0.0      0.0   \n",
       "1  2022-11-01          5       0        1      0.0      0.0      0.0      0.0   \n",
       "2  2022-05-01          6       0        0      0.0      0.0      0.0      0.0   \n",
       "3  2022-09-01          7       0        0      1.0      1.0      1.0      1.0   \n",
       "4  2022-08-01          8       0        0      0.0      0.0      0.0      0.0   \n",
       "\n",
       "   col2171  col2172  ...  col2365  col2366  col2388  col2389  col2390  \\\n",
       "0      0.0      0.0  ...      1.0      1.0    37.88    37.88   37.880   \n",
       "1      0.0      6.0  ...      1.0      1.0    38.75     3.34   21.045   \n",
       "2      0.0      0.0  ...      1.0      1.0    36.75    36.75   36.750   \n",
       "3      1.0      1.0  ...      1.0      1.0    35.56    35.56   35.560   \n",
       "4      0.0      3.0  ...      2.0      2.0    54.52    54.52   54.520   \n",
       "\n",
       "   col2460  col2461  col2462     col2470   col2663  \n",
       "0     0.00     0.00     0.00  545.000000  0.256261  \n",
       "1     0.00     0.00     0.00  242.000000  0.256261  \n",
       "2     2.10     2.10     2.10  557.000000  0.256261  \n",
       "3     1.40     1.40     1.40  332.556663  0.258682  \n",
       "4     2.28     2.28     2.28  256.000000  0.254164  \n",
       "\n",
       "[5 rows x 54 columns]"
      ]
     },
     "execution_count": 6,
     "metadata": {},
     "output_type": "execute_result"
    }
   ],
   "source": [
    "data.head()"
   ]
  },
  {
   "cell_type": "code",
   "execution_count": 7,
   "id": "a0a76bdd",
   "metadata": {},
   "outputs": [],
   "source": [
    "data_f = data.copy()"
   ]
  },
  {
   "cell_type": "markdown",
   "id": "4f9fbb22",
   "metadata": {},
   "source": [
    "plt.figure(figsize=(15, 10))\n",
    "sns.heatmap(data.corr())\n",
    "plt.show()"
   ]
  },
  {
   "cell_type": "code",
   "execution_count": 8,
   "id": "43773c83",
   "metadata": {},
   "outputs": [],
   "source": [
    "client_id = data['client_id']"
   ]
  },
  {
   "cell_type": "code",
   "execution_count": 9,
   "id": "7f5074b3",
   "metadata": {},
   "outputs": [],
   "source": [
    "data.drop(columns='client_id', inplace=True)"
   ]
  },
  {
   "cell_type": "markdown",
   "id": "6bc0e42d",
   "metadata": {},
   "source": [
    "# Модели"
   ]
  },
  {
   "cell_type": "markdown",
   "id": "362cb56e",
   "metadata": {},
   "source": [
    "## Создание baseline модели"
   ]
  },
  {
   "cell_type": "code",
   "execution_count": 10,
   "id": "61104a24",
   "metadata": {},
   "outputs": [],
   "source": [
    "features = data.drop(columns=['target', 'report_date'])"
   ]
  },
  {
   "cell_type": "code",
   "execution_count": 11,
   "id": "f6652cca",
   "metadata": {},
   "outputs": [],
   "source": [
    "target = data['target']"
   ]
  },
  {
   "cell_type": "code",
   "execution_count": 12,
   "id": "26d73d8b",
   "metadata": {},
   "outputs": [],
   "source": [
    "features_train, features_test, target_train, target_test = train_test_split(features, target, test_size=0.3, stratify=target,\n",
    "                                                                            random_state=RS)"
   ]
  },
  {
   "cell_type": "code",
   "execution_count": 13,
   "id": "cda33210",
   "metadata": {},
   "outputs": [],
   "source": [
    "features_train, target_train = SMOTE().fit_resample(features_train, target_train)"
   ]
  },
  {
   "cell_type": "code",
   "execution_count": 14,
   "id": "1173cd0b",
   "metadata": {},
   "outputs": [],
   "source": [
    "params = {\n",
    "    'loss_function': 'Logloss',\n",
    "    'iterations': 300,\n",
    "    'custom_loss': ['AUC', 'F1'],\n",
    "    'random_seed': RS,\n",
    "    'learning_rate': 0.2\n",
    "}"
   ]
  },
  {
   "cell_type": "code",
   "execution_count": 15,
   "id": "f1e846e6",
   "metadata": {},
   "outputs": [
    {
     "data": {
      "application/vnd.jupyter.widget-view+json": {
       "model_id": "94370f458519468ab27ec8ae0dfab42b",
       "version_major": 2,
       "version_minor": 0
      },
      "text/plain": [
       "MetricVisualizer(layout=Layout(align_self='stretch', height='500px'))"
      ]
     },
     "metadata": {},
     "output_type": "display_data"
    },
    {
     "name": "stdout",
     "output_type": "stream",
     "text": [
      "Training on fold [0/5]\n",
      "\n",
      "bestTest = 0.03243315712\n",
      "bestIteration = 299\n",
      "\n",
      "Training on fold [1/5]\n",
      "\n",
      "bestTest = 0.02937570425\n",
      "bestIteration = 298\n",
      "\n",
      "Training on fold [2/5]\n",
      "\n",
      "bestTest = 0.03331570534\n",
      "bestIteration = 299\n",
      "\n",
      "Training on fold [3/5]\n",
      "\n",
      "bestTest = 0.02453952011\n",
      "bestIteration = 297\n",
      "\n",
      "Training on fold [4/5]\n",
      "\n",
      "bestTest = 0.03076116903\n",
      "bestIteration = 279\n",
      "\n"
     ]
    }
   ],
   "source": [
    "cv_data = cv(\n",
    "    params=params,\n",
    "    pool=Pool(features_train, label=target_train),\n",
    "    fold_count=5, # Разбивка выборки на 5 кусочков\n",
    "    shuffle=True, # Перемешаем наши данные\n",
    "    partition_random_seed=RS,\n",
    "    plot=True,\n",
    "    stratified=True, \n",
    "    verbose=False\n",
    ")"
   ]
  },
  {
   "cell_type": "code",
   "execution_count": 16,
   "id": "7ac0152a",
   "metadata": {},
   "outputs": [
    {
     "data": {
      "text/html": [
       "<div>\n",
       "<style scoped>\n",
       "    .dataframe tbody tr th:only-of-type {\n",
       "        vertical-align: middle;\n",
       "    }\n",
       "\n",
       "    .dataframe tbody tr th {\n",
       "        vertical-align: top;\n",
       "    }\n",
       "\n",
       "    .dataframe thead th {\n",
       "        text-align: right;\n",
       "    }\n",
       "</style>\n",
       "<table border=\"1\" class=\"dataframe\">\n",
       "  <thead>\n",
       "    <tr style=\"text-align: right;\">\n",
       "      <th></th>\n",
       "      <th>iterations</th>\n",
       "      <th>test-Logloss-mean</th>\n",
       "      <th>test-Logloss-std</th>\n",
       "      <th>train-Logloss-mean</th>\n",
       "      <th>train-Logloss-std</th>\n",
       "      <th>test-AUC-mean</th>\n",
       "      <th>test-AUC-std</th>\n",
       "      <th>test-F1-mean</th>\n",
       "      <th>test-F1-std</th>\n",
       "      <th>train-F1-mean</th>\n",
       "      <th>train-F1-std</th>\n",
       "    </tr>\n",
       "  </thead>\n",
       "  <tbody>\n",
       "    <tr>\n",
       "      <th>0</th>\n",
       "      <td>0</td>\n",
       "      <td>0.533929</td>\n",
       "      <td>0.003040</td>\n",
       "      <td>0.532393</td>\n",
       "      <td>0.003798</td>\n",
       "      <td>0.893667</td>\n",
       "      <td>0.003762</td>\n",
       "      <td>0.815636</td>\n",
       "      <td>0.010702</td>\n",
       "      <td>0.817295</td>\n",
       "      <td>0.008774</td>\n",
       "    </tr>\n",
       "    <tr>\n",
       "      <th>1</th>\n",
       "      <td>1</td>\n",
       "      <td>0.456180</td>\n",
       "      <td>0.002954</td>\n",
       "      <td>0.454160</td>\n",
       "      <td>0.002026</td>\n",
       "      <td>0.927275</td>\n",
       "      <td>0.004200</td>\n",
       "      <td>0.835050</td>\n",
       "      <td>0.005855</td>\n",
       "      <td>0.836152</td>\n",
       "      <td>0.004828</td>\n",
       "    </tr>\n",
       "    <tr>\n",
       "      <th>2</th>\n",
       "      <td>2</td>\n",
       "      <td>0.406237</td>\n",
       "      <td>0.002699</td>\n",
       "      <td>0.403807</td>\n",
       "      <td>0.001359</td>\n",
       "      <td>0.935923</td>\n",
       "      <td>0.003785</td>\n",
       "      <td>0.850419</td>\n",
       "      <td>0.005923</td>\n",
       "      <td>0.853933</td>\n",
       "      <td>0.001699</td>\n",
       "    </tr>\n",
       "    <tr>\n",
       "      <th>3</th>\n",
       "      <td>3</td>\n",
       "      <td>0.372873</td>\n",
       "      <td>0.005479</td>\n",
       "      <td>0.370015</td>\n",
       "      <td>0.007376</td>\n",
       "      <td>0.944489</td>\n",
       "      <td>0.002908</td>\n",
       "      <td>0.860892</td>\n",
       "      <td>0.004765</td>\n",
       "      <td>0.862451</td>\n",
       "      <td>0.002233</td>\n",
       "    </tr>\n",
       "    <tr>\n",
       "      <th>4</th>\n",
       "      <td>4</td>\n",
       "      <td>0.346039</td>\n",
       "      <td>0.005976</td>\n",
       "      <td>0.342154</td>\n",
       "      <td>0.007107</td>\n",
       "      <td>0.951057</td>\n",
       "      <td>0.003735</td>\n",
       "      <td>0.870359</td>\n",
       "      <td>0.009921</td>\n",
       "      <td>0.873188</td>\n",
       "      <td>0.006736</td>\n",
       "    </tr>\n",
       "    <tr>\n",
       "      <th>...</th>\n",
       "      <td>...</td>\n",
       "      <td>...</td>\n",
       "      <td>...</td>\n",
       "      <td>...</td>\n",
       "      <td>...</td>\n",
       "      <td>...</td>\n",
       "      <td>...</td>\n",
       "      <td>...</td>\n",
       "      <td>...</td>\n",
       "      <td>...</td>\n",
       "      <td>...</td>\n",
       "    </tr>\n",
       "    <tr>\n",
       "      <th>295</th>\n",
       "      <td>295</td>\n",
       "      <td>0.030180</td>\n",
       "      <td>0.003512</td>\n",
       "      <td>0.011575</td>\n",
       "      <td>0.000659</td>\n",
       "      <td>0.999202</td>\n",
       "      <td>0.000173</td>\n",
       "      <td>0.992354</td>\n",
       "      <td>0.001389</td>\n",
       "      <td>0.999465</td>\n",
       "      <td>0.000172</td>\n",
       "    </tr>\n",
       "    <tr>\n",
       "      <th>296</th>\n",
       "      <td>296</td>\n",
       "      <td>0.030184</td>\n",
       "      <td>0.003501</td>\n",
       "      <td>0.011563</td>\n",
       "      <td>0.000660</td>\n",
       "      <td>0.999202</td>\n",
       "      <td>0.000173</td>\n",
       "      <td>0.992354</td>\n",
       "      <td>0.001389</td>\n",
       "      <td>0.999465</td>\n",
       "      <td>0.000172</td>\n",
       "    </tr>\n",
       "    <tr>\n",
       "      <th>297</th>\n",
       "      <td>297</td>\n",
       "      <td>0.030127</td>\n",
       "      <td>0.003475</td>\n",
       "      <td>0.011519</td>\n",
       "      <td>0.000651</td>\n",
       "      <td>0.999201</td>\n",
       "      <td>0.000169</td>\n",
       "      <td>0.992354</td>\n",
       "      <td>0.001389</td>\n",
       "      <td>0.999478</td>\n",
       "      <td>0.000193</td>\n",
       "    </tr>\n",
       "    <tr>\n",
       "      <th>298</th>\n",
       "      <td>298</td>\n",
       "      <td>0.030122</td>\n",
       "      <td>0.003480</td>\n",
       "      <td>0.011488</td>\n",
       "      <td>0.000654</td>\n",
       "      <td>0.999200</td>\n",
       "      <td>0.000170</td>\n",
       "      <td>0.992303</td>\n",
       "      <td>0.001394</td>\n",
       "      <td>0.999465</td>\n",
       "      <td>0.000172</td>\n",
       "    </tr>\n",
       "    <tr>\n",
       "      <th>299</th>\n",
       "      <td>299</td>\n",
       "      <td>0.030090</td>\n",
       "      <td>0.003449</td>\n",
       "      <td>0.011438</td>\n",
       "      <td>0.000622</td>\n",
       "      <td>0.999201</td>\n",
       "      <td>0.000169</td>\n",
       "      <td>0.992252</td>\n",
       "      <td>0.001475</td>\n",
       "      <td>0.999478</td>\n",
       "      <td>0.000159</td>\n",
       "    </tr>\n",
       "  </tbody>\n",
       "</table>\n",
       "<p>300 rows × 11 columns</p>\n",
       "</div>"
      ],
      "text/plain": [
       "     iterations  test-Logloss-mean  test-Logloss-std  train-Logloss-mean  \\\n",
       "0             0           0.533929          0.003040            0.532393   \n",
       "1             1           0.456180          0.002954            0.454160   \n",
       "2             2           0.406237          0.002699            0.403807   \n",
       "3             3           0.372873          0.005479            0.370015   \n",
       "4             4           0.346039          0.005976            0.342154   \n",
       "..          ...                ...               ...                 ...   \n",
       "295         295           0.030180          0.003512            0.011575   \n",
       "296         296           0.030184          0.003501            0.011563   \n",
       "297         297           0.030127          0.003475            0.011519   \n",
       "298         298           0.030122          0.003480            0.011488   \n",
       "299         299           0.030090          0.003449            0.011438   \n",
       "\n",
       "     train-Logloss-std  test-AUC-mean  test-AUC-std  test-F1-mean  \\\n",
       "0             0.003798       0.893667      0.003762      0.815636   \n",
       "1             0.002026       0.927275      0.004200      0.835050   \n",
       "2             0.001359       0.935923      0.003785      0.850419   \n",
       "3             0.007376       0.944489      0.002908      0.860892   \n",
       "4             0.007107       0.951057      0.003735      0.870359   \n",
       "..                 ...            ...           ...           ...   \n",
       "295           0.000659       0.999202      0.000173      0.992354   \n",
       "296           0.000660       0.999202      0.000173      0.992354   \n",
       "297           0.000651       0.999201      0.000169      0.992354   \n",
       "298           0.000654       0.999200      0.000170      0.992303   \n",
       "299           0.000622       0.999201      0.000169      0.992252   \n",
       "\n",
       "     test-F1-std  train-F1-mean  train-F1-std  \n",
       "0       0.010702       0.817295      0.008774  \n",
       "1       0.005855       0.836152      0.004828  \n",
       "2       0.005923       0.853933      0.001699  \n",
       "3       0.004765       0.862451      0.002233  \n",
       "4       0.009921       0.873188      0.006736  \n",
       "..           ...            ...           ...  \n",
       "295     0.001389       0.999465      0.000172  \n",
       "296     0.001389       0.999465      0.000172  \n",
       "297     0.001389       0.999478      0.000193  \n",
       "298     0.001394       0.999465      0.000172  \n",
       "299     0.001475       0.999478      0.000159  \n",
       "\n",
       "[300 rows x 11 columns]"
      ]
     },
     "execution_count": 16,
     "metadata": {},
     "output_type": "execute_result"
    }
   ],
   "source": [
    "cv_data"
   ]
  },
  {
   "cell_type": "code",
   "execution_count": 17,
   "id": "2f8b61f2",
   "metadata": {},
   "outputs": [],
   "source": [
    "baseline_auc_valid = cv_data['test-AUC-mean'].tail(1)"
   ]
  },
  {
   "cell_type": "code",
   "execution_count": 18,
   "id": "1c698119",
   "metadata": {},
   "outputs": [],
   "source": [
    "baseline_f1_valid = cv_data['test-F1-mean'].tail(1)"
   ]
  },
  {
   "cell_type": "code",
   "execution_count": 19,
   "id": "2f691f4d",
   "metadata": {},
   "outputs": [
    {
     "data": {
      "text/plain": [
       "299    0.999201\n",
       "Name: test-AUC-mean, dtype: float64"
      ]
     },
     "execution_count": 19,
     "metadata": {},
     "output_type": "execute_result"
    }
   ],
   "source": [
    "baseline_auc_valid"
   ]
  },
  {
   "cell_type": "code",
   "execution_count": 20,
   "id": "42bf5ce1",
   "metadata": {},
   "outputs": [
    {
     "data": {
      "text/plain": [
       "299    0.992252\n",
       "Name: test-F1-mean, dtype: float64"
      ]
     },
     "execution_count": 20,
     "metadata": {},
     "output_type": "execute_result"
    }
   ],
   "source": [
    "baseline_f1_valid"
   ]
  },
  {
   "cell_type": "markdown",
   "id": "ec4af955",
   "metadata": {},
   "source": [
    "### Валидация модели"
   ]
  },
  {
   "cell_type": "code",
   "execution_count": 21,
   "id": "702998b1",
   "metadata": {},
   "outputs": [],
   "source": [
    "model = CatBoostClassifier(loss_function='Logloss',\n",
    "    iterations=300,\n",
    "    custom_loss=['AUC', 'F1'],\n",
    "    random_seed= RS,\n",
    "    learning_rate= 0.2,\n",
    "    verbose=False)"
   ]
  },
  {
   "cell_type": "code",
   "execution_count": 22,
   "id": "56dd3d5b",
   "metadata": {},
   "outputs": [
    {
     "data": {
      "text/plain": [
       "<catboost.core.CatBoostClassifier at 0x1f4c95c2d00>"
      ]
     },
     "execution_count": 22,
     "metadata": {},
     "output_type": "execute_result"
    }
   ],
   "source": [
    "model.fit(features_train, target_train)"
   ]
  },
  {
   "cell_type": "code",
   "execution_count": 23,
   "id": "3fdd63e1",
   "metadata": {},
   "outputs": [],
   "source": [
    "pred = model.predict(features_test)"
   ]
  },
  {
   "cell_type": "code",
   "execution_count": 24,
   "id": "22a1e2c5",
   "metadata": {},
   "outputs": [],
   "source": [
    "baseline_auc_test = roc_auc_score(target_test, pred)"
   ]
  },
  {
   "cell_type": "code",
   "execution_count": 25,
   "id": "b3d25c94",
   "metadata": {},
   "outputs": [
    {
     "data": {
      "text/plain": [
       "0.7484609409313485"
      ]
     },
     "execution_count": 25,
     "metadata": {},
     "output_type": "execute_result"
    }
   ],
   "source": [
    "baseline_auc_test"
   ]
  },
  {
   "cell_type": "code",
   "execution_count": 26,
   "id": "f98c7105",
   "metadata": {},
   "outputs": [],
   "source": [
    "baseline_f1_test = f1_score(target_test, pred)"
   ]
  },
  {
   "cell_type": "code",
   "execution_count": 27,
   "id": "b6574912",
   "metadata": {},
   "outputs": [
    {
     "data": {
      "text/plain": [
       "0.5840707964601769"
      ]
     },
     "execution_count": 27,
     "metadata": {},
     "output_type": "execute_result"
    }
   ],
   "source": [
    "baseline_f1_test"
   ]
  },
  {
   "cell_type": "code",
   "execution_count": 28,
   "id": "84e6e79d",
   "metadata": {},
   "outputs": [
    {
     "data": {
      "image/png": "[encoded data removed]",
      "text/plain": [
       "<Figure size 640x480 with 2 Axes>"
      ]
     },
     "metadata": {},
     "output_type": "display_data"
    }
   ],
   "source": [
    "cm = confusion_matrix(target_test, pred, normalize='true')\n",
    "ConfusionMatrixDisplay(confusion_matrix=cm).plot()\n",
    "plt.show()"
   ]
  },
  {
   "cell_type": "code",
   "execution_count": 29,
   "id": "feb229b8",
   "metadata": {},
   "outputs": [],
   "source": [
    "\n",
    "# Get predicted probabilities for each class\n",
    "preds_proba = model.predict_proba(features_test)\n",
    "# Get predicted RawFormulaVal\n"
   ]
  },
  {
   "cell_type": "code",
   "execution_count": 30,
   "id": "3ac650eb",
   "metadata": {},
   "outputs": [
    {
     "data": {
      "text/plain": [
       "array([[9.91489911e-01, 8.51008890e-03],\n",
       "       [9.99957179e-01, 4.28210790e-05],\n",
       "       [9.99392335e-01, 6.07664810e-04],\n",
       "       ...,\n",
       "       [9.99889511e-01, 1.10489489e-04],\n",
       "       [9.99732907e-01, 2.67093178e-04],\n",
       "       [9.60291863e-01, 3.97081365e-02]])"
      ]
     },
     "execution_count": 30,
     "metadata": {},
     "output_type": "execute_result"
    }
   ],
   "source": [
    "preds_proba"
   ]
  },
  {
   "cell_type": "code",
   "execution_count": 31,
   "id": "ff6d3030",
   "metadata": {},
   "outputs": [],
   "source": [
    "df = pd.DataFrame(preds_proba)"
   ]
  },
  {
   "cell_type": "code",
   "execution_count": 32,
   "id": "d363ae0e",
   "metadata": {},
   "outputs": [
    {
     "data": {
      "text/plain": [
       "95"
      ]
     },
     "execution_count": 32,
     "metadata": {},
     "output_type": "execute_result"
    }
   ],
   "source": [
    "(df[1] > 0.5).sum()"
   ]
  },
  {
   "cell_type": "code",
   "execution_count": 33,
   "id": "c2023359",
   "metadata": {},
   "outputs": [],
   "source": [
    "preds = model.predict(features_test)"
   ]
  },
  {
   "cell_type": "code",
   "execution_count": 34,
   "id": "ab224035",
   "metadata": {},
   "outputs": [
    {
     "data": {
      "text/plain": [
       "array([0, 0, 0, ..., 0, 0, 0], dtype=int64)"
      ]
     },
     "execution_count": 34,
     "metadata": {},
     "output_type": "execute_result"
    }
   ],
   "source": [
    "preds"
   ]
  },
  {
   "cell_type": "markdown",
   "id": "17dcdfd2",
   "metadata": {},
   "source": [
    "test['score'] = model.predict_proba(test[model_cols])\n",
    "sample_submission = test.loc[:, ['report_date', 'client_id', 'score']]"
   ]
  },
  {
   "cell_type": "markdown",
   "id": "cf94442b",
   "metadata": {},
   "source": [
    "## Модель, обученная на клиентах, которые имеют таргет 0 и 1"
   ]
  },
  {
   "cell_type": "code",
   "execution_count": 35,
   "id": "8565f034",
   "metadata": {},
   "outputs": [],
   "source": [
    "train, test = train_test_split(data_f.drop(columns='report_date'), test_size=0.3, random_state=RS, stratify=data['target'])"
   ]
  },
  {
   "cell_type": "code",
   "execution_count": 36,
   "id": "0ffb2d93",
   "metadata": {},
   "outputs": [],
   "source": [
    "one_id = train.query('target == 1')['client_id']"
   ]
  },
  {
   "cell_type": "code",
   "execution_count": 37,
   "id": "0176c201",
   "metadata": {},
   "outputs": [],
   "source": [
    "clients_changed = train.query('client_id in @one_id')"
   ]
  },
  {
   "cell_type": "code",
   "execution_count": 38,
   "id": "bc22859e",
   "metadata": {},
   "outputs": [
    {
     "data": {
      "text/html": [
       "<div>\n",
       "<style scoped>\n",
       "    .dataframe tbody tr th:only-of-type {\n",
       "        vertical-align: middle;\n",
       "    }\n",
       "\n",
       "    .dataframe tbody tr th {\n",
       "        vertical-align: top;\n",
       "    }\n",
       "\n",
       "    .dataframe thead th {\n",
       "        text-align: right;\n",
       "    }\n",
       "</style>\n",
       "<table border=\"1\" class=\"dataframe\">\n",
       "  <thead>\n",
       "    <tr style=\"text-align: right;\">\n",
       "      <th></th>\n",
       "      <th>client_id</th>\n",
       "      <th>target</th>\n",
       "      <th>col1453</th>\n",
       "      <th>col2167</th>\n",
       "      <th>col2168</th>\n",
       "      <th>col2169</th>\n",
       "      <th>col2170</th>\n",
       "      <th>col2171</th>\n",
       "      <th>col2172</th>\n",
       "      <th>col2173</th>\n",
       "      <th>...</th>\n",
       "      <th>col2365</th>\n",
       "      <th>col2366</th>\n",
       "      <th>col2388</th>\n",
       "      <th>col2389</th>\n",
       "      <th>col2390</th>\n",
       "      <th>col2460</th>\n",
       "      <th>col2461</th>\n",
       "      <th>col2462</th>\n",
       "      <th>col2470</th>\n",
       "      <th>col2663</th>\n",
       "    </tr>\n",
       "  </thead>\n",
       "  <tbody>\n",
       "    <tr>\n",
       "      <th>4158</th>\n",
       "      <td>3743</td>\n",
       "      <td>1</td>\n",
       "      <td>0</td>\n",
       "      <td>2.0</td>\n",
       "      <td>3.0</td>\n",
       "      <td>3.0</td>\n",
       "      <td>3.0</td>\n",
       "      <td>3.0</td>\n",
       "      <td>3.0</td>\n",
       "      <td>3.0</td>\n",
       "      <td>...</td>\n",
       "      <td>4.0</td>\n",
       "      <td>4.0</td>\n",
       "      <td>92.55</td>\n",
       "      <td>92.55</td>\n",
       "      <td>92.55</td>\n",
       "      <td>5.30</td>\n",
       "      <td>5.30</td>\n",
       "      <td>5.30</td>\n",
       "      <td>2.0</td>\n",
       "      <td>0.256061</td>\n",
       "    </tr>\n",
       "    <tr>\n",
       "      <th>8666</th>\n",
       "      <td>6612</td>\n",
       "      <td>1</td>\n",
       "      <td>0</td>\n",
       "      <td>0.0</td>\n",
       "      <td>1.0</td>\n",
       "      <td>2.0</td>\n",
       "      <td>2.0</td>\n",
       "      <td>2.0</td>\n",
       "      <td>2.0</td>\n",
       "      <td>1.0</td>\n",
       "      <td>...</td>\n",
       "      <td>2.0</td>\n",
       "      <td>2.0</td>\n",
       "      <td>56.99</td>\n",
       "      <td>56.99</td>\n",
       "      <td>56.99</td>\n",
       "      <td>2.06</td>\n",
       "      <td>2.06</td>\n",
       "      <td>2.06</td>\n",
       "      <td>18.0</td>\n",
       "      <td>0.256061</td>\n",
       "    </tr>\n",
       "    <tr>\n",
       "      <th>10839</th>\n",
       "      <td>4814</td>\n",
       "      <td>1</td>\n",
       "      <td>0</td>\n",
       "      <td>0.0</td>\n",
       "      <td>0.0</td>\n",
       "      <td>0.0</td>\n",
       "      <td>0.0</td>\n",
       "      <td>0.0</td>\n",
       "      <td>0.0</td>\n",
       "      <td>0.0</td>\n",
       "      <td>...</td>\n",
       "      <td>2.0</td>\n",
       "      <td>2.0</td>\n",
       "      <td>63.40</td>\n",
       "      <td>63.40</td>\n",
       "      <td>63.40</td>\n",
       "      <td>2.25</td>\n",
       "      <td>2.25</td>\n",
       "      <td>2.25</td>\n",
       "      <td>548.0</td>\n",
       "      <td>0.259377</td>\n",
       "    </tr>\n",
       "    <tr>\n",
       "      <th>3043</th>\n",
       "      <td>3547</td>\n",
       "      <td>0</td>\n",
       "      <td>0</td>\n",
       "      <td>0.0</td>\n",
       "      <td>0.0</td>\n",
       "      <td>2.0</td>\n",
       "      <td>3.0</td>\n",
       "      <td>3.0</td>\n",
       "      <td>3.0</td>\n",
       "      <td>0.0</td>\n",
       "      <td>...</td>\n",
       "      <td>1.0</td>\n",
       "      <td>1.0</td>\n",
       "      <td>35.56</td>\n",
       "      <td>35.56</td>\n",
       "      <td>35.56</td>\n",
       "      <td>1.40</td>\n",
       "      <td>1.40</td>\n",
       "      <td>1.40</td>\n",
       "      <td>58.0</td>\n",
       "      <td>0.260907</td>\n",
       "    </tr>\n",
       "    <tr>\n",
       "      <th>9480</th>\n",
       "      <td>2476</td>\n",
       "      <td>0</td>\n",
       "      <td>0</td>\n",
       "      <td>0.0</td>\n",
       "      <td>0.0</td>\n",
       "      <td>0.0</td>\n",
       "      <td>0.0</td>\n",
       "      <td>2.0</td>\n",
       "      <td>2.0</td>\n",
       "      <td>0.0</td>\n",
       "      <td>...</td>\n",
       "      <td>3.0</td>\n",
       "      <td>3.0</td>\n",
       "      <td>77.29</td>\n",
       "      <td>77.29</td>\n",
       "      <td>77.29</td>\n",
       "      <td>2.93</td>\n",
       "      <td>2.93</td>\n",
       "      <td>2.93</td>\n",
       "      <td>122.0</td>\n",
       "      <td>0.258966</td>\n",
       "    </tr>\n",
       "  </tbody>\n",
       "</table>\n",
       "<p>5 rows × 53 columns</p>\n",
       "</div>"
      ],
      "text/plain": [
       "       client_id  target  col1453  col2167  col2168  col2169  col2170  \\\n",
       "4158        3743       1        0      2.0      3.0      3.0      3.0   \n",
       "8666        6612       1        0      0.0      1.0      2.0      2.0   \n",
       "10839       4814       1        0      0.0      0.0      0.0      0.0   \n",
       "3043        3547       0        0      0.0      0.0      2.0      3.0   \n",
       "9480        2476       0        0      0.0      0.0      0.0      0.0   \n",
       "\n",
       "       col2171  col2172  col2173  ...  col2365  col2366  col2388  col2389  \\\n",
       "4158       3.0      3.0      3.0  ...      4.0      4.0    92.55    92.55   \n",
       "8666       2.0      2.0      1.0  ...      2.0      2.0    56.99    56.99   \n",
       "10839      0.0      0.0      0.0  ...      2.0      2.0    63.40    63.40   \n",
       "3043       3.0      3.0      0.0  ...      1.0      1.0    35.56    35.56   \n",
       "9480       2.0      2.0      0.0  ...      3.0      3.0    77.29    77.29   \n",
       "\n",
       "       col2390  col2460  col2461  col2462  col2470   col2663  \n",
       "4158     92.55     5.30     5.30     5.30      2.0  0.256061  \n",
       "8666     56.99     2.06     2.06     2.06     18.0  0.256061  \n",
       "10839    63.40     2.25     2.25     2.25    548.0  0.259377  \n",
       "3043     35.56     1.40     1.40     1.40     58.0  0.260907  \n",
       "9480     77.29     2.93     2.93     2.93    122.0  0.258966  \n",
       "\n",
       "[5 rows x 53 columns]"
      ]
     },
     "execution_count": 38,
     "metadata": {},
     "output_type": "execute_result"
    }
   ],
   "source": [
    "clients_changed.head()"
   ]
  },
  {
   "cell_type": "code",
   "execution_count": 39,
   "id": "614d4440",
   "metadata": {},
   "outputs": [],
   "source": [
    "features_train = clients_changed.drop(columns=['target', 'client_id'])"
   ]
  },
  {
   "cell_type": "code",
   "execution_count": 40,
   "id": "431b45b7",
   "metadata": {},
   "outputs": [],
   "source": [
    "target_train = clients_changed['target']"
   ]
  },
  {
   "cell_type": "code",
   "execution_count": 41,
   "id": "47368a92",
   "metadata": {},
   "outputs": [],
   "source": [
    "features_train, target_train = SMOTE().fit_resample(features_train, target_train)"
   ]
  },
  {
   "cell_type": "code",
   "execution_count": 42,
   "id": "6df5f278",
   "metadata": {},
   "outputs": [],
   "source": [
    "params = {\n",
    "    'loss_function': 'Logloss',\n",
    "    'iterations': 300,\n",
    "    'custom_loss': ['AUC', 'F1'],\n",
    "    'random_seed': RS,\n",
    "    'learning_rate': 0.2\n",
    "}"
   ]
  },
  {
   "cell_type": "code",
   "execution_count": 43,
   "id": "8b69401e",
   "metadata": {},
   "outputs": [
    {
     "data": {
      "application/vnd.jupyter.widget-view+json": {
       "model_id": "be3834b9c0b6406a9630ad724c159e3b",
       "version_major": 2,
       "version_minor": 0
      },
      "text/plain": [
       "MetricVisualizer(layout=Layout(align_self='stretch', height='500px'))"
      ]
     },
     "metadata": {},
     "output_type": "display_data"
    },
    {
     "name": "stdout",
     "output_type": "stream",
     "text": [
      "Training on fold [0/5]\n",
      "\n",
      "bestTest = 0.3509330006\n",
      "bestIteration = 88\n",
      "\n",
      "Training on fold [1/5]\n",
      "\n",
      "bestTest = 0.3021826011\n",
      "bestIteration = 124\n",
      "\n",
      "Training on fold [2/5]\n",
      "\n",
      "bestTest = 0.3834888943\n",
      "bestIteration = 40\n",
      "\n",
      "Training on fold [3/5]\n",
      "\n",
      "bestTest = 0.373247063\n",
      "bestIteration = 88\n",
      "\n",
      "Training on fold [4/5]\n",
      "\n",
      "bestTest = 0.3164678632\n",
      "bestIteration = 79\n",
      "\n"
     ]
    }
   ],
   "source": [
    "cv_data = cv(\n",
    "    params=params,\n",
    "    pool=Pool(features_train, label=target_train),\n",
    "    fold_count=5, # Разбивка выборки на 5 кусочков\n",
    "    shuffle=True, # Перемешаем наши данные\n",
    "    partition_random_seed=RS,\n",
    "    plot=True,\n",
    "    stratified=True, \n",
    "    verbose=False\n",
    ")"
   ]
  },
  {
   "cell_type": "code",
   "execution_count": 44,
   "id": "f4d6ed7e",
   "metadata": {},
   "outputs": [
    {
     "data": {
      "text/html": [
       "<div>\n",
       "<style scoped>\n",
       "    .dataframe tbody tr th:only-of-type {\n",
       "        vertical-align: middle;\n",
       "    }\n",
       "\n",
       "    .dataframe tbody tr th {\n",
       "        vertical-align: top;\n",
       "    }\n",
       "\n",
       "    .dataframe thead th {\n",
       "        text-align: right;\n",
       "    }\n",
       "</style>\n",
       "<table border=\"1\" class=\"dataframe\">\n",
       "  <thead>\n",
       "    <tr style=\"text-align: right;\">\n",
       "      <th></th>\n",
       "      <th>iterations</th>\n",
       "      <th>test-Logloss-mean</th>\n",
       "      <th>test-Logloss-std</th>\n",
       "      <th>train-Logloss-mean</th>\n",
       "      <th>train-Logloss-std</th>\n",
       "      <th>test-AUC-mean</th>\n",
       "      <th>test-AUC-std</th>\n",
       "      <th>test-F1-mean</th>\n",
       "      <th>test-F1-std</th>\n",
       "      <th>train-F1-mean</th>\n",
       "      <th>train-F1-std</th>\n",
       "    </tr>\n",
       "  </thead>\n",
       "  <tbody>\n",
       "    <tr>\n",
       "      <th>0</th>\n",
       "      <td>0</td>\n",
       "      <td>0.651870</td>\n",
       "      <td>0.005156</td>\n",
       "      <td>0.633269</td>\n",
       "      <td>0.006733</td>\n",
       "      <td>0.715184</td>\n",
       "      <td>0.044672</td>\n",
       "      <td>0.640424</td>\n",
       "      <td>0.063668</td>\n",
       "      <td>0.715374</td>\n",
       "      <td>0.037508</td>\n",
       "    </tr>\n",
       "    <tr>\n",
       "      <th>1</th>\n",
       "      <td>1</td>\n",
       "      <td>0.610001</td>\n",
       "      <td>0.014400</td>\n",
       "      <td>0.576906</td>\n",
       "      <td>0.010386</td>\n",
       "      <td>0.779495</td>\n",
       "      <td>0.027596</td>\n",
       "      <td>0.713307</td>\n",
       "      <td>0.032840</td>\n",
       "      <td>0.786187</td>\n",
       "      <td>0.021446</td>\n",
       "    </tr>\n",
       "    <tr>\n",
       "      <th>2</th>\n",
       "      <td>2</td>\n",
       "      <td>0.587043</td>\n",
       "      <td>0.016565</td>\n",
       "      <td>0.546336</td>\n",
       "      <td>0.012976</td>\n",
       "      <td>0.806719</td>\n",
       "      <td>0.035304</td>\n",
       "      <td>0.741077</td>\n",
       "      <td>0.041468</td>\n",
       "      <td>0.813366</td>\n",
       "      <td>0.016397</td>\n",
       "    </tr>\n",
       "    <tr>\n",
       "      <th>3</th>\n",
       "      <td>3</td>\n",
       "      <td>0.565397</td>\n",
       "      <td>0.013332</td>\n",
       "      <td>0.509222</td>\n",
       "      <td>0.013715</td>\n",
       "      <td>0.819081</td>\n",
       "      <td>0.025004</td>\n",
       "      <td>0.742734</td>\n",
       "      <td>0.041625</td>\n",
       "      <td>0.837339</td>\n",
       "      <td>0.015797</td>\n",
       "    </tr>\n",
       "    <tr>\n",
       "      <th>4</th>\n",
       "      <td>4</td>\n",
       "      <td>0.553422</td>\n",
       "      <td>0.011697</td>\n",
       "      <td>0.481376</td>\n",
       "      <td>0.017030</td>\n",
       "      <td>0.827573</td>\n",
       "      <td>0.021580</td>\n",
       "      <td>0.741384</td>\n",
       "      <td>0.037684</td>\n",
       "      <td>0.846312</td>\n",
       "      <td>0.020766</td>\n",
       "    </tr>\n",
       "    <tr>\n",
       "      <th>...</th>\n",
       "      <td>...</td>\n",
       "      <td>...</td>\n",
       "      <td>...</td>\n",
       "      <td>...</td>\n",
       "      <td>...</td>\n",
       "      <td>...</td>\n",
       "      <td>...</td>\n",
       "      <td>...</td>\n",
       "      <td>...</td>\n",
       "      <td>...</td>\n",
       "      <td>...</td>\n",
       "    </tr>\n",
       "    <tr>\n",
       "      <th>295</th>\n",
       "      <td>295</td>\n",
       "      <td>0.402936</td>\n",
       "      <td>0.046503</td>\n",
       "      <td>0.012104</td>\n",
       "      <td>0.001938</td>\n",
       "      <td>0.930798</td>\n",
       "      <td>0.009772</td>\n",
       "      <td>0.861744</td>\n",
       "      <td>0.018347</td>\n",
       "      <td>0.996720</td>\n",
       "      <td>0.001120</td>\n",
       "    </tr>\n",
       "    <tr>\n",
       "      <th>296</th>\n",
       "      <td>296</td>\n",
       "      <td>0.403585</td>\n",
       "      <td>0.046610</td>\n",
       "      <td>0.012060</td>\n",
       "      <td>0.001961</td>\n",
       "      <td>0.930583</td>\n",
       "      <td>0.009769</td>\n",
       "      <td>0.859774</td>\n",
       "      <td>0.020649</td>\n",
       "      <td>0.996716</td>\n",
       "      <td>0.001123</td>\n",
       "    </tr>\n",
       "    <tr>\n",
       "      <th>297</th>\n",
       "      <td>297</td>\n",
       "      <td>0.403619</td>\n",
       "      <td>0.046470</td>\n",
       "      <td>0.012036</td>\n",
       "      <td>0.001977</td>\n",
       "      <td>0.930583</td>\n",
       "      <td>0.009792</td>\n",
       "      <td>0.859811</td>\n",
       "      <td>0.020299</td>\n",
       "      <td>0.996720</td>\n",
       "      <td>0.001120</td>\n",
       "    </tr>\n",
       "    <tr>\n",
       "      <th>298</th>\n",
       "      <td>298</td>\n",
       "      <td>0.404126</td>\n",
       "      <td>0.046934</td>\n",
       "      <td>0.011993</td>\n",
       "      <td>0.001988</td>\n",
       "      <td>0.930744</td>\n",
       "      <td>0.009488</td>\n",
       "      <td>0.859811</td>\n",
       "      <td>0.020299</td>\n",
       "      <td>0.996720</td>\n",
       "      <td>0.001120</td>\n",
       "    </tr>\n",
       "    <tr>\n",
       "      <th>299</th>\n",
       "      <td>299</td>\n",
       "      <td>0.404483</td>\n",
       "      <td>0.047146</td>\n",
       "      <td>0.011949</td>\n",
       "      <td>0.001992</td>\n",
       "      <td>0.930422</td>\n",
       "      <td>0.009931</td>\n",
       "      <td>0.859811</td>\n",
       "      <td>0.020299</td>\n",
       "      <td>0.996720</td>\n",
       "      <td>0.001120</td>\n",
       "    </tr>\n",
       "  </tbody>\n",
       "</table>\n",
       "<p>300 rows × 11 columns</p>\n",
       "</div>"
      ],
      "text/plain": [
       "     iterations  test-Logloss-mean  test-Logloss-std  train-Logloss-mean  \\\n",
       "0             0           0.651870          0.005156            0.633269   \n",
       "1             1           0.610001          0.014400            0.576906   \n",
       "2             2           0.587043          0.016565            0.546336   \n",
       "3             3           0.565397          0.013332            0.509222   \n",
       "4             4           0.553422          0.011697            0.481376   \n",
       "..          ...                ...               ...                 ...   \n",
       "295         295           0.402936          0.046503            0.012104   \n",
       "296         296           0.403585          0.046610            0.012060   \n",
       "297         297           0.403619          0.046470            0.012036   \n",
       "298         298           0.404126          0.046934            0.011993   \n",
       "299         299           0.404483          0.047146            0.011949   \n",
       "\n",
       "     train-Logloss-std  test-AUC-mean  test-AUC-std  test-F1-mean  \\\n",
       "0             0.006733       0.715184      0.044672      0.640424   \n",
       "1             0.010386       0.779495      0.027596      0.713307   \n",
       "2             0.012976       0.806719      0.035304      0.741077   \n",
       "3             0.013715       0.819081      0.025004      0.742734   \n",
       "4             0.017030       0.827573      0.021580      0.741384   \n",
       "..                 ...            ...           ...           ...   \n",
       "295           0.001938       0.930798      0.009772      0.861744   \n",
       "296           0.001961       0.930583      0.009769      0.859774   \n",
       "297           0.001977       0.930583      0.009792      0.859811   \n",
       "298           0.001988       0.930744      0.009488      0.859811   \n",
       "299           0.001992       0.930422      0.009931      0.859811   \n",
       "\n",
       "     test-F1-std  train-F1-mean  train-F1-std  \n",
       "0       0.063668       0.715374      0.037508  \n",
       "1       0.032840       0.786187      0.021446  \n",
       "2       0.041468       0.813366      0.016397  \n",
       "3       0.041625       0.837339      0.015797  \n",
       "4       0.037684       0.846312      0.020766  \n",
       "..           ...            ...           ...  \n",
       "295     0.018347       0.996720      0.001120  \n",
       "296     0.020649       0.996716      0.001123  \n",
       "297     0.020299       0.996720      0.001120  \n",
       "298     0.020299       0.996720      0.001120  \n",
       "299     0.020299       0.996720      0.001120  \n",
       "\n",
       "[300 rows x 11 columns]"
      ]
     },
     "execution_count": 44,
     "metadata": {},
     "output_type": "execute_result"
    }
   ],
   "source": [
    "cv_data"
   ]
  },
  {
   "cell_type": "code",
   "execution_count": 45,
   "id": "7fd8d5ab",
   "metadata": {},
   "outputs": [],
   "source": [
    "changed_auc_valid = cv_data['test-AUC-mean'].tail(1)"
   ]
  },
  {
   "cell_type": "code",
   "execution_count": 46,
   "id": "bc8e722f",
   "metadata": {},
   "outputs": [],
   "source": [
    "changed_f1_valid = cv_data['test-F1-mean'].tail(1)"
   ]
  },
  {
   "cell_type": "code",
   "execution_count": 47,
   "id": "97321753",
   "metadata": {},
   "outputs": [
    {
     "data": {
      "text/plain": [
       "299    0.930422\n",
       "Name: test-AUC-mean, dtype: float64"
      ]
     },
     "execution_count": 47,
     "metadata": {},
     "output_type": "execute_result"
    }
   ],
   "source": [
    "changed_auc_valid"
   ]
  },
  {
   "cell_type": "code",
   "execution_count": 48,
   "id": "829143f5",
   "metadata": {},
   "outputs": [
    {
     "data": {
      "text/plain": [
       "299    0.859811\n",
       "Name: test-F1-mean, dtype: float64"
      ]
     },
     "execution_count": 48,
     "metadata": {},
     "output_type": "execute_result"
    }
   ],
   "source": [
    "changed_f1_valid"
   ]
  },
  {
   "cell_type": "markdown",
   "id": "30cd3921",
   "metadata": {},
   "source": [
    "### Валидация модели"
   ]
  },
  {
   "cell_type": "code",
   "execution_count": 49,
   "id": "d78b039f",
   "metadata": {},
   "outputs": [],
   "source": [
    "model = CatBoostClassifier(loss_function='Logloss',\n",
    "    iterations=300,\n",
    "    custom_loss=['AUC', 'F1'],\n",
    "    random_seed= RS,\n",
    "    learning_rate= 0.2,\n",
    "    verbose=False)"
   ]
  },
  {
   "cell_type": "code",
   "execution_count": 50,
   "id": "b0a180e3",
   "metadata": {},
   "outputs": [
    {
     "data": {
      "text/plain": [
       "<catboost.core.CatBoostClassifier at 0x1f4c97ec8e0>"
      ]
     },
     "execution_count": 50,
     "metadata": {},
     "output_type": "execute_result"
    }
   ],
   "source": [
    "model.fit(features_train, target_train)"
   ]
  },
  {
   "cell_type": "code",
   "execution_count": 51,
   "id": "16f6abbc",
   "metadata": {},
   "outputs": [],
   "source": [
    "features_test = test.drop(columns=['target', 'client_id'])"
   ]
  },
  {
   "cell_type": "code",
   "execution_count": 52,
   "id": "76f03c34",
   "metadata": {},
   "outputs": [],
   "source": [
    "target_test = test['target']"
   ]
  },
  {
   "cell_type": "code",
   "execution_count": 53,
   "id": "f0a2f3e4",
   "metadata": {},
   "outputs": [],
   "source": [
    "pred = model.predict(features_test)"
   ]
  },
  {
   "cell_type": "code",
   "execution_count": 54,
   "id": "2d32924d",
   "metadata": {},
   "outputs": [],
   "source": [
    "changed_auc_test = roc_auc_score(target_test, pred)"
   ]
  },
  {
   "cell_type": "code",
   "execution_count": 55,
   "id": "2763d052",
   "metadata": {},
   "outputs": [
    {
     "data": {
      "text/plain": [
       "0.5004419350037932"
      ]
     },
     "execution_count": 55,
     "metadata": {},
     "output_type": "execute_result"
    }
   ],
   "source": [
    "changed_auc_test"
   ]
  },
  {
   "cell_type": "code",
   "execution_count": 56,
   "id": "a47603a7",
   "metadata": {},
   "outputs": [],
   "source": [
    "changed_f1_test = f1_score(target_test, pred)"
   ]
  },
  {
   "cell_type": "code",
   "execution_count": 57,
   "id": "1fce1df3",
   "metadata": {},
   "outputs": [
    {
     "data": {
      "text/plain": [
       "0.058519793459552494"
      ]
     },
     "execution_count": 57,
     "metadata": {},
     "output_type": "execute_result"
    }
   ],
   "source": [
    "changed_f1_test"
   ]
  },
  {
   "cell_type": "code",
   "execution_count": 58,
   "id": "63d896ea",
   "metadata": {},
   "outputs": [
    {
     "data": {
      "image/png": "[encoded data removed]",
      "text/plain": [
       "<Figure size 640x480 with 2 Axes>"
      ]
     },
     "metadata": {},
     "output_type": "display_data"
    }
   ],
   "source": [
    "cm = confusion_matrix(target_test, pred, normalize='true')\n",
    "ConfusionMatrixDisplay(confusion_matrix=cm).plot()\n",
    "plt.show()"
   ]
  },
  {
   "cell_type": "markdown",
   "id": "175ccbe8",
   "metadata": {},
   "source": [
    "Делаем вывод о том, что модель не обучается на таких данных"
   ]
  },
  {
   "cell_type": "markdown",
   "id": "8b97ba83",
   "metadata": {},
   "source": [
    "## Модель, обученная на измененных данных - добавили наблюдения с таргетом 1 для получения трех единиц по уникальному пользователю, совершившему покупку"
   ]
  },
  {
   "cell_type": "code",
   "execution_count": 59,
   "id": "b4963324",
   "metadata": {},
   "outputs": [],
   "source": [
    "train, test = train_test_split(data_f.drop(columns='report_date'), test_size=0.3, random_state=RS, stratify=data['target'])"
   ]
  },
  {
   "cell_type": "code",
   "execution_count": 60,
   "id": "31ff8bd1",
   "metadata": {},
   "outputs": [],
   "source": [
    "clients = train.query('target == 1').groupby('client_id').agg('count').reset_index()"
   ]
  },
  {
   "cell_type": "code",
   "execution_count": 61,
   "id": "ce81e59e",
   "metadata": {},
   "outputs": [],
   "source": [
    "add_two = clients.query('target == 1')['client_id']"
   ]
  },
  {
   "cell_type": "code",
   "execution_count": 62,
   "id": "f295145f",
   "metadata": {},
   "outputs": [
    {
     "data": {
      "text/plain": [
       "1       210\n",
       "2       264\n",
       "6       354\n",
       "7       415\n",
       "11      474\n",
       "       ... \n",
       "157    7262\n",
       "158    7331\n",
       "160    7652\n",
       "162    8041\n",
       "163    8067\n",
       "Name: client_id, Length: 63, dtype: int64"
      ]
     },
     "execution_count": 62,
     "metadata": {},
     "output_type": "execute_result"
    }
   ],
   "source": [
    "add_two"
   ]
  },
  {
   "cell_type": "code",
   "execution_count": 63,
   "id": "404782df",
   "metadata": {},
   "outputs": [],
   "source": [
    "add_one = clients.query('target == 2')['client_id']"
   ]
  },
  {
   "cell_type": "code",
   "execution_count": 64,
   "id": "a18d553e",
   "metadata": {},
   "outputs": [],
   "source": [
    "add_two_values = train.query('client_id in @add_two & target==1').groupby('client_id').agg('mean').reset_index()"
   ]
  },
  {
   "cell_type": "code",
   "execution_count": 65,
   "id": "1edde0dc",
   "metadata": {},
   "outputs": [],
   "source": [
    "add_one_values = train.query('client_id in @add_one & target==1')"
   ]
  },
  {
   "cell_type": "code",
   "execution_count": 66,
   "id": "14199d35",
   "metadata": {},
   "outputs": [],
   "source": [
    "data_added = pd.concat([train, add_two_values, add_two_values, add_one_values], axis=0)"
   ]
  },
  {
   "cell_type": "code",
   "execution_count": 67,
   "id": "bc2d1519",
   "metadata": {},
   "outputs": [
    {
     "data": {
      "text/html": [
       "<div>\n",
       "<style scoped>\n",
       "    .dataframe tbody tr th:only-of-type {\n",
       "        vertical-align: middle;\n",
       "    }\n",
       "\n",
       "    .dataframe tbody tr th {\n",
       "        vertical-align: top;\n",
       "    }\n",
       "\n",
       "    .dataframe thead th {\n",
       "        text-align: right;\n",
       "    }\n",
       "</style>\n",
       "<table border=\"1\" class=\"dataframe\">\n",
       "  <thead>\n",
       "    <tr style=\"text-align: right;\">\n",
       "      <th></th>\n",
       "      <th>client_id</th>\n",
       "      <th>target</th>\n",
       "      <th>col1453</th>\n",
       "      <th>col2167</th>\n",
       "      <th>col2168</th>\n",
       "      <th>col2169</th>\n",
       "      <th>col2170</th>\n",
       "      <th>col2171</th>\n",
       "      <th>col2172</th>\n",
       "      <th>col2173</th>\n",
       "      <th>...</th>\n",
       "      <th>col2365</th>\n",
       "      <th>col2366</th>\n",
       "      <th>col2388</th>\n",
       "      <th>col2389</th>\n",
       "      <th>col2390</th>\n",
       "      <th>col2460</th>\n",
       "      <th>col2461</th>\n",
       "      <th>col2462</th>\n",
       "      <th>col2470</th>\n",
       "      <th>col2663</th>\n",
       "    </tr>\n",
       "  </thead>\n",
       "  <tbody>\n",
       "    <tr>\n",
       "      <th>12103</th>\n",
       "      <td>1948</td>\n",
       "      <td>0.0</td>\n",
       "      <td>0.0</td>\n",
       "      <td>0.0</td>\n",
       "      <td>0.0</td>\n",
       "      <td>0.0</td>\n",
       "      <td>0.0</td>\n",
       "      <td>2.0</td>\n",
       "      <td>3.0</td>\n",
       "      <td>0.0</td>\n",
       "      <td>...</td>\n",
       "      <td>1.0</td>\n",
       "      <td>1.0</td>\n",
       "      <td>33.65</td>\n",
       "      <td>33.65</td>\n",
       "      <td>33.65</td>\n",
       "      <td>1.13</td>\n",
       "      <td>1.13</td>\n",
       "      <td>1.130</td>\n",
       "      <td>162.000000</td>\n",
       "      <td>0.257549</td>\n",
       "    </tr>\n",
       "    <tr>\n",
       "      <th>6774</th>\n",
       "      <td>4756</td>\n",
       "      <td>0.0</td>\n",
       "      <td>1.0</td>\n",
       "      <td>0.0</td>\n",
       "      <td>0.0</td>\n",
       "      <td>0.0</td>\n",
       "      <td>0.0</td>\n",
       "      <td>3.0</td>\n",
       "      <td>3.0</td>\n",
       "      <td>0.0</td>\n",
       "      <td>...</td>\n",
       "      <td>2.0</td>\n",
       "      <td>2.0</td>\n",
       "      <td>59.49</td>\n",
       "      <td>59.49</td>\n",
       "      <td>59.49</td>\n",
       "      <td>1.83</td>\n",
       "      <td>1.83</td>\n",
       "      <td>1.830</td>\n",
       "      <td>109.000000</td>\n",
       "      <td>0.258306</td>\n",
       "    </tr>\n",
       "    <tr>\n",
       "      <th>12287</th>\n",
       "      <td>3605</td>\n",
       "      <td>0.0</td>\n",
       "      <td>0.0</td>\n",
       "      <td>0.0</td>\n",
       "      <td>0.0</td>\n",
       "      <td>0.0</td>\n",
       "      <td>0.0</td>\n",
       "      <td>0.0</td>\n",
       "      <td>0.0</td>\n",
       "      <td>0.0</td>\n",
       "      <td>...</td>\n",
       "      <td>3.0</td>\n",
       "      <td>3.0</td>\n",
       "      <td>79.58</td>\n",
       "      <td>79.58</td>\n",
       "      <td>79.58</td>\n",
       "      <td>3.98</td>\n",
       "      <td>3.98</td>\n",
       "      <td>3.980</td>\n",
       "      <td>390.000000</td>\n",
       "      <td>0.257348</td>\n",
       "    </tr>\n",
       "    <tr>\n",
       "      <th>8531</th>\n",
       "      <td>1680</td>\n",
       "      <td>0.0</td>\n",
       "      <td>0.0</td>\n",
       "      <td>0.0</td>\n",
       "      <td>0.0</td>\n",
       "      <td>0.0</td>\n",
       "      <td>0.0</td>\n",
       "      <td>0.0</td>\n",
       "      <td>4.0</td>\n",
       "      <td>0.0</td>\n",
       "      <td>...</td>\n",
       "      <td>1.0</td>\n",
       "      <td>1.0</td>\n",
       "      <td>32.02</td>\n",
       "      <td>20.48</td>\n",
       "      <td>26.25</td>\n",
       "      <td>2.02</td>\n",
       "      <td>1.17</td>\n",
       "      <td>1.595</td>\n",
       "      <td>297.000000</td>\n",
       "      <td>0.256261</td>\n",
       "    </tr>\n",
       "    <tr>\n",
       "      <th>6719</th>\n",
       "      <td>2574</td>\n",
       "      <td>0.0</td>\n",
       "      <td>0.0</td>\n",
       "      <td>0.0</td>\n",
       "      <td>0.0</td>\n",
       "      <td>0.0</td>\n",
       "      <td>0.0</td>\n",
       "      <td>0.0</td>\n",
       "      <td>2.0</td>\n",
       "      <td>0.0</td>\n",
       "      <td>...</td>\n",
       "      <td>1.0</td>\n",
       "      <td>1.0</td>\n",
       "      <td>37.07</td>\n",
       "      <td>37.07</td>\n",
       "      <td>37.07</td>\n",
       "      <td>2.28</td>\n",
       "      <td>2.28</td>\n",
       "      <td>2.280</td>\n",
       "      <td>335.000000</td>\n",
       "      <td>0.256261</td>\n",
       "    </tr>\n",
       "    <tr>\n",
       "      <th>...</th>\n",
       "      <td>...</td>\n",
       "      <td>...</td>\n",
       "      <td>...</td>\n",
       "      <td>...</td>\n",
       "      <td>...</td>\n",
       "      <td>...</td>\n",
       "      <td>...</td>\n",
       "      <td>...</td>\n",
       "      <td>...</td>\n",
       "      <td>...</td>\n",
       "      <td>...</td>\n",
       "      <td>...</td>\n",
       "      <td>...</td>\n",
       "      <td>...</td>\n",
       "      <td>...</td>\n",
       "      <td>...</td>\n",
       "      <td>...</td>\n",
       "      <td>...</td>\n",
       "      <td>...</td>\n",
       "      <td>...</td>\n",
       "      <td>...</td>\n",
       "    </tr>\n",
       "    <tr>\n",
       "      <th>12469</th>\n",
       "      <td>7744</td>\n",
       "      <td>1.0</td>\n",
       "      <td>0.0</td>\n",
       "      <td>2.0</td>\n",
       "      <td>4.0</td>\n",
       "      <td>4.0</td>\n",
       "      <td>4.0</td>\n",
       "      <td>4.0</td>\n",
       "      <td>4.0</td>\n",
       "      <td>0.0</td>\n",
       "      <td>...</td>\n",
       "      <td>2.0</td>\n",
       "      <td>2.0</td>\n",
       "      <td>33.10</td>\n",
       "      <td>32.90</td>\n",
       "      <td>33.05</td>\n",
       "      <td>0.00</td>\n",
       "      <td>0.00</td>\n",
       "      <td>0.000</td>\n",
       "      <td>5.000000</td>\n",
       "      <td>0.322993</td>\n",
       "    </tr>\n",
       "    <tr>\n",
       "      <th>9820</th>\n",
       "      <td>3849</td>\n",
       "      <td>1.0</td>\n",
       "      <td>0.0</td>\n",
       "      <td>0.0</td>\n",
       "      <td>0.0</td>\n",
       "      <td>0.0</td>\n",
       "      <td>0.0</td>\n",
       "      <td>0.0</td>\n",
       "      <td>3.0</td>\n",
       "      <td>0.0</td>\n",
       "      <td>...</td>\n",
       "      <td>1.0</td>\n",
       "      <td>1.0</td>\n",
       "      <td>37.30</td>\n",
       "      <td>3.20</td>\n",
       "      <td>20.25</td>\n",
       "      <td>0.00</td>\n",
       "      <td>0.00</td>\n",
       "      <td>0.000</td>\n",
       "      <td>307.000000</td>\n",
       "      <td>0.287503</td>\n",
       "    </tr>\n",
       "    <tr>\n",
       "      <th>9121</th>\n",
       "      <td>2037</td>\n",
       "      <td>1.0</td>\n",
       "      <td>0.0</td>\n",
       "      <td>0.0</td>\n",
       "      <td>0.0</td>\n",
       "      <td>0.0</td>\n",
       "      <td>3.0</td>\n",
       "      <td>3.0</td>\n",
       "      <td>3.0</td>\n",
       "      <td>0.0</td>\n",
       "      <td>...</td>\n",
       "      <td>4.0</td>\n",
       "      <td>4.0</td>\n",
       "      <td>92.55</td>\n",
       "      <td>92.55</td>\n",
       "      <td>92.55</td>\n",
       "      <td>5.30</td>\n",
       "      <td>5.30</td>\n",
       "      <td>5.300</td>\n",
       "      <td>61.000000</td>\n",
       "      <td>0.258306</td>\n",
       "    </tr>\n",
       "    <tr>\n",
       "      <th>10641</th>\n",
       "      <td>6805</td>\n",
       "      <td>1.0</td>\n",
       "      <td>0.0</td>\n",
       "      <td>0.0</td>\n",
       "      <td>0.0</td>\n",
       "      <td>0.0</td>\n",
       "      <td>0.0</td>\n",
       "      <td>0.0</td>\n",
       "      <td>0.0</td>\n",
       "      <td>0.0</td>\n",
       "      <td>...</td>\n",
       "      <td>1.0</td>\n",
       "      <td>1.0</td>\n",
       "      <td>35.66</td>\n",
       "      <td>35.66</td>\n",
       "      <td>35.66</td>\n",
       "      <td>0.00</td>\n",
       "      <td>0.00</td>\n",
       "      <td>0.000</td>\n",
       "      <td>332.556663</td>\n",
       "      <td>0.256261</td>\n",
       "    </tr>\n",
       "    <tr>\n",
       "      <th>7137</th>\n",
       "      <td>3537</td>\n",
       "      <td>1.0</td>\n",
       "      <td>0.0</td>\n",
       "      <td>0.0</td>\n",
       "      <td>0.0</td>\n",
       "      <td>0.0</td>\n",
       "      <td>0.0</td>\n",
       "      <td>0.0</td>\n",
       "      <td>2.0</td>\n",
       "      <td>0.0</td>\n",
       "      <td>...</td>\n",
       "      <td>2.0</td>\n",
       "      <td>2.0</td>\n",
       "      <td>51.33</td>\n",
       "      <td>51.33</td>\n",
       "      <td>51.33</td>\n",
       "      <td>2.97</td>\n",
       "      <td>2.97</td>\n",
       "      <td>2.970</td>\n",
       "      <td>335.000000</td>\n",
       "      <td>0.256061</td>\n",
       "    </tr>\n",
       "  </tbody>\n",
       "</table>\n",
       "<p>10367 rows × 53 columns</p>\n",
       "</div>"
      ],
      "text/plain": [
       "       client_id  target  col1453  col2167  col2168  col2169  col2170  \\\n",
       "12103       1948     0.0      0.0      0.0      0.0      0.0      0.0   \n",
       "6774        4756     0.0      1.0      0.0      0.0      0.0      0.0   \n",
       "12287       3605     0.0      0.0      0.0      0.0      0.0      0.0   \n",
       "8531        1680     0.0      0.0      0.0      0.0      0.0      0.0   \n",
       "6719        2574     0.0      0.0      0.0      0.0      0.0      0.0   \n",
       "...          ...     ...      ...      ...      ...      ...      ...   \n",
       "12469       7744     1.0      0.0      2.0      4.0      4.0      4.0   \n",
       "9820        3849     1.0      0.0      0.0      0.0      0.0      0.0   \n",
       "9121        2037     1.0      0.0      0.0      0.0      0.0      3.0   \n",
       "10641       6805     1.0      0.0      0.0      0.0      0.0      0.0   \n",
       "7137        3537     1.0      0.0      0.0      0.0      0.0      0.0   \n",
       "\n",
       "       col2171  col2172  col2173  ...  col2365  col2366  col2388  col2389  \\\n",
       "12103      2.0      3.0      0.0  ...      1.0      1.0    33.65    33.65   \n",
       "6774       3.0      3.0      0.0  ...      2.0      2.0    59.49    59.49   \n",
       "12287      0.0      0.0      0.0  ...      3.0      3.0    79.58    79.58   \n",
       "8531       0.0      4.0      0.0  ...      1.0      1.0    32.02    20.48   \n",
       "6719       0.0      2.0      0.0  ...      1.0      1.0    37.07    37.07   \n",
       "...        ...      ...      ...  ...      ...      ...      ...      ...   \n",
       "12469      4.0      4.0      0.0  ...      2.0      2.0    33.10    32.90   \n",
       "9820       0.0      3.0      0.0  ...      1.0      1.0    37.30     3.20   \n",
       "9121       3.0      3.0      0.0  ...      4.0      4.0    92.55    92.55   \n",
       "10641      0.0      0.0      0.0  ...      1.0      1.0    35.66    35.66   \n",
       "7137       0.0      2.0      0.0  ...      2.0      2.0    51.33    51.33   \n",
       "\n",
       "       col2390  col2460  col2461  col2462     col2470   col2663  \n",
       "12103    33.65     1.13     1.13    1.130  162.000000  0.257549  \n",
       "6774     59.49     1.83     1.83    1.830  109.000000  0.258306  \n",
       "12287    79.58     3.98     3.98    3.980  390.000000  0.257348  \n",
       "8531     26.25     2.02     1.17    1.595  297.000000  0.256261  \n",
       "6719     37.07     2.28     2.28    2.280  335.000000  0.256261  \n",
       "...        ...      ...      ...      ...         ...       ...  \n",
       "12469    33.05     0.00     0.00    0.000    5.000000  0.322993  \n",
       "9820     20.25     0.00     0.00    0.000  307.000000  0.287503  \n",
       "9121     92.55     5.30     5.30    5.300   61.000000  0.258306  \n",
       "10641    35.66     0.00     0.00    0.000  332.556663  0.256261  \n",
       "7137     51.33     2.97     2.97    2.970  335.000000  0.256061  \n",
       "\n",
       "[10367 rows x 53 columns]"
      ]
     },
     "execution_count": 67,
     "metadata": {},
     "output_type": "execute_result"
    }
   ],
   "source": [
    "data_added"
   ]
  },
  {
   "cell_type": "code",
   "execution_count": 68,
   "id": "b5f845fc",
   "metadata": {},
   "outputs": [],
   "source": [
    "features_train = data_added.drop(columns=['target', 'client_id'])"
   ]
  },
  {
   "cell_type": "code",
   "execution_count": 69,
   "id": "0e4ab6ec",
   "metadata": {},
   "outputs": [],
   "source": [
    "target_train = data_added['target']"
   ]
  },
  {
   "cell_type": "code",
   "execution_count": 70,
   "id": "348a4d06",
   "metadata": {},
   "outputs": [],
   "source": [
    "features_train, target_train = SMOTE().fit_resample(features_train, target_train)"
   ]
  },
  {
   "cell_type": "code",
   "execution_count": 71,
   "id": "562db6b8",
   "metadata": {},
   "outputs": [],
   "source": [
    "params = {\n",
    "    'loss_function': 'Logloss',\n",
    "    'iterations': 300,\n",
    "    'custom_loss': ['AUC', 'F1'],\n",
    "    'random_seed': RS,\n",
    "    'learning_rate': 0.2\n",
    "}"
   ]
  },
  {
   "cell_type": "code",
   "execution_count": 72,
   "id": "a171f523",
   "metadata": {},
   "outputs": [
    {
     "data": {
      "application/vnd.jupyter.widget-view+json": {
       "model_id": "78a31b66ed0d4299b58d28aaf26091c2",
       "version_major": 2,
       "version_minor": 0
      },
      "text/plain": [
       "MetricVisualizer(layout=Layout(align_self='stretch', height='500px'))"
      ]
     },
     "metadata": {},
     "output_type": "display_data"
    },
    {
     "name": "stdout",
     "output_type": "stream",
     "text": [
      "Training on fold [0/5]\n",
      "\n",
      "bestTest = 0.02525983522\n",
      "bestIteration = 299\n",
      "\n",
      "Training on fold [1/5]\n",
      "\n",
      "bestTest = 0.02823675\n",
      "bestIteration = 299\n",
      "\n",
      "Training on fold [2/5]\n",
      "\n",
      "bestTest = 0.02439409576\n",
      "bestIteration = 299\n",
      "\n",
      "Training on fold [3/5]\n",
      "\n",
      "bestTest = 0.02442503299\n",
      "bestIteration = 299\n",
      "\n",
      "Training on fold [4/5]\n",
      "\n",
      "bestTest = 0.02979918246\n",
      "bestIteration = 299\n",
      "\n"
     ]
    }
   ],
   "source": [
    "cv_data = cv(\n",
    "    params=params,\n",
    "    pool=Pool(features_train, label=target_train),\n",
    "    fold_count=5, # Разбивка выборки на 5 кусочков\n",
    "    shuffle=True, # Перемешаем наши данные\n",
    "    partition_random_seed=RS,\n",
    "    plot=True,\n",
    "    stratified=True, \n",
    "    verbose=False\n",
    ")"
   ]
  },
  {
   "cell_type": "code",
   "execution_count": 73,
   "id": "8547adc3",
   "metadata": {},
   "outputs": [
    {
     "data": {
      "text/html": [
       "<div>\n",
       "<style scoped>\n",
       "    .dataframe tbody tr th:only-of-type {\n",
       "        vertical-align: middle;\n",
       "    }\n",
       "\n",
       "    .dataframe tbody tr th {\n",
       "        vertical-align: top;\n",
       "    }\n",
       "\n",
       "    .dataframe thead th {\n",
       "        text-align: right;\n",
       "    }\n",
       "</style>\n",
       "<table border=\"1\" class=\"dataframe\">\n",
       "  <thead>\n",
       "    <tr style=\"text-align: right;\">\n",
       "      <th></th>\n",
       "      <th>iterations</th>\n",
       "      <th>test-Logloss-mean</th>\n",
       "      <th>test-Logloss-std</th>\n",
       "      <th>train-Logloss-mean</th>\n",
       "      <th>train-Logloss-std</th>\n",
       "      <th>test-AUC-mean</th>\n",
       "      <th>test-AUC-std</th>\n",
       "      <th>test-F1-mean</th>\n",
       "      <th>test-F1-std</th>\n",
       "      <th>train-F1-mean</th>\n",
       "      <th>train-F1-std</th>\n",
       "    </tr>\n",
       "  </thead>\n",
       "  <tbody>\n",
       "    <tr>\n",
       "      <th>0</th>\n",
       "      <td>0</td>\n",
       "      <td>0.591691</td>\n",
       "      <td>0.010127</td>\n",
       "      <td>0.590394</td>\n",
       "      <td>0.010139</td>\n",
       "      <td>0.852126</td>\n",
       "      <td>0.007281</td>\n",
       "      <td>0.784834</td>\n",
       "      <td>0.011187</td>\n",
       "      <td>0.788300</td>\n",
       "      <td>0.008012</td>\n",
       "    </tr>\n",
       "    <tr>\n",
       "      <th>1</th>\n",
       "      <td>1</td>\n",
       "      <td>0.521283</td>\n",
       "      <td>0.012171</td>\n",
       "      <td>0.518267</td>\n",
       "      <td>0.010122</td>\n",
       "      <td>0.881445</td>\n",
       "      <td>0.006283</td>\n",
       "      <td>0.801772</td>\n",
       "      <td>0.013787</td>\n",
       "      <td>0.805546</td>\n",
       "      <td>0.010509</td>\n",
       "    </tr>\n",
       "    <tr>\n",
       "      <th>2</th>\n",
       "      <td>2</td>\n",
       "      <td>0.479822</td>\n",
       "      <td>0.011881</td>\n",
       "      <td>0.475419</td>\n",
       "      <td>0.009697</td>\n",
       "      <td>0.896997</td>\n",
       "      <td>0.006560</td>\n",
       "      <td>0.807725</td>\n",
       "      <td>0.013559</td>\n",
       "      <td>0.814672</td>\n",
       "      <td>0.009130</td>\n",
       "    </tr>\n",
       "    <tr>\n",
       "      <th>3</th>\n",
       "      <td>3</td>\n",
       "      <td>0.448414</td>\n",
       "      <td>0.008707</td>\n",
       "      <td>0.443342</td>\n",
       "      <td>0.004836</td>\n",
       "      <td>0.910401</td>\n",
       "      <td>0.006337</td>\n",
       "      <td>0.823697</td>\n",
       "      <td>0.014072</td>\n",
       "      <td>0.829824</td>\n",
       "      <td>0.009090</td>\n",
       "    </tr>\n",
       "    <tr>\n",
       "      <th>4</th>\n",
       "      <td>4</td>\n",
       "      <td>0.425404</td>\n",
       "      <td>0.006570</td>\n",
       "      <td>0.419283</td>\n",
       "      <td>0.002910</td>\n",
       "      <td>0.919547</td>\n",
       "      <td>0.003471</td>\n",
       "      <td>0.830111</td>\n",
       "      <td>0.016093</td>\n",
       "      <td>0.837164</td>\n",
       "      <td>0.010038</td>\n",
       "    </tr>\n",
       "    <tr>\n",
       "      <th>...</th>\n",
       "      <td>...</td>\n",
       "      <td>...</td>\n",
       "      <td>...</td>\n",
       "      <td>...</td>\n",
       "      <td>...</td>\n",
       "      <td>...</td>\n",
       "      <td>...</td>\n",
       "      <td>...</td>\n",
       "      <td>...</td>\n",
       "      <td>...</td>\n",
       "      <td>...</td>\n",
       "    </tr>\n",
       "    <tr>\n",
       "      <th>295</th>\n",
       "      <td>295</td>\n",
       "      <td>0.026748</td>\n",
       "      <td>0.002444</td>\n",
       "      <td>0.011013</td>\n",
       "      <td>0.000433</td>\n",
       "      <td>0.999422</td>\n",
       "      <td>0.000301</td>\n",
       "      <td>0.993922</td>\n",
       "      <td>0.001024</td>\n",
       "      <td>0.999567</td>\n",
       "      <td>0.000198</td>\n",
       "    </tr>\n",
       "    <tr>\n",
       "      <th>296</th>\n",
       "      <td>296</td>\n",
       "      <td>0.026656</td>\n",
       "      <td>0.002482</td>\n",
       "      <td>0.010962</td>\n",
       "      <td>0.000434</td>\n",
       "      <td>0.999429</td>\n",
       "      <td>0.000300</td>\n",
       "      <td>0.994022</td>\n",
       "      <td>0.001122</td>\n",
       "      <td>0.999580</td>\n",
       "      <td>0.000204</td>\n",
       "    </tr>\n",
       "    <tr>\n",
       "      <th>297</th>\n",
       "      <td>297</td>\n",
       "      <td>0.026560</td>\n",
       "      <td>0.002432</td>\n",
       "      <td>0.010882</td>\n",
       "      <td>0.000450</td>\n",
       "      <td>0.999438</td>\n",
       "      <td>0.000298</td>\n",
       "      <td>0.993972</td>\n",
       "      <td>0.001031</td>\n",
       "      <td>0.999593</td>\n",
       "      <td>0.000178</td>\n",
       "    </tr>\n",
       "    <tr>\n",
       "      <th>298</th>\n",
       "      <td>298</td>\n",
       "      <td>0.026505</td>\n",
       "      <td>0.002414</td>\n",
       "      <td>0.010819</td>\n",
       "      <td>0.000443</td>\n",
       "      <td>0.999444</td>\n",
       "      <td>0.000295</td>\n",
       "      <td>0.994073</td>\n",
       "      <td>0.001094</td>\n",
       "      <td>0.999593</td>\n",
       "      <td>0.000178</td>\n",
       "    </tr>\n",
       "    <tr>\n",
       "      <th>299</th>\n",
       "      <td>299</td>\n",
       "      <td>0.026423</td>\n",
       "      <td>0.002457</td>\n",
       "      <td>0.010774</td>\n",
       "      <td>0.000444</td>\n",
       "      <td>0.999448</td>\n",
       "      <td>0.000297</td>\n",
       "      <td>0.994073</td>\n",
       "      <td>0.001094</td>\n",
       "      <td>0.999593</td>\n",
       "      <td>0.000178</td>\n",
       "    </tr>\n",
       "  </tbody>\n",
       "</table>\n",
       "<p>300 rows × 11 columns</p>\n",
       "</div>"
      ],
      "text/plain": [
       "     iterations  test-Logloss-mean  test-Logloss-std  train-Logloss-mean  \\\n",
       "0             0           0.591691          0.010127            0.590394   \n",
       "1             1           0.521283          0.012171            0.518267   \n",
       "2             2           0.479822          0.011881            0.475419   \n",
       "3             3           0.448414          0.008707            0.443342   \n",
       "4             4           0.425404          0.006570            0.419283   \n",
       "..          ...                ...               ...                 ...   \n",
       "295         295           0.026748          0.002444            0.011013   \n",
       "296         296           0.026656          0.002482            0.010962   \n",
       "297         297           0.026560          0.002432            0.010882   \n",
       "298         298           0.026505          0.002414            0.010819   \n",
       "299         299           0.026423          0.002457            0.010774   \n",
       "\n",
       "     train-Logloss-std  test-AUC-mean  test-AUC-std  test-F1-mean  \\\n",
       "0             0.010139       0.852126      0.007281      0.784834   \n",
       "1             0.010122       0.881445      0.006283      0.801772   \n",
       "2             0.009697       0.896997      0.006560      0.807725   \n",
       "3             0.004836       0.910401      0.006337      0.823697   \n",
       "4             0.002910       0.919547      0.003471      0.830111   \n",
       "..                 ...            ...           ...           ...   \n",
       "295           0.000433       0.999422      0.000301      0.993922   \n",
       "296           0.000434       0.999429      0.000300      0.994022   \n",
       "297           0.000450       0.999438      0.000298      0.993972   \n",
       "298           0.000443       0.999444      0.000295      0.994073   \n",
       "299           0.000444       0.999448      0.000297      0.994073   \n",
       "\n",
       "     test-F1-std  train-F1-mean  train-F1-std  \n",
       "0       0.011187       0.788300      0.008012  \n",
       "1       0.013787       0.805546      0.010509  \n",
       "2       0.013559       0.814672      0.009130  \n",
       "3       0.014072       0.829824      0.009090  \n",
       "4       0.016093       0.837164      0.010038  \n",
       "..           ...            ...           ...  \n",
       "295     0.001024       0.999567      0.000198  \n",
       "296     0.001122       0.999580      0.000204  \n",
       "297     0.001031       0.999593      0.000178  \n",
       "298     0.001094       0.999593      0.000178  \n",
       "299     0.001094       0.999593      0.000178  \n",
       "\n",
       "[300 rows x 11 columns]"
      ]
     },
     "execution_count": 73,
     "metadata": {},
     "output_type": "execute_result"
    }
   ],
   "source": [
    "cv_data"
   ]
  },
  {
   "cell_type": "code",
   "execution_count": 74,
   "id": "f9066a9f",
   "metadata": {},
   "outputs": [],
   "source": [
    "added_auc_valid = cv_data['test-AUC-mean'].tail(1)"
   ]
  },
  {
   "cell_type": "code",
   "execution_count": 75,
   "id": "1bdf4260",
   "metadata": {},
   "outputs": [],
   "source": [
    "added_f1_valid = cv_data['test-F1-mean'].tail(1)"
   ]
  },
  {
   "cell_type": "code",
   "execution_count": 76,
   "id": "3a917dbd",
   "metadata": {},
   "outputs": [
    {
     "data": {
      "text/plain": [
       "299    0.999448\n",
       "Name: test-AUC-mean, dtype: float64"
      ]
     },
     "execution_count": 76,
     "metadata": {},
     "output_type": "execute_result"
    }
   ],
   "source": [
    "added_auc_valid"
   ]
  },
  {
   "cell_type": "code",
   "execution_count": 77,
   "id": "55cdf892",
   "metadata": {},
   "outputs": [
    {
     "data": {
      "text/plain": [
       "299    0.994073\n",
       "Name: test-F1-mean, dtype: float64"
      ]
     },
     "execution_count": 77,
     "metadata": {},
     "output_type": "execute_result"
    }
   ],
   "source": [
    "added_f1_valid"
   ]
  },
  {
   "cell_type": "markdown",
   "id": "4838eac4",
   "metadata": {},
   "source": [
    "### Валидация модели"
   ]
  },
  {
   "cell_type": "code",
   "execution_count": 78,
   "id": "6f1cdcd1",
   "metadata": {},
   "outputs": [],
   "source": [
    "model = CatBoostClassifier(loss_function='Logloss',\n",
    "    iterations=300,\n",
    "    custom_loss=['AUC', 'F1'],\n",
    "    random_seed= RS,\n",
    "    learning_rate= 0.2,\n",
    "    verbose=False)"
   ]
  },
  {
   "cell_type": "code",
   "execution_count": 79,
   "id": "a1c99f92",
   "metadata": {},
   "outputs": [
    {
     "data": {
      "text/plain": [
       "<catboost.core.CatBoostClassifier at 0x1f4c9bbac40>"
      ]
     },
     "execution_count": 79,
     "metadata": {},
     "output_type": "execute_result"
    }
   ],
   "source": [
    "model.fit(features_train, target_train)"
   ]
  },
  {
   "cell_type": "code",
   "execution_count": 80,
   "id": "b437958c",
   "metadata": {},
   "outputs": [],
   "source": [
    "features_test = test.drop(columns=['target', 'client_id'])"
   ]
  },
  {
   "cell_type": "code",
   "execution_count": 81,
   "id": "84e5e579",
   "metadata": {},
   "outputs": [],
   "source": [
    "target_test = test['target']"
   ]
  },
  {
   "cell_type": "code",
   "execution_count": 82,
   "id": "346db934",
   "metadata": {},
   "outputs": [],
   "source": [
    "pred = model.predict(features_test)"
   ]
  },
  {
   "cell_type": "code",
   "execution_count": 83,
   "id": "8494b0e3",
   "metadata": {},
   "outputs": [],
   "source": [
    "added_auc_test = roc_auc_score(target_test, pred)"
   ]
  },
  {
   "cell_type": "code",
   "execution_count": 84,
   "id": "dd9c6c9b",
   "metadata": {},
   "outputs": [
    {
     "data": {
      "text/plain": [
       "0.8559382634041518"
      ]
     },
     "execution_count": 84,
     "metadata": {},
     "output_type": "execute_result"
    }
   ],
   "source": [
    "added_auc_test"
   ]
  },
  {
   "cell_type": "code",
   "execution_count": 85,
   "id": "ad664f01",
   "metadata": {},
   "outputs": [],
   "source": [
    "added_f1_test = f1_score(target_test, pred)"
   ]
  },
  {
   "cell_type": "code",
   "execution_count": 86,
   "id": "2a736bec",
   "metadata": {
    "scrolled": true
   },
   "outputs": [
    {
     "data": {
      "text/plain": [
       "0.673758865248227"
      ]
     },
     "execution_count": 86,
     "metadata": {},
     "output_type": "execute_result"
    }
   ],
   "source": [
    "added_f1_test"
   ]
  },
  {
   "cell_type": "code",
   "execution_count": 87,
   "id": "3ecda2b4",
   "metadata": {},
   "outputs": [
    {
     "data": {
      "image/png": "[encoded data removed]",
      "text/plain": [
       "<Figure size 640x480 with 2 Axes>"
      ]
     },
     "metadata": {},
     "output_type": "display_data"
    }
   ],
   "source": [
    "cm = confusion_matrix(target_test, pred, normalize='true')\n",
    "ConfusionMatrixDisplay(confusion_matrix=cm).plot()\n",
    "plt.show()"
   ]
  },
  {
   "cell_type": "markdown",
   "id": "eb5a91e4",
   "metadata": {},
   "source": [
    "## Модель, обученная на измененных данных - заполнили единицами таргет у всех уникальных пользователей, у кого встречается хотя бы одна единица в таргете"
   ]
  },
  {
   "cell_type": "code",
   "execution_count": 88,
   "id": "139b874e",
   "metadata": {},
   "outputs": [],
   "source": [
    "train, test = train_test_split(data_f.drop(columns='report_date'), test_size=0.3, random_state=RS, stratify=data_f['target'])"
   ]
  },
  {
   "cell_type": "code",
   "execution_count": 89,
   "id": "3c87bad6",
   "metadata": {},
   "outputs": [
    {
     "data": {
      "text/html": [
       "<div>\n",
       "<style scoped>\n",
       "    .dataframe tbody tr th:only-of-type {\n",
       "        vertical-align: middle;\n",
       "    }\n",
       "\n",
       "    .dataframe tbody tr th {\n",
       "        vertical-align: top;\n",
       "    }\n",
       "\n",
       "    .dataframe thead th {\n",
       "        text-align: right;\n",
       "    }\n",
       "</style>\n",
       "<table border=\"1\" class=\"dataframe\">\n",
       "  <thead>\n",
       "    <tr style=\"text-align: right;\">\n",
       "      <th></th>\n",
       "      <th>client_id</th>\n",
       "      <th>target</th>\n",
       "      <th>col1453</th>\n",
       "      <th>col2167</th>\n",
       "      <th>col2168</th>\n",
       "      <th>col2169</th>\n",
       "      <th>col2170</th>\n",
       "      <th>col2171</th>\n",
       "      <th>col2172</th>\n",
       "      <th>col2173</th>\n",
       "      <th>...</th>\n",
       "      <th>col2365</th>\n",
       "      <th>col2366</th>\n",
       "      <th>col2388</th>\n",
       "      <th>col2389</th>\n",
       "      <th>col2390</th>\n",
       "      <th>col2460</th>\n",
       "      <th>col2461</th>\n",
       "      <th>col2462</th>\n",
       "      <th>col2470</th>\n",
       "      <th>col2663</th>\n",
       "    </tr>\n",
       "  </thead>\n",
       "  <tbody>\n",
       "    <tr>\n",
       "      <th>4158</th>\n",
       "      <td>3743</td>\n",
       "      <td>1</td>\n",
       "      <td>0</td>\n",
       "      <td>2.0</td>\n",
       "      <td>3.0</td>\n",
       "      <td>3.0</td>\n",
       "      <td>3.0</td>\n",
       "      <td>3.0</td>\n",
       "      <td>3.0</td>\n",
       "      <td>3.0</td>\n",
       "      <td>...</td>\n",
       "      <td>4.0</td>\n",
       "      <td>4.0</td>\n",
       "      <td>92.55</td>\n",
       "      <td>92.55</td>\n",
       "      <td>92.550000</td>\n",
       "      <td>5.30</td>\n",
       "      <td>5.30</td>\n",
       "      <td>5.30</td>\n",
       "      <td>2.000000</td>\n",
       "      <td>0.256061</td>\n",
       "    </tr>\n",
       "    <tr>\n",
       "      <th>8666</th>\n",
       "      <td>6612</td>\n",
       "      <td>1</td>\n",
       "      <td>0</td>\n",
       "      <td>0.0</td>\n",
       "      <td>1.0</td>\n",
       "      <td>2.0</td>\n",
       "      <td>2.0</td>\n",
       "      <td>2.0</td>\n",
       "      <td>2.0</td>\n",
       "      <td>1.0</td>\n",
       "      <td>...</td>\n",
       "      <td>2.0</td>\n",
       "      <td>2.0</td>\n",
       "      <td>56.99</td>\n",
       "      <td>56.99</td>\n",
       "      <td>56.990000</td>\n",
       "      <td>2.06</td>\n",
       "      <td>2.06</td>\n",
       "      <td>2.06</td>\n",
       "      <td>18.000000</td>\n",
       "      <td>0.256061</td>\n",
       "    </tr>\n",
       "    <tr>\n",
       "      <th>10839</th>\n",
       "      <td>4814</td>\n",
       "      <td>1</td>\n",
       "      <td>0</td>\n",
       "      <td>0.0</td>\n",
       "      <td>0.0</td>\n",
       "      <td>0.0</td>\n",
       "      <td>0.0</td>\n",
       "      <td>0.0</td>\n",
       "      <td>0.0</td>\n",
       "      <td>0.0</td>\n",
       "      <td>...</td>\n",
       "      <td>2.0</td>\n",
       "      <td>2.0</td>\n",
       "      <td>63.40</td>\n",
       "      <td>63.40</td>\n",
       "      <td>63.400000</td>\n",
       "      <td>2.25</td>\n",
       "      <td>2.25</td>\n",
       "      <td>2.25</td>\n",
       "      <td>548.000000</td>\n",
       "      <td>0.259377</td>\n",
       "    </tr>\n",
       "    <tr>\n",
       "      <th>11321</th>\n",
       "      <td>3189</td>\n",
       "      <td>1</td>\n",
       "      <td>0</td>\n",
       "      <td>0.0</td>\n",
       "      <td>0.0</td>\n",
       "      <td>0.0</td>\n",
       "      <td>0.0</td>\n",
       "      <td>0.0</td>\n",
       "      <td>0.0</td>\n",
       "      <td>0.0</td>\n",
       "      <td>...</td>\n",
       "      <td>3.0</td>\n",
       "      <td>3.0</td>\n",
       "      <td>71.12</td>\n",
       "      <td>71.12</td>\n",
       "      <td>71.120000</td>\n",
       "      <td>2.88</td>\n",
       "      <td>2.88</td>\n",
       "      <td>2.88</td>\n",
       "      <td>370.000000</td>\n",
       "      <td>0.260262</td>\n",
       "    </tr>\n",
       "    <tr>\n",
       "      <th>14224</th>\n",
       "      <td>6360</td>\n",
       "      <td>1</td>\n",
       "      <td>0</td>\n",
       "      <td>0.0</td>\n",
       "      <td>0.0</td>\n",
       "      <td>0.0</td>\n",
       "      <td>0.0</td>\n",
       "      <td>2.0</td>\n",
       "      <td>2.0</td>\n",
       "      <td>0.0</td>\n",
       "      <td>...</td>\n",
       "      <td>3.0</td>\n",
       "      <td>3.0</td>\n",
       "      <td>77.30</td>\n",
       "      <td>77.30</td>\n",
       "      <td>77.300000</td>\n",
       "      <td>4.10</td>\n",
       "      <td>4.10</td>\n",
       "      <td>4.10</td>\n",
       "      <td>95.000000</td>\n",
       "      <td>0.256261</td>\n",
       "    </tr>\n",
       "    <tr>\n",
       "      <th>...</th>\n",
       "      <td>...</td>\n",
       "      <td>...</td>\n",
       "      <td>...</td>\n",
       "      <td>...</td>\n",
       "      <td>...</td>\n",
       "      <td>...</td>\n",
       "      <td>...</td>\n",
       "      <td>...</td>\n",
       "      <td>...</td>\n",
       "      <td>...</td>\n",
       "      <td>...</td>\n",
       "      <td>...</td>\n",
       "      <td>...</td>\n",
       "      <td>...</td>\n",
       "      <td>...</td>\n",
       "      <td>...</td>\n",
       "      <td>...</td>\n",
       "      <td>...</td>\n",
       "      <td>...</td>\n",
       "      <td>...</td>\n",
       "      <td>...</td>\n",
       "    </tr>\n",
       "    <tr>\n",
       "      <th>11374</th>\n",
       "      <td>958</td>\n",
       "      <td>1</td>\n",
       "      <td>0</td>\n",
       "      <td>0.0</td>\n",
       "      <td>0.0</td>\n",
       "      <td>0.0</td>\n",
       "      <td>0.0</td>\n",
       "      <td>3.0</td>\n",
       "      <td>3.0</td>\n",
       "      <td>0.0</td>\n",
       "      <td>...</td>\n",
       "      <td>1.0</td>\n",
       "      <td>1.0</td>\n",
       "      <td>29.89</td>\n",
       "      <td>29.89</td>\n",
       "      <td>29.890000</td>\n",
       "      <td>3.96</td>\n",
       "      <td>3.96</td>\n",
       "      <td>3.96</td>\n",
       "      <td>148.000000</td>\n",
       "      <td>0.263759</td>\n",
       "    </tr>\n",
       "    <tr>\n",
       "      <th>2376</th>\n",
       "      <td>473</td>\n",
       "      <td>1</td>\n",
       "      <td>0</td>\n",
       "      <td>0.0</td>\n",
       "      <td>0.0</td>\n",
       "      <td>0.0</td>\n",
       "      <td>0.0</td>\n",
       "      <td>2.0</td>\n",
       "      <td>3.0</td>\n",
       "      <td>0.0</td>\n",
       "      <td>...</td>\n",
       "      <td>3.0</td>\n",
       "      <td>3.0</td>\n",
       "      <td>76.43</td>\n",
       "      <td>76.43</td>\n",
       "      <td>76.430000</td>\n",
       "      <td>0.00</td>\n",
       "      <td>0.00</td>\n",
       "      <td>0.00</td>\n",
       "      <td>178.000000</td>\n",
       "      <td>0.256261</td>\n",
       "    </tr>\n",
       "    <tr>\n",
       "      <th>10641</th>\n",
       "      <td>6805</td>\n",
       "      <td>1</td>\n",
       "      <td>0</td>\n",
       "      <td>0.0</td>\n",
       "      <td>0.0</td>\n",
       "      <td>0.0</td>\n",
       "      <td>0.0</td>\n",
       "      <td>0.0</td>\n",
       "      <td>0.0</td>\n",
       "      <td>0.0</td>\n",
       "      <td>...</td>\n",
       "      <td>1.0</td>\n",
       "      <td>1.0</td>\n",
       "      <td>35.66</td>\n",
       "      <td>35.66</td>\n",
       "      <td>35.660000</td>\n",
       "      <td>0.00</td>\n",
       "      <td>0.00</td>\n",
       "      <td>0.00</td>\n",
       "      <td>332.556663</td>\n",
       "      <td>0.256261</td>\n",
       "    </tr>\n",
       "    <tr>\n",
       "      <th>8783</th>\n",
       "      <td>1624</td>\n",
       "      <td>1</td>\n",
       "      <td>0</td>\n",
       "      <td>0.0</td>\n",
       "      <td>0.0</td>\n",
       "      <td>0.0</td>\n",
       "      <td>0.0</td>\n",
       "      <td>3.0</td>\n",
       "      <td>3.0</td>\n",
       "      <td>0.0</td>\n",
       "      <td>...</td>\n",
       "      <td>2.0</td>\n",
       "      <td>2.0</td>\n",
       "      <td>47.85</td>\n",
       "      <td>47.06</td>\n",
       "      <td>47.323333</td>\n",
       "      <td>1.54</td>\n",
       "      <td>1.54</td>\n",
       "      <td>1.54</td>\n",
       "      <td>152.000000</td>\n",
       "      <td>0.252566</td>\n",
       "    </tr>\n",
       "    <tr>\n",
       "      <th>7137</th>\n",
       "      <td>3537</td>\n",
       "      <td>1</td>\n",
       "      <td>0</td>\n",
       "      <td>0.0</td>\n",
       "      <td>0.0</td>\n",
       "      <td>0.0</td>\n",
       "      <td>0.0</td>\n",
       "      <td>0.0</td>\n",
       "      <td>2.0</td>\n",
       "      <td>0.0</td>\n",
       "      <td>...</td>\n",
       "      <td>2.0</td>\n",
       "      <td>2.0</td>\n",
       "      <td>51.33</td>\n",
       "      <td>51.33</td>\n",
       "      <td>51.330000</td>\n",
       "      <td>2.97</td>\n",
       "      <td>2.97</td>\n",
       "      <td>2.97</td>\n",
       "      <td>335.000000</td>\n",
       "      <td>0.256061</td>\n",
       "    </tr>\n",
       "  </tbody>\n",
       "</table>\n",
       "<p>305 rows × 53 columns</p>\n",
       "</div>"
      ],
      "text/plain": [
       "       client_id  target  col1453  col2167  col2168  col2169  col2170  \\\n",
       "4158        3743       1        0      2.0      3.0      3.0      3.0   \n",
       "8666        6612       1        0      0.0      1.0      2.0      2.0   \n",
       "10839       4814       1        0      0.0      0.0      0.0      0.0   \n",
       "11321       3189       1        0      0.0      0.0      0.0      0.0   \n",
       "14224       6360       1        0      0.0      0.0      0.0      0.0   \n",
       "...          ...     ...      ...      ...      ...      ...      ...   \n",
       "11374        958       1        0      0.0      0.0      0.0      0.0   \n",
       "2376         473       1        0      0.0      0.0      0.0      0.0   \n",
       "10641       6805       1        0      0.0      0.0      0.0      0.0   \n",
       "8783        1624       1        0      0.0      0.0      0.0      0.0   \n",
       "7137        3537       1        0      0.0      0.0      0.0      0.0   \n",
       "\n",
       "       col2171  col2172  col2173  ...  col2365  col2366  col2388  col2389  \\\n",
       "4158       3.0      3.0      3.0  ...      4.0      4.0    92.55    92.55   \n",
       "8666       2.0      2.0      1.0  ...      2.0      2.0    56.99    56.99   \n",
       "10839      0.0      0.0      0.0  ...      2.0      2.0    63.40    63.40   \n",
       "11321      0.0      0.0      0.0  ...      3.0      3.0    71.12    71.12   \n",
       "14224      2.0      2.0      0.0  ...      3.0      3.0    77.30    77.30   \n",
       "...        ...      ...      ...  ...      ...      ...      ...      ...   \n",
       "11374      3.0      3.0      0.0  ...      1.0      1.0    29.89    29.89   \n",
       "2376       2.0      3.0      0.0  ...      3.0      3.0    76.43    76.43   \n",
       "10641      0.0      0.0      0.0  ...      1.0      1.0    35.66    35.66   \n",
       "8783       3.0      3.0      0.0  ...      2.0      2.0    47.85    47.06   \n",
       "7137       0.0      2.0      0.0  ...      2.0      2.0    51.33    51.33   \n",
       "\n",
       "         col2390  col2460  col2461  col2462     col2470   col2663  \n",
       "4158   92.550000     5.30     5.30     5.30    2.000000  0.256061  \n",
       "8666   56.990000     2.06     2.06     2.06   18.000000  0.256061  \n",
       "10839  63.400000     2.25     2.25     2.25  548.000000  0.259377  \n",
       "11321  71.120000     2.88     2.88     2.88  370.000000  0.260262  \n",
       "14224  77.300000     4.10     4.10     4.10   95.000000  0.256261  \n",
       "...          ...      ...      ...      ...         ...       ...  \n",
       "11374  29.890000     3.96     3.96     3.96  148.000000  0.263759  \n",
       "2376   76.430000     0.00     0.00     0.00  178.000000  0.256261  \n",
       "10641  35.660000     0.00     0.00     0.00  332.556663  0.256261  \n",
       "8783   47.323333     1.54     1.54     1.54  152.000000  0.252566  \n",
       "7137   51.330000     2.97     2.97     2.97  335.000000  0.256061  \n",
       "\n",
       "[305 rows x 53 columns]"
      ]
     },
     "execution_count": 89,
     "metadata": {},
     "output_type": "execute_result"
    }
   ],
   "source": [
    "train.query('target == 1')"
   ]
  },
  {
   "cell_type": "code",
   "execution_count": 90,
   "id": "dfcfe244",
   "metadata": {},
   "outputs": [],
   "source": [
    "one_id = train.query('target == 1')['client_id']"
   ]
  },
  {
   "cell_type": "code",
   "execution_count": 91,
   "id": "2665176b",
   "metadata": {},
   "outputs": [
    {
     "data": {
      "text/plain": [
       "4158     3743\n",
       "8666     6612\n",
       "10839    4814\n",
       "11321    3189\n",
       "14224    6360\n",
       "         ... \n",
       "11374     958\n",
       "2376      473\n",
       "10641    6805\n",
       "8783     1624\n",
       "7137     3537\n",
       "Name: client_id, Length: 305, dtype: int64"
      ]
     },
     "execution_count": 91,
     "metadata": {},
     "output_type": "execute_result"
    }
   ],
   "source": [
    "one_id"
   ]
  },
  {
   "cell_type": "code",
   "execution_count": 92,
   "id": "b3ee052e",
   "metadata": {},
   "outputs": [],
   "source": [
    "criteria = 'client_id in @one_id'"
   ]
  },
  {
   "cell_type": "code",
   "execution_count": 93,
   "id": "de27407c",
   "metadata": {},
   "outputs": [],
   "source": [
    "train.loc[train.eval(criteria), 'target'] = 1"
   ]
  },
  {
   "cell_type": "code",
   "execution_count": 94,
   "id": "321821fc",
   "metadata": {},
   "outputs": [
    {
     "data": {
      "text/plain": [
       "4158     1\n",
       "8666     1\n",
       "10839    1\n",
       "3043     1\n",
       "9480     1\n",
       "        ..\n",
       "11374    1\n",
       "2376     1\n",
       "10641    1\n",
       "8783     1\n",
       "7137     1\n",
       "Name: target, Length: 410, dtype: int64"
      ]
     },
     "execution_count": 94,
     "metadata": {},
     "output_type": "execute_result"
    }
   ],
   "source": [
    "train.query('client_id in @one_id').loc[:, 'target']"
   ]
  },
  {
   "cell_type": "code",
   "execution_count": 95,
   "id": "b338b26b",
   "metadata": {},
   "outputs": [],
   "source": [
    "features_train = train.drop(columns=['target', 'client_id'])"
   ]
  },
  {
   "cell_type": "code",
   "execution_count": 96,
   "id": "bbed605c",
   "metadata": {},
   "outputs": [],
   "source": [
    "target_train = train['target']"
   ]
  },
  {
   "cell_type": "code",
   "execution_count": 97,
   "id": "60c366ce",
   "metadata": {},
   "outputs": [],
   "source": [
    "features_train, target_train = SMOTE().fit_resample(features_train, target_train)"
   ]
  },
  {
   "cell_type": "code",
   "execution_count": 98,
   "id": "96ed2fb7",
   "metadata": {},
   "outputs": [],
   "source": [
    "params = {\n",
    "    'loss_function': 'Logloss',\n",
    "    'iterations': 300,\n",
    "    'custom_loss': ['AUC', 'F1'],\n",
    "    'random_seed': RS,\n",
    "    'learning_rate': 0.2\n",
    "}"
   ]
  },
  {
   "cell_type": "code",
   "execution_count": 99,
   "id": "47b05094",
   "metadata": {},
   "outputs": [
    {
     "data": {
      "application/vnd.jupyter.widget-view+json": {
       "model_id": "30ba887e59294c478f8562b8aec5f01a",
       "version_major": 2,
       "version_minor": 0
      },
      "text/plain": [
       "MetricVisualizer(layout=Layout(align_self='stretch', height='500px'))"
      ]
     },
     "metadata": {},
     "output_type": "display_data"
    },
    {
     "name": "stdout",
     "output_type": "stream",
     "text": [
      "Training on fold [0/5]\n",
      "\n",
      "bestTest = 0.02814250836\n",
      "bestIteration = 296\n",
      "\n",
      "Training on fold [1/5]\n",
      "\n",
      "bestTest = 0.0265734885\n",
      "bestIteration = 299\n",
      "\n",
      "Training on fold [2/5]\n",
      "\n",
      "bestTest = 0.02507861047\n",
      "bestIteration = 296\n",
      "\n",
      "Training on fold [3/5]\n",
      "\n",
      "bestTest = 0.01909399632\n",
      "bestIteration = 297\n",
      "\n",
      "Training on fold [4/5]\n",
      "\n",
      "bestTest = 0.02366618103\n",
      "bestIteration = 299\n",
      "\n"
     ]
    }
   ],
   "source": [
    "cv_data = cv(\n",
    "    params=params,\n",
    "    pool=Pool(features_train, label=target_train),\n",
    "    fold_count=5, # Разбивка выборки на 5 кусочков\n",
    "    shuffle=True, # Перемешаем наши данные\n",
    "    partition_random_seed=RS,\n",
    "    plot=True,\n",
    "    stratified=True, \n",
    "    verbose=False\n",
    ")"
   ]
  },
  {
   "cell_type": "code",
   "execution_count": 100,
   "id": "69fcbaab",
   "metadata": {},
   "outputs": [
    {
     "data": {
      "text/html": [
       "<div>\n",
       "<style scoped>\n",
       "    .dataframe tbody tr th:only-of-type {\n",
       "        vertical-align: middle;\n",
       "    }\n",
       "\n",
       "    .dataframe tbody tr th {\n",
       "        vertical-align: top;\n",
       "    }\n",
       "\n",
       "    .dataframe thead th {\n",
       "        text-align: right;\n",
       "    }\n",
       "</style>\n",
       "<table border=\"1\" class=\"dataframe\">\n",
       "  <thead>\n",
       "    <tr style=\"text-align: right;\">\n",
       "      <th></th>\n",
       "      <th>iterations</th>\n",
       "      <th>test-Logloss-mean</th>\n",
       "      <th>test-Logloss-std</th>\n",
       "      <th>train-Logloss-mean</th>\n",
       "      <th>train-Logloss-std</th>\n",
       "      <th>test-AUC-mean</th>\n",
       "      <th>test-AUC-std</th>\n",
       "      <th>test-F1-mean</th>\n",
       "      <th>test-F1-std</th>\n",
       "      <th>train-F1-mean</th>\n",
       "      <th>train-F1-std</th>\n",
       "    </tr>\n",
       "  </thead>\n",
       "  <tbody>\n",
       "    <tr>\n",
       "      <th>0</th>\n",
       "      <td>0</td>\n",
       "      <td>0.554797</td>\n",
       "      <td>0.005133</td>\n",
       "      <td>0.554954</td>\n",
       "      <td>0.003774</td>\n",
       "      <td>0.882475</td>\n",
       "      <td>0.007538</td>\n",
       "      <td>0.801606</td>\n",
       "      <td>0.006790</td>\n",
       "      <td>0.802480</td>\n",
       "      <td>0.004561</td>\n",
       "    </tr>\n",
       "    <tr>\n",
       "      <th>1</th>\n",
       "      <td>1</td>\n",
       "      <td>0.480834</td>\n",
       "      <td>0.012754</td>\n",
       "      <td>0.479741</td>\n",
       "      <td>0.013964</td>\n",
       "      <td>0.911057</td>\n",
       "      <td>0.007709</td>\n",
       "      <td>0.827870</td>\n",
       "      <td>0.002793</td>\n",
       "      <td>0.829096</td>\n",
       "      <td>0.004305</td>\n",
       "    </tr>\n",
       "    <tr>\n",
       "      <th>2</th>\n",
       "      <td>2</td>\n",
       "      <td>0.436539</td>\n",
       "      <td>0.008789</td>\n",
       "      <td>0.434657</td>\n",
       "      <td>0.011012</td>\n",
       "      <td>0.925391</td>\n",
       "      <td>0.006147</td>\n",
       "      <td>0.846023</td>\n",
       "      <td>0.008031</td>\n",
       "      <td>0.848258</td>\n",
       "      <td>0.008078</td>\n",
       "    </tr>\n",
       "    <tr>\n",
       "      <th>3</th>\n",
       "      <td>3</td>\n",
       "      <td>0.402826</td>\n",
       "      <td>0.011160</td>\n",
       "      <td>0.400225</td>\n",
       "      <td>0.008811</td>\n",
       "      <td>0.934523</td>\n",
       "      <td>0.006947</td>\n",
       "      <td>0.853107</td>\n",
       "      <td>0.008031</td>\n",
       "      <td>0.857011</td>\n",
       "      <td>0.005711</td>\n",
       "    </tr>\n",
       "    <tr>\n",
       "      <th>4</th>\n",
       "      <td>4</td>\n",
       "      <td>0.379074</td>\n",
       "      <td>0.010526</td>\n",
       "      <td>0.376228</td>\n",
       "      <td>0.007809</td>\n",
       "      <td>0.941879</td>\n",
       "      <td>0.006282</td>\n",
       "      <td>0.865860</td>\n",
       "      <td>0.008021</td>\n",
       "      <td>0.868837</td>\n",
       "      <td>0.007021</td>\n",
       "    </tr>\n",
       "    <tr>\n",
       "      <th>...</th>\n",
       "      <td>...</td>\n",
       "      <td>...</td>\n",
       "      <td>...</td>\n",
       "      <td>...</td>\n",
       "      <td>...</td>\n",
       "      <td>...</td>\n",
       "      <td>...</td>\n",
       "      <td>...</td>\n",
       "      <td>...</td>\n",
       "      <td>...</td>\n",
       "      <td>...</td>\n",
       "    </tr>\n",
       "    <tr>\n",
       "      <th>295</th>\n",
       "      <td>295</td>\n",
       "      <td>0.024660</td>\n",
       "      <td>0.003441</td>\n",
       "      <td>0.009135</td>\n",
       "      <td>0.000514</td>\n",
       "      <td>0.999440</td>\n",
       "      <td>0.000199</td>\n",
       "      <td>0.994383</td>\n",
       "      <td>0.002103</td>\n",
       "      <td>0.999833</td>\n",
       "      <td>0.000073</td>\n",
       "    </tr>\n",
       "    <tr>\n",
       "      <th>296</th>\n",
       "      <td>296</td>\n",
       "      <td>0.024581</td>\n",
       "      <td>0.003417</td>\n",
       "      <td>0.009061</td>\n",
       "      <td>0.000495</td>\n",
       "      <td>0.999441</td>\n",
       "      <td>0.000195</td>\n",
       "      <td>0.994280</td>\n",
       "      <td>0.001922</td>\n",
       "      <td>0.999820</td>\n",
       "      <td>0.000084</td>\n",
       "    </tr>\n",
       "    <tr>\n",
       "      <th>297</th>\n",
       "      <td>297</td>\n",
       "      <td>0.024541</td>\n",
       "      <td>0.003465</td>\n",
       "      <td>0.009015</td>\n",
       "      <td>0.000458</td>\n",
       "      <td>0.999440</td>\n",
       "      <td>0.000195</td>\n",
       "      <td>0.994332</td>\n",
       "      <td>0.001829</td>\n",
       "      <td>0.999820</td>\n",
       "      <td>0.000084</td>\n",
       "    </tr>\n",
       "    <tr>\n",
       "      <th>298</th>\n",
       "      <td>298</td>\n",
       "      <td>0.024539</td>\n",
       "      <td>0.003451</td>\n",
       "      <td>0.009000</td>\n",
       "      <td>0.000440</td>\n",
       "      <td>0.999440</td>\n",
       "      <td>0.000195</td>\n",
       "      <td>0.994332</td>\n",
       "      <td>0.001847</td>\n",
       "      <td>0.999820</td>\n",
       "      <td>0.000084</td>\n",
       "    </tr>\n",
       "    <tr>\n",
       "      <th>299</th>\n",
       "      <td>299</td>\n",
       "      <td>0.024515</td>\n",
       "      <td>0.003463</td>\n",
       "      <td>0.008965</td>\n",
       "      <td>0.000425</td>\n",
       "      <td>0.999438</td>\n",
       "      <td>0.000197</td>\n",
       "      <td>0.994280</td>\n",
       "      <td>0.001868</td>\n",
       "      <td>0.999820</td>\n",
       "      <td>0.000084</td>\n",
       "    </tr>\n",
       "  </tbody>\n",
       "</table>\n",
       "<p>300 rows × 11 columns</p>\n",
       "</div>"
      ],
      "text/plain": [
       "     iterations  test-Logloss-mean  test-Logloss-std  train-Logloss-mean  \\\n",
       "0             0           0.554797          0.005133            0.554954   \n",
       "1             1           0.480834          0.012754            0.479741   \n",
       "2             2           0.436539          0.008789            0.434657   \n",
       "3             3           0.402826          0.011160            0.400225   \n",
       "4             4           0.379074          0.010526            0.376228   \n",
       "..          ...                ...               ...                 ...   \n",
       "295         295           0.024660          0.003441            0.009135   \n",
       "296         296           0.024581          0.003417            0.009061   \n",
       "297         297           0.024541          0.003465            0.009015   \n",
       "298         298           0.024539          0.003451            0.009000   \n",
       "299         299           0.024515          0.003463            0.008965   \n",
       "\n",
       "     train-Logloss-std  test-AUC-mean  test-AUC-std  test-F1-mean  \\\n",
       "0             0.003774       0.882475      0.007538      0.801606   \n",
       "1             0.013964       0.911057      0.007709      0.827870   \n",
       "2             0.011012       0.925391      0.006147      0.846023   \n",
       "3             0.008811       0.934523      0.006947      0.853107   \n",
       "4             0.007809       0.941879      0.006282      0.865860   \n",
       "..                 ...            ...           ...           ...   \n",
       "295           0.000514       0.999440      0.000199      0.994383   \n",
       "296           0.000495       0.999441      0.000195      0.994280   \n",
       "297           0.000458       0.999440      0.000195      0.994332   \n",
       "298           0.000440       0.999440      0.000195      0.994332   \n",
       "299           0.000425       0.999438      0.000197      0.994280   \n",
       "\n",
       "     test-F1-std  train-F1-mean  train-F1-std  \n",
       "0       0.006790       0.802480      0.004561  \n",
       "1       0.002793       0.829096      0.004305  \n",
       "2       0.008031       0.848258      0.008078  \n",
       "3       0.008031       0.857011      0.005711  \n",
       "4       0.008021       0.868837      0.007021  \n",
       "..           ...            ...           ...  \n",
       "295     0.002103       0.999833      0.000073  \n",
       "296     0.001922       0.999820      0.000084  \n",
       "297     0.001829       0.999820      0.000084  \n",
       "298     0.001847       0.999820      0.000084  \n",
       "299     0.001868       0.999820      0.000084  \n",
       "\n",
       "[300 rows x 11 columns]"
      ]
     },
     "execution_count": 100,
     "metadata": {},
     "output_type": "execute_result"
    }
   ],
   "source": [
    "cv_data"
   ]
  },
  {
   "cell_type": "code",
   "execution_count": 101,
   "id": "9ff27118",
   "metadata": {},
   "outputs": [],
   "source": [
    "filled_auc_valid = cv_data['test-AUC-mean'].tail(1)"
   ]
  },
  {
   "cell_type": "code",
   "execution_count": 102,
   "id": "f437b121",
   "metadata": {},
   "outputs": [],
   "source": [
    "filled_f1_valid = cv_data['test-F1-mean'].tail(1)"
   ]
  },
  {
   "cell_type": "code",
   "execution_count": 103,
   "id": "b56e0e0a",
   "metadata": {},
   "outputs": [
    {
     "data": {
      "text/plain": [
       "299    0.999438\n",
       "Name: test-AUC-mean, dtype: float64"
      ]
     },
     "execution_count": 103,
     "metadata": {},
     "output_type": "execute_result"
    }
   ],
   "source": [
    "filled_auc_valid"
   ]
  },
  {
   "cell_type": "code",
   "execution_count": 104,
   "id": "e13a94df",
   "metadata": {},
   "outputs": [
    {
     "data": {
      "text/plain": [
       "299    0.99428\n",
       "Name: test-F1-mean, dtype: float64"
      ]
     },
     "execution_count": 104,
     "metadata": {},
     "output_type": "execute_result"
    }
   ],
   "source": [
    "filled_f1_valid"
   ]
  },
  {
   "cell_type": "markdown",
   "id": "0c056bfd",
   "metadata": {},
   "source": [
    "### Валидация модели"
   ]
  },
  {
   "cell_type": "code",
   "execution_count": 105,
   "id": "7ca046c2",
   "metadata": {},
   "outputs": [],
   "source": [
    "model = CatBoostClassifier(loss_function='Logloss',\n",
    "    iterations=300,\n",
    "    custom_loss=['AUC', 'F1'],\n",
    "    random_seed= RS,\n",
    "    learning_rate= 0.2,\n",
    "    verbose=False)"
   ]
  },
  {
   "cell_type": "code",
   "execution_count": 106,
   "id": "d43b9cea",
   "metadata": {},
   "outputs": [
    {
     "data": {
      "text/plain": [
       "<catboost.core.CatBoostClassifier at 0x1f4c9d36eb0>"
      ]
     },
     "execution_count": 106,
     "metadata": {},
     "output_type": "execute_result"
    }
   ],
   "source": [
    "model.fit(features_train, target_train)"
   ]
  },
  {
   "cell_type": "code",
   "execution_count": 107,
   "id": "88bb966b",
   "metadata": {},
   "outputs": [],
   "source": [
    "features_test = test.drop(columns=['target', 'client_id'])"
   ]
  },
  {
   "cell_type": "code",
   "execution_count": 108,
   "id": "a6e11bc8",
   "metadata": {},
   "outputs": [],
   "source": [
    "target_test = test['target']"
   ]
  },
  {
   "cell_type": "code",
   "execution_count": 109,
   "id": "b6dd0c3e",
   "metadata": {},
   "outputs": [],
   "source": [
    "pred = model.predict(features_test)"
   ]
  },
  {
   "cell_type": "code",
   "execution_count": 110,
   "id": "b9acd10d",
   "metadata": {},
   "outputs": [],
   "source": [
    "filled_auc_test = roc_auc_score(target_test, pred)"
   ]
  },
  {
   "cell_type": "code",
   "execution_count": 111,
   "id": "387a7988",
   "metadata": {},
   "outputs": [
    {
     "data": {
      "text/plain": [
       "0.8258794234336262"
      ]
     },
     "execution_count": 111,
     "metadata": {},
     "output_type": "execute_result"
    }
   ],
   "source": [
    "filled_auc_test"
   ]
  },
  {
   "cell_type": "code",
   "execution_count": 112,
   "id": "230c3c5a",
   "metadata": {},
   "outputs": [],
   "source": [
    "filled_f1_test = f1_score(target_test, pred)"
   ]
  },
  {
   "cell_type": "code",
   "execution_count": 113,
   "id": "7ff43243",
   "metadata": {},
   "outputs": [
    {
     "data": {
      "text/plain": [
       "0.6444444444444444"
      ]
     },
     "execution_count": 113,
     "metadata": {},
     "output_type": "execute_result"
    }
   ],
   "source": [
    "filled_f1_test"
   ]
  },
  {
   "cell_type": "code",
   "execution_count": 114,
   "id": "7fe96b3d",
   "metadata": {},
   "outputs": [
    {
     "data": {
      "image/png": "[encoded data removed]",
      "text/plain": [
       "<Figure size 640x480 with 2 Axes>"
      ]
     },
     "metadata": {},
     "output_type": "display_data"
    }
   ],
   "source": [
    "cm = confusion_matrix(target_test, pred, normalize='true')\n",
    "ConfusionMatrixDisplay(confusion_matrix=cm).plot()\n",
    "plt.show()"
   ]
  },
  {
   "cell_type": "markdown",
   "id": "ba3669eb",
   "metadata": {},
   "source": [
    "## Бейслайн модель, обученная на данных с новыми фичами"
   ]
  },
  {
   "cell_type": "code",
   "execution_count": 115,
   "id": "cfa1fd2b",
   "metadata": {},
   "outputs": [],
   "source": [
    "train, test = train_test_split(data_f, test_size=0.3, random_state=RS, stratify=data['target'])"
   ]
  },
  {
   "cell_type": "code",
   "execution_count": 116,
   "id": "223fb7c2",
   "metadata": {},
   "outputs": [],
   "source": [
    "def date_maker(row):\n",
    "    if row['report_date'].year == 2021:\n",
    "        return row['report_date'].month\n",
    "    elif row['report_date'].year == 2022:\n",
    "        return row['report_date'].month + 12\n",
    "    elif row['report_date'].year == 2023:\n",
    "        return row['report_date'].month + 24"
   ]
  },
  {
   "cell_type": "code",
   "execution_count": 117,
   "id": "7abe5afd",
   "metadata": {},
   "outputs": [],
   "source": [
    "train['month'] = train.apply(date_maker, axis=1)"
   ]
  },
  {
   "cell_type": "code",
   "execution_count": 118,
   "id": "eeeb3c62",
   "metadata": {},
   "outputs": [],
   "source": [
    "test['month'] = test.apply(date_maker, axis=1)"
   ]
  },
  {
   "cell_type": "code",
   "execution_count": 119,
   "id": "f011fd8b",
   "metadata": {},
   "outputs": [],
   "source": [
    "train = train.merge(train.groupby('client_id')['month'].agg('min').reset_index(), \\\n",
    "                    how='left', on='client_id', suffixes=('', '_min'))"
   ]
  },
  {
   "cell_type": "code",
   "execution_count": 120,
   "id": "1d82ea62",
   "metadata": {},
   "outputs": [],
   "source": [
    "test = test.merge(test.groupby('client_id')['month'].agg('min').reset_index(), \\\n",
    "                    how='left', on='client_id', suffixes=('', '_min'))"
   ]
  },
  {
   "cell_type": "code",
   "execution_count": 121,
   "id": "b4b75a4d",
   "metadata": {},
   "outputs": [],
   "source": [
    "train['month_from_first'] = train['month'] - train['month_min'] + 1"
   ]
  },
  {
   "cell_type": "code",
   "execution_count": 122,
   "id": "b884365c",
   "metadata": {},
   "outputs": [],
   "source": [
    "test['month_from_first'] = test['month'] - test['month_min'] + 1"
   ]
  },
  {
   "cell_type": "code",
   "execution_count": 123,
   "id": "9f42f97e",
   "metadata": {},
   "outputs": [],
   "source": [
    "train = train.drop(columns=['month', 'month_min'])"
   ]
  },
  {
   "cell_type": "code",
   "execution_count": 124,
   "id": "e4f298ba",
   "metadata": {},
   "outputs": [],
   "source": [
    "test = test.drop(columns=['month', 'month_min'])"
   ]
  },
  {
   "cell_type": "code",
   "execution_count": 125,
   "id": "0f8c22e9",
   "metadata": {},
   "outputs": [
    {
     "data": {
      "text/html": [
       "<div>\n",
       "<style scoped>\n",
       "    .dataframe tbody tr th:only-of-type {\n",
       "        vertical-align: middle;\n",
       "    }\n",
       "\n",
       "    .dataframe tbody tr th {\n",
       "        vertical-align: top;\n",
       "    }\n",
       "\n",
       "    .dataframe thead th {\n",
       "        text-align: right;\n",
       "    }\n",
       "</style>\n",
       "<table border=\"1\" class=\"dataframe\">\n",
       "  <thead>\n",
       "    <tr style=\"text-align: right;\">\n",
       "      <th></th>\n",
       "      <th>report_date</th>\n",
       "      <th>client_id</th>\n",
       "      <th>target</th>\n",
       "      <th>col1453</th>\n",
       "      <th>col2167</th>\n",
       "      <th>col2168</th>\n",
       "      <th>col2169</th>\n",
       "      <th>col2170</th>\n",
       "      <th>col2171</th>\n",
       "      <th>col2172</th>\n",
       "      <th>...</th>\n",
       "      <th>col2366</th>\n",
       "      <th>col2388</th>\n",
       "      <th>col2389</th>\n",
       "      <th>col2390</th>\n",
       "      <th>col2460</th>\n",
       "      <th>col2461</th>\n",
       "      <th>col2462</th>\n",
       "      <th>col2470</th>\n",
       "      <th>col2663</th>\n",
       "      <th>month_from_first</th>\n",
       "    </tr>\n",
       "  </thead>\n",
       "  <tbody>\n",
       "    <tr>\n",
       "      <th>0</th>\n",
       "      <td>2022-07-01</td>\n",
       "      <td>1948</td>\n",
       "      <td>0</td>\n",
       "      <td>0</td>\n",
       "      <td>0.0</td>\n",
       "      <td>0.0</td>\n",
       "      <td>0.0</td>\n",
       "      <td>0.0</td>\n",
       "      <td>2.0</td>\n",
       "      <td>3.0</td>\n",
       "      <td>...</td>\n",
       "      <td>1.0</td>\n",
       "      <td>33.65</td>\n",
       "      <td>33.65</td>\n",
       "      <td>33.65</td>\n",
       "      <td>1.13</td>\n",
       "      <td>1.13</td>\n",
       "      <td>1.130</td>\n",
       "      <td>162.0</td>\n",
       "      <td>0.257549</td>\n",
       "      <td>3</td>\n",
       "    </tr>\n",
       "    <tr>\n",
       "      <th>1</th>\n",
       "      <td>2022-11-01</td>\n",
       "      <td>4756</td>\n",
       "      <td>0</td>\n",
       "      <td>1</td>\n",
       "      <td>0.0</td>\n",
       "      <td>0.0</td>\n",
       "      <td>0.0</td>\n",
       "      <td>0.0</td>\n",
       "      <td>3.0</td>\n",
       "      <td>3.0</td>\n",
       "      <td>...</td>\n",
       "      <td>2.0</td>\n",
       "      <td>59.49</td>\n",
       "      <td>59.49</td>\n",
       "      <td>59.49</td>\n",
       "      <td>1.83</td>\n",
       "      <td>1.83</td>\n",
       "      <td>1.830</td>\n",
       "      <td>109.0</td>\n",
       "      <td>0.258306</td>\n",
       "      <td>3</td>\n",
       "    </tr>\n",
       "    <tr>\n",
       "      <th>2</th>\n",
       "      <td>2023-01-01</td>\n",
       "      <td>3605</td>\n",
       "      <td>0</td>\n",
       "      <td>0</td>\n",
       "      <td>0.0</td>\n",
       "      <td>0.0</td>\n",
       "      <td>0.0</td>\n",
       "      <td>0.0</td>\n",
       "      <td>0.0</td>\n",
       "      <td>0.0</td>\n",
       "      <td>...</td>\n",
       "      <td>3.0</td>\n",
       "      <td>79.58</td>\n",
       "      <td>79.58</td>\n",
       "      <td>79.58</td>\n",
       "      <td>3.98</td>\n",
       "      <td>3.98</td>\n",
       "      <td>3.980</td>\n",
       "      <td>390.0</td>\n",
       "      <td>0.257348</td>\n",
       "      <td>12</td>\n",
       "    </tr>\n",
       "    <tr>\n",
       "      <th>3</th>\n",
       "      <td>2022-05-01</td>\n",
       "      <td>1680</td>\n",
       "      <td>0</td>\n",
       "      <td>0</td>\n",
       "      <td>0.0</td>\n",
       "      <td>0.0</td>\n",
       "      <td>0.0</td>\n",
       "      <td>0.0</td>\n",
       "      <td>0.0</td>\n",
       "      <td>4.0</td>\n",
       "      <td>...</td>\n",
       "      <td>1.0</td>\n",
       "      <td>32.02</td>\n",
       "      <td>20.48</td>\n",
       "      <td>26.25</td>\n",
       "      <td>2.02</td>\n",
       "      <td>1.17</td>\n",
       "      <td>1.595</td>\n",
       "      <td>297.0</td>\n",
       "      <td>0.256261</td>\n",
       "      <td>4</td>\n",
       "    </tr>\n",
       "    <tr>\n",
       "      <th>4</th>\n",
       "      <td>2022-09-01</td>\n",
       "      <td>2574</td>\n",
       "      <td>0</td>\n",
       "      <td>0</td>\n",
       "      <td>0.0</td>\n",
       "      <td>0.0</td>\n",
       "      <td>0.0</td>\n",
       "      <td>0.0</td>\n",
       "      <td>0.0</td>\n",
       "      <td>2.0</td>\n",
       "      <td>...</td>\n",
       "      <td>1.0</td>\n",
       "      <td>37.07</td>\n",
       "      <td>37.07</td>\n",
       "      <td>37.07</td>\n",
       "      <td>2.28</td>\n",
       "      <td>2.28</td>\n",
       "      <td>2.280</td>\n",
       "      <td>335.0</td>\n",
       "      <td>0.256261</td>\n",
       "      <td>11</td>\n",
       "    </tr>\n",
       "  </tbody>\n",
       "</table>\n",
       "<p>5 rows × 55 columns</p>\n",
       "</div>"
      ],
      "text/plain": [
       "  report_date  client_id  target  col1453  col2167  col2168  col2169  col2170  \\\n",
       "0  2022-07-01       1948       0        0      0.0      0.0      0.0      0.0   \n",
       "1  2022-11-01       4756       0        1      0.0      0.0      0.0      0.0   \n",
       "2  2023-01-01       3605       0        0      0.0      0.0      0.0      0.0   \n",
       "3  2022-05-01       1680       0        0      0.0      0.0      0.0      0.0   \n",
       "4  2022-09-01       2574       0        0      0.0      0.0      0.0      0.0   \n",
       "\n",
       "   col2171  col2172  ...  col2366  col2388  col2389  col2390  col2460  \\\n",
       "0      2.0      3.0  ...      1.0    33.65    33.65    33.65     1.13   \n",
       "1      3.0      3.0  ...      2.0    59.49    59.49    59.49     1.83   \n",
       "2      0.0      0.0  ...      3.0    79.58    79.58    79.58     3.98   \n",
       "3      0.0      4.0  ...      1.0    32.02    20.48    26.25     2.02   \n",
       "4      0.0      2.0  ...      1.0    37.07    37.07    37.07     2.28   \n",
       "\n",
       "   col2461  col2462  col2470   col2663  month_from_first  \n",
       "0     1.13    1.130    162.0  0.257549                 3  \n",
       "1     1.83    1.830    109.0  0.258306                 3  \n",
       "2     3.98    3.980    390.0  0.257348                12  \n",
       "3     1.17    1.595    297.0  0.256261                 4  \n",
       "4     2.28    2.280    335.0  0.256261                11  \n",
       "\n",
       "[5 rows x 55 columns]"
      ]
     },
     "execution_count": 125,
     "metadata": {},
     "output_type": "execute_result"
    }
   ],
   "source": [
    "train.head()"
   ]
  },
  {
   "cell_type": "code",
   "execution_count": 126,
   "id": "25f07c4e",
   "metadata": {},
   "outputs": [],
   "source": [
    "features_train = train.drop(columns=['report_date', 'client_id', 'target'])"
   ]
  },
  {
   "cell_type": "code",
   "execution_count": 127,
   "id": "2f005f3d",
   "metadata": {},
   "outputs": [],
   "source": [
    "target_train = train['target']"
   ]
  },
  {
   "cell_type": "code",
   "execution_count": 128,
   "id": "62e437fc",
   "metadata": {},
   "outputs": [],
   "source": [
    "features_train, target_train = SMOTE().fit_resample(features_train, target_train)"
   ]
  },
  {
   "cell_type": "code",
   "execution_count": 129,
   "id": "8dd7ef1b",
   "metadata": {},
   "outputs": [],
   "source": [
    "features_test = test.drop(columns=['report_date', 'client_id', 'target'])"
   ]
  },
  {
   "cell_type": "code",
   "execution_count": 130,
   "id": "87f3ccef",
   "metadata": {},
   "outputs": [],
   "source": [
    "target_test = test['target']"
   ]
  },
  {
   "cell_type": "code",
   "execution_count": 131,
   "id": "49660806",
   "metadata": {},
   "outputs": [],
   "source": [
    "params = {\n",
    "    'loss_function': 'Logloss',\n",
    "    'iterations': 300,\n",
    "    'custom_loss': ['AUC', 'F1'],\n",
    "    'random_seed': RS,\n",
    "    'learning_rate': 0.2\n",
    "}"
   ]
  },
  {
   "cell_type": "code",
   "execution_count": 132,
   "id": "2a90e6b8",
   "metadata": {},
   "outputs": [
    {
     "data": {
      "application/vnd.jupyter.widget-view+json": {
       "model_id": "c860de41cce5436989ec07c5f93de9a1",
       "version_major": 2,
       "version_minor": 0
      },
      "text/plain": [
       "MetricVisualizer(layout=Layout(align_self='stretch', height='500px'))"
      ]
     },
     "metadata": {},
     "output_type": "display_data"
    },
    {
     "name": "stdout",
     "output_type": "stream",
     "text": [
      "Training on fold [0/5]\n",
      "\n",
      "bestTest = 0.02843012338\n",
      "bestIteration = 299\n",
      "\n",
      "Training on fold [1/5]\n",
      "\n",
      "bestTest = 0.02862447168\n",
      "bestIteration = 295\n",
      "\n",
      "Training on fold [2/5]\n",
      "\n",
      "bestTest = 0.03000596842\n",
      "bestIteration = 294\n",
      "\n",
      "Training on fold [3/5]\n",
      "\n",
      "bestTest = 0.02560975772\n",
      "bestIteration = 299\n",
      "\n",
      "Training on fold [4/5]\n",
      "\n",
      "bestTest = 0.03041260361\n",
      "bestIteration = 298\n",
      "\n"
     ]
    }
   ],
   "source": [
    "cv_data = cv(\n",
    "    params=params,\n",
    "    pool=Pool(features_train, label=target_train),\n",
    "    fold_count=5, # Разбивка выборки на 5 кусочков\n",
    "    shuffle=True, # Перемешаем наши данные\n",
    "    partition_random_seed=RS,\n",
    "    plot=True,\n",
    "    stratified=True, \n",
    "    verbose=False\n",
    ")"
   ]
  },
  {
   "cell_type": "code",
   "execution_count": 133,
   "id": "206529b9",
   "metadata": {},
   "outputs": [
    {
     "data": {
      "text/html": [
       "<div>\n",
       "<style scoped>\n",
       "    .dataframe tbody tr th:only-of-type {\n",
       "        vertical-align: middle;\n",
       "    }\n",
       "\n",
       "    .dataframe tbody tr th {\n",
       "        vertical-align: top;\n",
       "    }\n",
       "\n",
       "    .dataframe thead th {\n",
       "        text-align: right;\n",
       "    }\n",
       "</style>\n",
       "<table border=\"1\" class=\"dataframe\">\n",
       "  <thead>\n",
       "    <tr style=\"text-align: right;\">\n",
       "      <th></th>\n",
       "      <th>iterations</th>\n",
       "      <th>test-Logloss-mean</th>\n",
       "      <th>test-Logloss-std</th>\n",
       "      <th>train-Logloss-mean</th>\n",
       "      <th>train-Logloss-std</th>\n",
       "      <th>test-AUC-mean</th>\n",
       "      <th>test-AUC-std</th>\n",
       "      <th>test-F1-mean</th>\n",
       "      <th>test-F1-std</th>\n",
       "      <th>train-F1-mean</th>\n",
       "      <th>train-F1-std</th>\n",
       "    </tr>\n",
       "  </thead>\n",
       "  <tbody>\n",
       "    <tr>\n",
       "      <th>0</th>\n",
       "      <td>0</td>\n",
       "      <td>0.572087</td>\n",
       "      <td>0.002278</td>\n",
       "      <td>0.571361</td>\n",
       "      <td>0.001017</td>\n",
       "      <td>0.881934</td>\n",
       "      <td>0.004130</td>\n",
       "      <td>0.800264</td>\n",
       "      <td>0.004578</td>\n",
       "      <td>0.802821</td>\n",
       "      <td>0.002241</td>\n",
       "    </tr>\n",
       "    <tr>\n",
       "      <th>1</th>\n",
       "      <td>1</td>\n",
       "      <td>0.484198</td>\n",
       "      <td>0.009323</td>\n",
       "      <td>0.481892</td>\n",
       "      <td>0.008251</td>\n",
       "      <td>0.906570</td>\n",
       "      <td>0.004453</td>\n",
       "      <td>0.819833</td>\n",
       "      <td>0.006515</td>\n",
       "      <td>0.824194</td>\n",
       "      <td>0.008055</td>\n",
       "    </tr>\n",
       "    <tr>\n",
       "      <th>2</th>\n",
       "      <td>2</td>\n",
       "      <td>0.421219</td>\n",
       "      <td>0.007294</td>\n",
       "      <td>0.419621</td>\n",
       "      <td>0.004771</td>\n",
       "      <td>0.926767</td>\n",
       "      <td>0.007464</td>\n",
       "      <td>0.835222</td>\n",
       "      <td>0.011359</td>\n",
       "      <td>0.838374</td>\n",
       "      <td>0.010353</td>\n",
       "    </tr>\n",
       "    <tr>\n",
       "      <th>3</th>\n",
       "      <td>3</td>\n",
       "      <td>0.377035</td>\n",
       "      <td>0.004782</td>\n",
       "      <td>0.376399</td>\n",
       "      <td>0.004140</td>\n",
       "      <td>0.942218</td>\n",
       "      <td>0.001712</td>\n",
       "      <td>0.857751</td>\n",
       "      <td>0.005912</td>\n",
       "      <td>0.858078</td>\n",
       "      <td>0.006110</td>\n",
       "    </tr>\n",
       "    <tr>\n",
       "      <th>4</th>\n",
       "      <td>4</td>\n",
       "      <td>0.347390</td>\n",
       "      <td>0.008350</td>\n",
       "      <td>0.346179</td>\n",
       "      <td>0.008886</td>\n",
       "      <td>0.950253</td>\n",
       "      <td>0.002317</td>\n",
       "      <td>0.869142</td>\n",
       "      <td>0.005194</td>\n",
       "      <td>0.869839</td>\n",
       "      <td>0.006276</td>\n",
       "    </tr>\n",
       "    <tr>\n",
       "      <th>...</th>\n",
       "      <td>...</td>\n",
       "      <td>...</td>\n",
       "      <td>...</td>\n",
       "      <td>...</td>\n",
       "      <td>...</td>\n",
       "      <td>...</td>\n",
       "      <td>...</td>\n",
       "      <td>...</td>\n",
       "      <td>...</td>\n",
       "      <td>...</td>\n",
       "      <td>...</td>\n",
       "    </tr>\n",
       "    <tr>\n",
       "      <th>295</th>\n",
       "      <td>295</td>\n",
       "      <td>0.028709</td>\n",
       "      <td>0.001832</td>\n",
       "      <td>0.010864</td>\n",
       "      <td>0.000508</td>\n",
       "      <td>0.999242</td>\n",
       "      <td>0.000095</td>\n",
       "      <td>0.992811</td>\n",
       "      <td>0.001689</td>\n",
       "      <td>0.999669</td>\n",
       "      <td>0.000053</td>\n",
       "    </tr>\n",
       "    <tr>\n",
       "      <th>296</th>\n",
       "      <td>296</td>\n",
       "      <td>0.028696</td>\n",
       "      <td>0.001884</td>\n",
       "      <td>0.010845</td>\n",
       "      <td>0.000525</td>\n",
       "      <td>0.999243</td>\n",
       "      <td>0.000094</td>\n",
       "      <td>0.992761</td>\n",
       "      <td>0.001602</td>\n",
       "      <td>0.999682</td>\n",
       "      <td>0.000045</td>\n",
       "    </tr>\n",
       "    <tr>\n",
       "      <th>297</th>\n",
       "      <td>297</td>\n",
       "      <td>0.028663</td>\n",
       "      <td>0.001853</td>\n",
       "      <td>0.010813</td>\n",
       "      <td>0.000554</td>\n",
       "      <td>0.999240</td>\n",
       "      <td>0.000097</td>\n",
       "      <td>0.992710</td>\n",
       "      <td>0.001671</td>\n",
       "      <td>0.999682</td>\n",
       "      <td>0.000045</td>\n",
       "    </tr>\n",
       "    <tr>\n",
       "      <th>298</th>\n",
       "      <td>298</td>\n",
       "      <td>0.028648</td>\n",
       "      <td>0.001836</td>\n",
       "      <td>0.010745</td>\n",
       "      <td>0.000616</td>\n",
       "      <td>0.999240</td>\n",
       "      <td>0.000098</td>\n",
       "      <td>0.992811</td>\n",
       "      <td>0.001610</td>\n",
       "      <td>0.999682</td>\n",
       "      <td>0.000045</td>\n",
       "    </tr>\n",
       "    <tr>\n",
       "      <th>299</th>\n",
       "      <td>299</td>\n",
       "      <td>0.028624</td>\n",
       "      <td>0.001895</td>\n",
       "      <td>0.010702</td>\n",
       "      <td>0.000655</td>\n",
       "      <td>0.999238</td>\n",
       "      <td>0.000100</td>\n",
       "      <td>0.992811</td>\n",
       "      <td>0.001610</td>\n",
       "      <td>0.999682</td>\n",
       "      <td>0.000045</td>\n",
       "    </tr>\n",
       "  </tbody>\n",
       "</table>\n",
       "<p>300 rows × 11 columns</p>\n",
       "</div>"
      ],
      "text/plain": [
       "     iterations  test-Logloss-mean  test-Logloss-std  train-Logloss-mean  \\\n",
       "0             0           0.572087          0.002278            0.571361   \n",
       "1             1           0.484198          0.009323            0.481892   \n",
       "2             2           0.421219          0.007294            0.419621   \n",
       "3             3           0.377035          0.004782            0.376399   \n",
       "4             4           0.347390          0.008350            0.346179   \n",
       "..          ...                ...               ...                 ...   \n",
       "295         295           0.028709          0.001832            0.010864   \n",
       "296         296           0.028696          0.001884            0.010845   \n",
       "297         297           0.028663          0.001853            0.010813   \n",
       "298         298           0.028648          0.001836            0.010745   \n",
       "299         299           0.028624          0.001895            0.010702   \n",
       "\n",
       "     train-Logloss-std  test-AUC-mean  test-AUC-std  test-F1-mean  \\\n",
       "0             0.001017       0.881934      0.004130      0.800264   \n",
       "1             0.008251       0.906570      0.004453      0.819833   \n",
       "2             0.004771       0.926767      0.007464      0.835222   \n",
       "3             0.004140       0.942218      0.001712      0.857751   \n",
       "4             0.008886       0.950253      0.002317      0.869142   \n",
       "..                 ...            ...           ...           ...   \n",
       "295           0.000508       0.999242      0.000095      0.992811   \n",
       "296           0.000525       0.999243      0.000094      0.992761   \n",
       "297           0.000554       0.999240      0.000097      0.992710   \n",
       "298           0.000616       0.999240      0.000098      0.992811   \n",
       "299           0.000655       0.999238      0.000100      0.992811   \n",
       "\n",
       "     test-F1-std  train-F1-mean  train-F1-std  \n",
       "0       0.004578       0.802821      0.002241  \n",
       "1       0.006515       0.824194      0.008055  \n",
       "2       0.011359       0.838374      0.010353  \n",
       "3       0.005912       0.858078      0.006110  \n",
       "4       0.005194       0.869839      0.006276  \n",
       "..           ...            ...           ...  \n",
       "295     0.001689       0.999669      0.000053  \n",
       "296     0.001602       0.999682      0.000045  \n",
       "297     0.001671       0.999682      0.000045  \n",
       "298     0.001610       0.999682      0.000045  \n",
       "299     0.001610       0.999682      0.000045  \n",
       "\n",
       "[300 rows x 11 columns]"
      ]
     },
     "execution_count": 133,
     "metadata": {},
     "output_type": "execute_result"
    }
   ],
   "source": [
    "cv_data"
   ]
  },
  {
   "cell_type": "code",
   "execution_count": 134,
   "id": "78f3d1d6",
   "metadata": {},
   "outputs": [],
   "source": [
    "feature_month_auc_valid = cv_data['test-AUC-mean'].tail(1)"
   ]
  },
  {
   "cell_type": "code",
   "execution_count": 135,
   "id": "5d1e2b01",
   "metadata": {},
   "outputs": [],
   "source": [
    "feature_month_f1_valid = cv_data['test-F1-mean'].tail(1)"
   ]
  },
  {
   "cell_type": "code",
   "execution_count": 136,
   "id": "844a4678",
   "metadata": {},
   "outputs": [
    {
     "data": {
      "text/plain": [
       "299    0.999238\n",
       "Name: test-AUC-mean, dtype: float64"
      ]
     },
     "execution_count": 136,
     "metadata": {},
     "output_type": "execute_result"
    }
   ],
   "source": [
    "feature_month_auc_valid"
   ]
  },
  {
   "cell_type": "code",
   "execution_count": 137,
   "id": "d45d7263",
   "metadata": {},
   "outputs": [
    {
     "data": {
      "text/plain": [
       "299    0.992811\n",
       "Name: test-F1-mean, dtype: float64"
      ]
     },
     "execution_count": 137,
     "metadata": {},
     "output_type": "execute_result"
    }
   ],
   "source": [
    "feature_month_f1_valid"
   ]
  },
  {
   "cell_type": "markdown",
   "id": "f47db99f",
   "metadata": {},
   "source": [
    "### Валидация модели"
   ]
  },
  {
   "cell_type": "code",
   "execution_count": 138,
   "id": "fde1a2ad",
   "metadata": {},
   "outputs": [],
   "source": [
    "model = CatBoostClassifier(loss_function='Logloss',\n",
    "    iterations=300,\n",
    "    custom_loss=['AUC', 'F1'],\n",
    "    random_seed= RS,\n",
    "    learning_rate= 0.2,\n",
    "    verbose=False)"
   ]
  },
  {
   "cell_type": "code",
   "execution_count": 139,
   "id": "d27147c6",
   "metadata": {},
   "outputs": [
    {
     "data": {
      "text/plain": [
       "<catboost.core.CatBoostClassifier at 0x1f4c997a490>"
      ]
     },
     "execution_count": 139,
     "metadata": {},
     "output_type": "execute_result"
    }
   ],
   "source": [
    "model.fit(features_train, target_train)"
   ]
  },
  {
   "cell_type": "code",
   "execution_count": 140,
   "id": "89d6a7dc",
   "metadata": {},
   "outputs": [],
   "source": [
    "pred = model.predict(features_test)"
   ]
  },
  {
   "cell_type": "code",
   "execution_count": 141,
   "id": "4b034f38",
   "metadata": {},
   "outputs": [],
   "source": [
    "feature_month_auc_test = roc_auc_score(target_test, pred)"
   ]
  },
  {
   "cell_type": "code",
   "execution_count": 142,
   "id": "6e2b3f83",
   "metadata": {},
   "outputs": [
    {
     "data": {
      "text/plain": [
       "0.6904957657726329"
      ]
     },
     "execution_count": 142,
     "metadata": {},
     "output_type": "execute_result"
    }
   ],
   "source": [
    "feature_month_auc_test"
   ]
  },
  {
   "cell_type": "code",
   "execution_count": 143,
   "id": "99053c77",
   "metadata": {},
   "outputs": [],
   "source": [
    "feature_month_f1_test = f1_score(target_test, pred)"
   ]
  },
  {
   "cell_type": "code",
   "execution_count": 144,
   "id": "6b888214",
   "metadata": {},
   "outputs": [
    {
     "data": {
      "text/plain": [
       "0.4700460829493088"
      ]
     },
     "execution_count": 144,
     "metadata": {},
     "output_type": "execute_result"
    }
   ],
   "source": [
    "feature_month_f1_test"
   ]
  },
  {
   "cell_type": "code",
   "execution_count": 145,
   "id": "291a9a90",
   "metadata": {},
   "outputs": [
    {
     "data": {
      "image/png": "[encoded data removed]",
      "text/plain": [
       "<Figure size 640x480 with 2 Axes>"
      ]
     },
     "metadata": {},
     "output_type": "display_data"
    }
   ],
   "source": [
    "cm = confusion_matrix(target_test, pred, normalize='true')\n",
    "ConfusionMatrixDisplay(confusion_matrix=cm).plot()\n",
    "plt.show()"
   ]
  },
  {
   "cell_type": "markdown",
   "id": "32da00d7",
   "metadata": {},
   "source": [
    "## Бейслайн модель с новыми фичами (месяц года)"
   ]
  },
  {
   "cell_type": "code",
   "execution_count": 146,
   "id": "2118e91d",
   "metadata": {},
   "outputs": [
    {
     "data": {
      "text/html": [
       "<div>\n",
       "<style scoped>\n",
       "    .dataframe tbody tr th:only-of-type {\n",
       "        vertical-align: middle;\n",
       "    }\n",
       "\n",
       "    .dataframe tbody tr th {\n",
       "        vertical-align: top;\n",
       "    }\n",
       "\n",
       "    .dataframe thead th {\n",
       "        text-align: right;\n",
       "    }\n",
       "</style>\n",
       "<table border=\"1\" class=\"dataframe\">\n",
       "  <thead>\n",
       "    <tr style=\"text-align: right;\">\n",
       "      <th></th>\n",
       "      <th>report_date</th>\n",
       "      <th>client_id</th>\n",
       "      <th>target</th>\n",
       "      <th>col1453</th>\n",
       "      <th>col2167</th>\n",
       "      <th>col2168</th>\n",
       "      <th>col2169</th>\n",
       "      <th>col2170</th>\n",
       "      <th>col2171</th>\n",
       "      <th>col2172</th>\n",
       "      <th>...</th>\n",
       "      <th>col2365</th>\n",
       "      <th>col2366</th>\n",
       "      <th>col2388</th>\n",
       "      <th>col2389</th>\n",
       "      <th>col2390</th>\n",
       "      <th>col2460</th>\n",
       "      <th>col2461</th>\n",
       "      <th>col2462</th>\n",
       "      <th>col2470</th>\n",
       "      <th>col2663</th>\n",
       "    </tr>\n",
       "  </thead>\n",
       "  <tbody>\n",
       "    <tr>\n",
       "      <th>0</th>\n",
       "      <td>2022-11-01</td>\n",
       "      <td>1</td>\n",
       "      <td>0</td>\n",
       "      <td>0</td>\n",
       "      <td>0.0</td>\n",
       "      <td>0.0</td>\n",
       "      <td>0.0</td>\n",
       "      <td>0.0</td>\n",
       "      <td>0.0</td>\n",
       "      <td>0.0</td>\n",
       "      <td>...</td>\n",
       "      <td>1.0</td>\n",
       "      <td>1.0</td>\n",
       "      <td>37.88</td>\n",
       "      <td>37.88</td>\n",
       "      <td>37.880</td>\n",
       "      <td>0.00</td>\n",
       "      <td>0.00</td>\n",
       "      <td>0.000</td>\n",
       "      <td>545.000000</td>\n",
       "      <td>0.256261</td>\n",
       "    </tr>\n",
       "    <tr>\n",
       "      <th>1</th>\n",
       "      <td>2022-11-01</td>\n",
       "      <td>5</td>\n",
       "      <td>0</td>\n",
       "      <td>1</td>\n",
       "      <td>0.0</td>\n",
       "      <td>0.0</td>\n",
       "      <td>0.0</td>\n",
       "      <td>0.0</td>\n",
       "      <td>0.0</td>\n",
       "      <td>6.0</td>\n",
       "      <td>...</td>\n",
       "      <td>1.0</td>\n",
       "      <td>1.0</td>\n",
       "      <td>38.75</td>\n",
       "      <td>3.34</td>\n",
       "      <td>21.045</td>\n",
       "      <td>0.00</td>\n",
       "      <td>0.00</td>\n",
       "      <td>0.000</td>\n",
       "      <td>242.000000</td>\n",
       "      <td>0.256261</td>\n",
       "    </tr>\n",
       "    <tr>\n",
       "      <th>2</th>\n",
       "      <td>2022-05-01</td>\n",
       "      <td>6</td>\n",
       "      <td>0</td>\n",
       "      <td>0</td>\n",
       "      <td>0.0</td>\n",
       "      <td>0.0</td>\n",
       "      <td>0.0</td>\n",
       "      <td>0.0</td>\n",
       "      <td>0.0</td>\n",
       "      <td>0.0</td>\n",
       "      <td>...</td>\n",
       "      <td>1.0</td>\n",
       "      <td>1.0</td>\n",
       "      <td>36.75</td>\n",
       "      <td>36.75</td>\n",
       "      <td>36.750</td>\n",
       "      <td>2.10</td>\n",
       "      <td>2.10</td>\n",
       "      <td>2.100</td>\n",
       "      <td>557.000000</td>\n",
       "      <td>0.256261</td>\n",
       "    </tr>\n",
       "    <tr>\n",
       "      <th>3</th>\n",
       "      <td>2022-09-01</td>\n",
       "      <td>7</td>\n",
       "      <td>0</td>\n",
       "      <td>0</td>\n",
       "      <td>1.0</td>\n",
       "      <td>1.0</td>\n",
       "      <td>1.0</td>\n",
       "      <td>1.0</td>\n",
       "      <td>1.0</td>\n",
       "      <td>1.0</td>\n",
       "      <td>...</td>\n",
       "      <td>1.0</td>\n",
       "      <td>1.0</td>\n",
       "      <td>35.56</td>\n",
       "      <td>35.56</td>\n",
       "      <td>35.560</td>\n",
       "      <td>1.40</td>\n",
       "      <td>1.40</td>\n",
       "      <td>1.400</td>\n",
       "      <td>332.556663</td>\n",
       "      <td>0.258682</td>\n",
       "    </tr>\n",
       "    <tr>\n",
       "      <th>4</th>\n",
       "      <td>2022-08-01</td>\n",
       "      <td>8</td>\n",
       "      <td>0</td>\n",
       "      <td>0</td>\n",
       "      <td>0.0</td>\n",
       "      <td>0.0</td>\n",
       "      <td>0.0</td>\n",
       "      <td>0.0</td>\n",
       "      <td>0.0</td>\n",
       "      <td>3.0</td>\n",
       "      <td>...</td>\n",
       "      <td>2.0</td>\n",
       "      <td>2.0</td>\n",
       "      <td>54.52</td>\n",
       "      <td>54.52</td>\n",
       "      <td>54.520</td>\n",
       "      <td>2.28</td>\n",
       "      <td>2.28</td>\n",
       "      <td>2.280</td>\n",
       "      <td>256.000000</td>\n",
       "      <td>0.254164</td>\n",
       "    </tr>\n",
       "    <tr>\n",
       "      <th>...</th>\n",
       "      <td>...</td>\n",
       "      <td>...</td>\n",
       "      <td>...</td>\n",
       "      <td>...</td>\n",
       "      <td>...</td>\n",
       "      <td>...</td>\n",
       "      <td>...</td>\n",
       "      <td>...</td>\n",
       "      <td>...</td>\n",
       "      <td>...</td>\n",
       "      <td>...</td>\n",
       "      <td>...</td>\n",
       "      <td>...</td>\n",
       "      <td>...</td>\n",
       "      <td>...</td>\n",
       "      <td>...</td>\n",
       "      <td>...</td>\n",
       "      <td>...</td>\n",
       "      <td>...</td>\n",
       "      <td>...</td>\n",
       "      <td>...</td>\n",
       "    </tr>\n",
       "    <tr>\n",
       "      <th>14451</th>\n",
       "      <td>2022-07-01</td>\n",
       "      <td>1241</td>\n",
       "      <td>0</td>\n",
       "      <td>0</td>\n",
       "      <td>0.0</td>\n",
       "      <td>0.0</td>\n",
       "      <td>0.0</td>\n",
       "      <td>0.0</td>\n",
       "      <td>0.0</td>\n",
       "      <td>0.0</td>\n",
       "      <td>...</td>\n",
       "      <td>2.0</td>\n",
       "      <td>2.0</td>\n",
       "      <td>56.48</td>\n",
       "      <td>56.48</td>\n",
       "      <td>56.480</td>\n",
       "      <td>1.41</td>\n",
       "      <td>1.41</td>\n",
       "      <td>1.410</td>\n",
       "      <td>332.556663</td>\n",
       "      <td>0.276902</td>\n",
       "    </tr>\n",
       "    <tr>\n",
       "      <th>14452</th>\n",
       "      <td>2022-09-01</td>\n",
       "      <td>1969</td>\n",
       "      <td>1</td>\n",
       "      <td>0</td>\n",
       "      <td>0.0</td>\n",
       "      <td>0.0</td>\n",
       "      <td>0.0</td>\n",
       "      <td>0.0</td>\n",
       "      <td>0.0</td>\n",
       "      <td>0.0</td>\n",
       "      <td>...</td>\n",
       "      <td>2.0</td>\n",
       "      <td>2.0</td>\n",
       "      <td>64.40</td>\n",
       "      <td>64.40</td>\n",
       "      <td>64.400</td>\n",
       "      <td>0.00</td>\n",
       "      <td>0.00</td>\n",
       "      <td>0.000</td>\n",
       "      <td>745.000000</td>\n",
       "      <td>0.260516</td>\n",
       "    </tr>\n",
       "    <tr>\n",
       "      <th>14453</th>\n",
       "      <td>2022-02-01</td>\n",
       "      <td>7116</td>\n",
       "      <td>1</td>\n",
       "      <td>0</td>\n",
       "      <td>0.0</td>\n",
       "      <td>0.0</td>\n",
       "      <td>6.0</td>\n",
       "      <td>6.0</td>\n",
       "      <td>6.0</td>\n",
       "      <td>6.0</td>\n",
       "      <td>...</td>\n",
       "      <td>2.0</td>\n",
       "      <td>2.5</td>\n",
       "      <td>57.27</td>\n",
       "      <td>55.68</td>\n",
       "      <td>56.475</td>\n",
       "      <td>2.25</td>\n",
       "      <td>0.00</td>\n",
       "      <td>1.125</td>\n",
       "      <td>45.000000</td>\n",
       "      <td>0.260005</td>\n",
       "    </tr>\n",
       "    <tr>\n",
       "      <th>14454</th>\n",
       "      <td>2021-08-01</td>\n",
       "      <td>7117</td>\n",
       "      <td>0</td>\n",
       "      <td>0</td>\n",
       "      <td>0.0</td>\n",
       "      <td>0.0</td>\n",
       "      <td>0.0</td>\n",
       "      <td>0.0</td>\n",
       "      <td>2.0</td>\n",
       "      <td>3.0</td>\n",
       "      <td>...</td>\n",
       "      <td>1.0</td>\n",
       "      <td>1.0</td>\n",
       "      <td>34.95</td>\n",
       "      <td>34.95</td>\n",
       "      <td>34.950</td>\n",
       "      <td>0.00</td>\n",
       "      <td>0.00</td>\n",
       "      <td>0.000</td>\n",
       "      <td>179.000000</td>\n",
       "      <td>0.256261</td>\n",
       "    </tr>\n",
       "    <tr>\n",
       "      <th>14455</th>\n",
       "      <td>2022-03-01</td>\n",
       "      <td>849</td>\n",
       "      <td>0</td>\n",
       "      <td>0</td>\n",
       "      <td>0.0</td>\n",
       "      <td>0.0</td>\n",
       "      <td>0.0</td>\n",
       "      <td>0.0</td>\n",
       "      <td>0.0</td>\n",
       "      <td>6.0</td>\n",
       "      <td>...</td>\n",
       "      <td>1.0</td>\n",
       "      <td>1.0</td>\n",
       "      <td>32.80</td>\n",
       "      <td>4.40</td>\n",
       "      <td>18.600</td>\n",
       "      <td>0.00</td>\n",
       "      <td>0.00</td>\n",
       "      <td>0.000</td>\n",
       "      <td>255.000000</td>\n",
       "      <td>0.293904</td>\n",
       "    </tr>\n",
       "  </tbody>\n",
       "</table>\n",
       "<p>14456 rows × 54 columns</p>\n",
       "</div>"
      ],
      "text/plain": [
       "      report_date  client_id  target  col1453  col2167  col2168  col2169  \\\n",
       "0      2022-11-01          1       0        0      0.0      0.0      0.0   \n",
       "1      2022-11-01          5       0        1      0.0      0.0      0.0   \n",
       "2      2022-05-01          6       0        0      0.0      0.0      0.0   \n",
       "3      2022-09-01          7       0        0      1.0      1.0      1.0   \n",
       "4      2022-08-01          8       0        0      0.0      0.0      0.0   \n",
       "...           ...        ...     ...      ...      ...      ...      ...   \n",
       "14451  2022-07-01       1241       0        0      0.0      0.0      0.0   \n",
       "14452  2022-09-01       1969       1        0      0.0      0.0      0.0   \n",
       "14453  2022-02-01       7116       1        0      0.0      0.0      6.0   \n",
       "14454  2021-08-01       7117       0        0      0.0      0.0      0.0   \n",
       "14455  2022-03-01        849       0        0      0.0      0.0      0.0   \n",
       "\n",
       "       col2170  col2171  col2172  ...  col2365  col2366  col2388  col2389  \\\n",
       "0          0.0      0.0      0.0  ...      1.0      1.0    37.88    37.88   \n",
       "1          0.0      0.0      6.0  ...      1.0      1.0    38.75     3.34   \n",
       "2          0.0      0.0      0.0  ...      1.0      1.0    36.75    36.75   \n",
       "3          1.0      1.0      1.0  ...      1.0      1.0    35.56    35.56   \n",
       "4          0.0      0.0      3.0  ...      2.0      2.0    54.52    54.52   \n",
       "...        ...      ...      ...  ...      ...      ...      ...      ...   \n",
       "14451      0.0      0.0      0.0  ...      2.0      2.0    56.48    56.48   \n",
       "14452      0.0      0.0      0.0  ...      2.0      2.0    64.40    64.40   \n",
       "14453      6.0      6.0      6.0  ...      2.0      2.5    57.27    55.68   \n",
       "14454      0.0      2.0      3.0  ...      1.0      1.0    34.95    34.95   \n",
       "14455      0.0      0.0      6.0  ...      1.0      1.0    32.80     4.40   \n",
       "\n",
       "       col2390  col2460  col2461  col2462     col2470   col2663  \n",
       "0       37.880     0.00     0.00    0.000  545.000000  0.256261  \n",
       "1       21.045     0.00     0.00    0.000  242.000000  0.256261  \n",
       "2       36.750     2.10     2.10    2.100  557.000000  0.256261  \n",
       "3       35.560     1.40     1.40    1.400  332.556663  0.258682  \n",
       "4       54.520     2.28     2.28    2.280  256.000000  0.254164  \n",
       "...        ...      ...      ...      ...         ...       ...  \n",
       "14451   56.480     1.41     1.41    1.410  332.556663  0.276902  \n",
       "14452   64.400     0.00     0.00    0.000  745.000000  0.260516  \n",
       "14453   56.475     2.25     0.00    1.125   45.000000  0.260005  \n",
       "14454   34.950     0.00     0.00    0.000  179.000000  0.256261  \n",
       "14455   18.600     0.00     0.00    0.000  255.000000  0.293904  \n",
       "\n",
       "[14456 rows x 54 columns]"
      ]
     },
     "execution_count": 146,
     "metadata": {},
     "output_type": "execute_result"
    }
   ],
   "source": [
    "data_f"
   ]
  },
  {
   "cell_type": "code",
   "execution_count": 147,
   "id": "d0a30e74",
   "metadata": {},
   "outputs": [],
   "source": [
    "train, test = train_test_split(data_f, test_size=0.3, random_state=RS, stratify=data['target'])"
   ]
  },
  {
   "cell_type": "code",
   "execution_count": 148,
   "id": "939ded0f",
   "metadata": {},
   "outputs": [],
   "source": [
    "def month_maker(row):\n",
    "        return row['report_date'].month"
   ]
  },
  {
   "cell_type": "code",
   "execution_count": 149,
   "id": "007ae757",
   "metadata": {},
   "outputs": [],
   "source": [
    "train['month'] = train.apply(month_maker, axis=1)"
   ]
  },
  {
   "cell_type": "code",
   "execution_count": 150,
   "id": "5d165341",
   "metadata": {},
   "outputs": [],
   "source": [
    "test['month'] = test.apply(month_maker, axis=1)"
   ]
  },
  {
   "cell_type": "code",
   "execution_count": 151,
   "id": "abe776dd",
   "metadata": {},
   "outputs": [
    {
     "data": {
      "text/html": [
       "<div>\n",
       "<style scoped>\n",
       "    .dataframe tbody tr th:only-of-type {\n",
       "        vertical-align: middle;\n",
       "    }\n",
       "\n",
       "    .dataframe tbody tr th {\n",
       "        vertical-align: top;\n",
       "    }\n",
       "\n",
       "    .dataframe thead th {\n",
       "        text-align: right;\n",
       "    }\n",
       "</style>\n",
       "<table border=\"1\" class=\"dataframe\">\n",
       "  <thead>\n",
       "    <tr style=\"text-align: right;\">\n",
       "      <th></th>\n",
       "      <th>report_date</th>\n",
       "      <th>client_id</th>\n",
       "      <th>target</th>\n",
       "      <th>col1453</th>\n",
       "      <th>col2167</th>\n",
       "      <th>col2168</th>\n",
       "      <th>col2169</th>\n",
       "      <th>col2170</th>\n",
       "      <th>col2171</th>\n",
       "      <th>col2172</th>\n",
       "      <th>...</th>\n",
       "      <th>col2366</th>\n",
       "      <th>col2388</th>\n",
       "      <th>col2389</th>\n",
       "      <th>col2390</th>\n",
       "      <th>col2460</th>\n",
       "      <th>col2461</th>\n",
       "      <th>col2462</th>\n",
       "      <th>col2470</th>\n",
       "      <th>col2663</th>\n",
       "      <th>month</th>\n",
       "    </tr>\n",
       "  </thead>\n",
       "  <tbody>\n",
       "    <tr>\n",
       "      <th>12103</th>\n",
       "      <td>2022-07-01</td>\n",
       "      <td>1948</td>\n",
       "      <td>0</td>\n",
       "      <td>0</td>\n",
       "      <td>0.0</td>\n",
       "      <td>0.0</td>\n",
       "      <td>0.0</td>\n",
       "      <td>0.0</td>\n",
       "      <td>2.0</td>\n",
       "      <td>3.0</td>\n",
       "      <td>...</td>\n",
       "      <td>1.0</td>\n",
       "      <td>33.65</td>\n",
       "      <td>33.65</td>\n",
       "      <td>33.65</td>\n",
       "      <td>1.13</td>\n",
       "      <td>1.13</td>\n",
       "      <td>1.130</td>\n",
       "      <td>162.0</td>\n",
       "      <td>0.257549</td>\n",
       "      <td>7</td>\n",
       "    </tr>\n",
       "    <tr>\n",
       "      <th>6774</th>\n",
       "      <td>2022-11-01</td>\n",
       "      <td>4756</td>\n",
       "      <td>0</td>\n",
       "      <td>1</td>\n",
       "      <td>0.0</td>\n",
       "      <td>0.0</td>\n",
       "      <td>0.0</td>\n",
       "      <td>0.0</td>\n",
       "      <td>3.0</td>\n",
       "      <td>3.0</td>\n",
       "      <td>...</td>\n",
       "      <td>2.0</td>\n",
       "      <td>59.49</td>\n",
       "      <td>59.49</td>\n",
       "      <td>59.49</td>\n",
       "      <td>1.83</td>\n",
       "      <td>1.83</td>\n",
       "      <td>1.830</td>\n",
       "      <td>109.0</td>\n",
       "      <td>0.258306</td>\n",
       "      <td>11</td>\n",
       "    </tr>\n",
       "    <tr>\n",
       "      <th>12287</th>\n",
       "      <td>2023-01-01</td>\n",
       "      <td>3605</td>\n",
       "      <td>0</td>\n",
       "      <td>0</td>\n",
       "      <td>0.0</td>\n",
       "      <td>0.0</td>\n",
       "      <td>0.0</td>\n",
       "      <td>0.0</td>\n",
       "      <td>0.0</td>\n",
       "      <td>0.0</td>\n",
       "      <td>...</td>\n",
       "      <td>3.0</td>\n",
       "      <td>79.58</td>\n",
       "      <td>79.58</td>\n",
       "      <td>79.58</td>\n",
       "      <td>3.98</td>\n",
       "      <td>3.98</td>\n",
       "      <td>3.980</td>\n",
       "      <td>390.0</td>\n",
       "      <td>0.257348</td>\n",
       "      <td>1</td>\n",
       "    </tr>\n",
       "    <tr>\n",
       "      <th>8531</th>\n",
       "      <td>2022-05-01</td>\n",
       "      <td>1680</td>\n",
       "      <td>0</td>\n",
       "      <td>0</td>\n",
       "      <td>0.0</td>\n",
       "      <td>0.0</td>\n",
       "      <td>0.0</td>\n",
       "      <td>0.0</td>\n",
       "      <td>0.0</td>\n",
       "      <td>4.0</td>\n",
       "      <td>...</td>\n",
       "      <td>1.0</td>\n",
       "      <td>32.02</td>\n",
       "      <td>20.48</td>\n",
       "      <td>26.25</td>\n",
       "      <td>2.02</td>\n",
       "      <td>1.17</td>\n",
       "      <td>1.595</td>\n",
       "      <td>297.0</td>\n",
       "      <td>0.256261</td>\n",
       "      <td>5</td>\n",
       "    </tr>\n",
       "    <tr>\n",
       "      <th>6719</th>\n",
       "      <td>2022-09-01</td>\n",
       "      <td>2574</td>\n",
       "      <td>0</td>\n",
       "      <td>0</td>\n",
       "      <td>0.0</td>\n",
       "      <td>0.0</td>\n",
       "      <td>0.0</td>\n",
       "      <td>0.0</td>\n",
       "      <td>0.0</td>\n",
       "      <td>2.0</td>\n",
       "      <td>...</td>\n",
       "      <td>1.0</td>\n",
       "      <td>37.07</td>\n",
       "      <td>37.07</td>\n",
       "      <td>37.07</td>\n",
       "      <td>2.28</td>\n",
       "      <td>2.28</td>\n",
       "      <td>2.280</td>\n",
       "      <td>335.0</td>\n",
       "      <td>0.256261</td>\n",
       "      <td>9</td>\n",
       "    </tr>\n",
       "  </tbody>\n",
       "</table>\n",
       "<p>5 rows × 55 columns</p>\n",
       "</div>"
      ],
      "text/plain": [
       "      report_date  client_id  target  col1453  col2167  col2168  col2169  \\\n",
       "12103  2022-07-01       1948       0        0      0.0      0.0      0.0   \n",
       "6774   2022-11-01       4756       0        1      0.0      0.0      0.0   \n",
       "12287  2023-01-01       3605       0        0      0.0      0.0      0.0   \n",
       "8531   2022-05-01       1680       0        0      0.0      0.0      0.0   \n",
       "6719   2022-09-01       2574       0        0      0.0      0.0      0.0   \n",
       "\n",
       "       col2170  col2171  col2172  ...  col2366  col2388  col2389  col2390  \\\n",
       "12103      0.0      2.0      3.0  ...      1.0    33.65    33.65    33.65   \n",
       "6774       0.0      3.0      3.0  ...      2.0    59.49    59.49    59.49   \n",
       "12287      0.0      0.0      0.0  ...      3.0    79.58    79.58    79.58   \n",
       "8531       0.0      0.0      4.0  ...      1.0    32.02    20.48    26.25   \n",
       "6719       0.0      0.0      2.0  ...      1.0    37.07    37.07    37.07   \n",
       "\n",
       "       col2460  col2461  col2462  col2470   col2663  month  \n",
       "12103     1.13     1.13    1.130    162.0  0.257549      7  \n",
       "6774      1.83     1.83    1.830    109.0  0.258306     11  \n",
       "12287     3.98     3.98    3.980    390.0  0.257348      1  \n",
       "8531      2.02     1.17    1.595    297.0  0.256261      5  \n",
       "6719      2.28     2.28    2.280    335.0  0.256261      9  \n",
       "\n",
       "[5 rows x 55 columns]"
      ]
     },
     "execution_count": 151,
     "metadata": {},
     "output_type": "execute_result"
    }
   ],
   "source": [
    "train.head()"
   ]
  },
  {
   "cell_type": "code",
   "execution_count": 152,
   "id": "0497a7e8",
   "metadata": {},
   "outputs": [],
   "source": [
    "train = pd.get_dummies(train, columns=['month'], drop_first=False, dtype='int')"
   ]
  },
  {
   "cell_type": "code",
   "execution_count": 153,
   "id": "45785507",
   "metadata": {},
   "outputs": [
    {
     "data": {
      "text/html": [
       "<div>\n",
       "<style scoped>\n",
       "    .dataframe tbody tr th:only-of-type {\n",
       "        vertical-align: middle;\n",
       "    }\n",
       "\n",
       "    .dataframe tbody tr th {\n",
       "        vertical-align: top;\n",
       "    }\n",
       "\n",
       "    .dataframe thead th {\n",
       "        text-align: right;\n",
       "    }\n",
       "</style>\n",
       "<table border=\"1\" class=\"dataframe\">\n",
       "  <thead>\n",
       "    <tr style=\"text-align: right;\">\n",
       "      <th></th>\n",
       "      <th>report_date</th>\n",
       "      <th>client_id</th>\n",
       "      <th>target</th>\n",
       "      <th>col1453</th>\n",
       "      <th>col2167</th>\n",
       "      <th>col2168</th>\n",
       "      <th>col2169</th>\n",
       "      <th>col2170</th>\n",
       "      <th>col2171</th>\n",
       "      <th>col2172</th>\n",
       "      <th>...</th>\n",
       "      <th>month_3</th>\n",
       "      <th>month_4</th>\n",
       "      <th>month_5</th>\n",
       "      <th>month_6</th>\n",
       "      <th>month_7</th>\n",
       "      <th>month_8</th>\n",
       "      <th>month_9</th>\n",
       "      <th>month_10</th>\n",
       "      <th>month_11</th>\n",
       "      <th>month_12</th>\n",
       "    </tr>\n",
       "  </thead>\n",
       "  <tbody>\n",
       "    <tr>\n",
       "      <th>12103</th>\n",
       "      <td>2022-07-01</td>\n",
       "      <td>1948</td>\n",
       "      <td>0</td>\n",
       "      <td>0</td>\n",
       "      <td>0.0</td>\n",
       "      <td>0.0</td>\n",
       "      <td>0.0</td>\n",
       "      <td>0.0</td>\n",
       "      <td>2.0</td>\n",
       "      <td>3.0</td>\n",
       "      <td>...</td>\n",
       "      <td>0</td>\n",
       "      <td>0</td>\n",
       "      <td>0</td>\n",
       "      <td>0</td>\n",
       "      <td>1</td>\n",
       "      <td>0</td>\n",
       "      <td>0</td>\n",
       "      <td>0</td>\n",
       "      <td>0</td>\n",
       "      <td>0</td>\n",
       "    </tr>\n",
       "    <tr>\n",
       "      <th>6774</th>\n",
       "      <td>2022-11-01</td>\n",
       "      <td>4756</td>\n",
       "      <td>0</td>\n",
       "      <td>1</td>\n",
       "      <td>0.0</td>\n",
       "      <td>0.0</td>\n",
       "      <td>0.0</td>\n",
       "      <td>0.0</td>\n",
       "      <td>3.0</td>\n",
       "      <td>3.0</td>\n",
       "      <td>...</td>\n",
       "      <td>0</td>\n",
       "      <td>0</td>\n",
       "      <td>0</td>\n",
       "      <td>0</td>\n",
       "      <td>0</td>\n",
       "      <td>0</td>\n",
       "      <td>0</td>\n",
       "      <td>0</td>\n",
       "      <td>1</td>\n",
       "      <td>0</td>\n",
       "    </tr>\n",
       "    <tr>\n",
       "      <th>12287</th>\n",
       "      <td>2023-01-01</td>\n",
       "      <td>3605</td>\n",
       "      <td>0</td>\n",
       "      <td>0</td>\n",
       "      <td>0.0</td>\n",
       "      <td>0.0</td>\n",
       "      <td>0.0</td>\n",
       "      <td>0.0</td>\n",
       "      <td>0.0</td>\n",
       "      <td>0.0</td>\n",
       "      <td>...</td>\n",
       "      <td>0</td>\n",
       "      <td>0</td>\n",
       "      <td>0</td>\n",
       "      <td>0</td>\n",
       "      <td>0</td>\n",
       "      <td>0</td>\n",
       "      <td>0</td>\n",
       "      <td>0</td>\n",
       "      <td>0</td>\n",
       "      <td>0</td>\n",
       "    </tr>\n",
       "    <tr>\n",
       "      <th>8531</th>\n",
       "      <td>2022-05-01</td>\n",
       "      <td>1680</td>\n",
       "      <td>0</td>\n",
       "      <td>0</td>\n",
       "      <td>0.0</td>\n",
       "      <td>0.0</td>\n",
       "      <td>0.0</td>\n",
       "      <td>0.0</td>\n",
       "      <td>0.0</td>\n",
       "      <td>4.0</td>\n",
       "      <td>...</td>\n",
       "      <td>0</td>\n",
       "      <td>0</td>\n",
       "      <td>1</td>\n",
       "      <td>0</td>\n",
       "      <td>0</td>\n",
       "      <td>0</td>\n",
       "      <td>0</td>\n",
       "      <td>0</td>\n",
       "      <td>0</td>\n",
       "      <td>0</td>\n",
       "    </tr>\n",
       "    <tr>\n",
       "      <th>6719</th>\n",
       "      <td>2022-09-01</td>\n",
       "      <td>2574</td>\n",
       "      <td>0</td>\n",
       "      <td>0</td>\n",
       "      <td>0.0</td>\n",
       "      <td>0.0</td>\n",
       "      <td>0.0</td>\n",
       "      <td>0.0</td>\n",
       "      <td>0.0</td>\n",
       "      <td>2.0</td>\n",
       "      <td>...</td>\n",
       "      <td>0</td>\n",
       "      <td>0</td>\n",
       "      <td>0</td>\n",
       "      <td>0</td>\n",
       "      <td>0</td>\n",
       "      <td>0</td>\n",
       "      <td>1</td>\n",
       "      <td>0</td>\n",
       "      <td>0</td>\n",
       "      <td>0</td>\n",
       "    </tr>\n",
       "  </tbody>\n",
       "</table>\n",
       "<p>5 rows × 66 columns</p>\n",
       "</div>"
      ],
      "text/plain": [
       "      report_date  client_id  target  col1453  col2167  col2168  col2169  \\\n",
       "12103  2022-07-01       1948       0        0      0.0      0.0      0.0   \n",
       "6774   2022-11-01       4756       0        1      0.0      0.0      0.0   \n",
       "12287  2023-01-01       3605       0        0      0.0      0.0      0.0   \n",
       "8531   2022-05-01       1680       0        0      0.0      0.0      0.0   \n",
       "6719   2022-09-01       2574       0        0      0.0      0.0      0.0   \n",
       "\n",
       "       col2170  col2171  col2172  ...  month_3  month_4  month_5  month_6  \\\n",
       "12103      0.0      2.0      3.0  ...        0        0        0        0   \n",
       "6774       0.0      3.0      3.0  ...        0        0        0        0   \n",
       "12287      0.0      0.0      0.0  ...        0        0        0        0   \n",
       "8531       0.0      0.0      4.0  ...        0        0        1        0   \n",
       "6719       0.0      0.0      2.0  ...        0        0        0        0   \n",
       "\n",
       "       month_7  month_8  month_9  month_10  month_11  month_12  \n",
       "12103        1        0        0         0         0         0  \n",
       "6774         0        0        0         0         1         0  \n",
       "12287        0        0        0         0         0         0  \n",
       "8531         0        0        0         0         0         0  \n",
       "6719         0        0        1         0         0         0  \n",
       "\n",
       "[5 rows x 66 columns]"
      ]
     },
     "execution_count": 153,
     "metadata": {},
     "output_type": "execute_result"
    }
   ],
   "source": [
    "train.head()"
   ]
  },
  {
   "cell_type": "code",
   "execution_count": 154,
   "id": "ceacf8b4",
   "metadata": {},
   "outputs": [],
   "source": [
    "test = pd.get_dummies(test, columns=['month'], drop_first=False, dtype='int')"
   ]
  },
  {
   "cell_type": "code",
   "execution_count": 155,
   "id": "8e5eedc1",
   "metadata": {},
   "outputs": [],
   "source": [
    "features_train = train.drop(columns=['report_date', 'client_id', 'target'])"
   ]
  },
  {
   "cell_type": "code",
   "execution_count": 156,
   "id": "af2cdb1d",
   "metadata": {},
   "outputs": [],
   "source": [
    "target_train = train['target']"
   ]
  },
  {
   "cell_type": "code",
   "execution_count": 157,
   "id": "1f67fb86",
   "metadata": {},
   "outputs": [],
   "source": [
    "features_train, target_train = SMOTE().fit_resample(features_train, target_train)"
   ]
  },
  {
   "cell_type": "code",
   "execution_count": 158,
   "id": "d13fad2c",
   "metadata": {},
   "outputs": [],
   "source": [
    "features_test = test.drop(columns=['report_date', 'client_id', 'target'])"
   ]
  },
  {
   "cell_type": "code",
   "execution_count": 159,
   "id": "d6e96ccf",
   "metadata": {},
   "outputs": [],
   "source": [
    "target_test = test['target']"
   ]
  },
  {
   "cell_type": "code",
   "execution_count": 160,
   "id": "69d90553",
   "metadata": {},
   "outputs": [],
   "source": [
    "params = {\n",
    "    'loss_function': 'Logloss',\n",
    "    'iterations': 300,\n",
    "    'custom_loss': ['AUC', 'F1'],\n",
    "    'random_seed': RS,\n",
    "    'learning_rate': 0.2\n",
    "}"
   ]
  },
  {
   "cell_type": "code",
   "execution_count": 161,
   "id": "0e86b5ea",
   "metadata": {},
   "outputs": [
    {
     "data": {
      "application/vnd.jupyter.widget-view+json": {
       "model_id": "63c5b18e9d0a47ec91077c199036eaee",
       "version_major": 2,
       "version_minor": 0
      },
      "text/plain": [
       "MetricVisualizer(layout=Layout(align_self='stretch', height='500px'))"
      ]
     },
     "metadata": {},
     "output_type": "display_data"
    },
    {
     "name": "stdout",
     "output_type": "stream",
     "text": [
      "Training on fold [0/5]\n",
      "\n",
      "bestTest = 0.04064994789\n",
      "bestIteration = 299\n",
      "\n",
      "Training on fold [1/5]\n",
      "\n",
      "bestTest = 0.03816402566\n",
      "bestIteration = 297\n",
      "\n",
      "Training on fold [2/5]\n",
      "\n",
      "bestTest = 0.04589530996\n",
      "bestIteration = 295\n",
      "\n",
      "Training on fold [3/5]\n",
      "\n",
      "bestTest = 0.03736294957\n",
      "bestIteration = 299\n",
      "\n",
      "Training on fold [4/5]\n",
      "\n",
      "bestTest = 0.04816208974\n",
      "bestIteration = 299\n",
      "\n"
     ]
    }
   ],
   "source": [
    "cv_data = cv(\n",
    "    params=params,\n",
    "    pool=Pool(features_train, label=target_train),\n",
    "    fold_count=5, # Разбивка выборки на 5 кусочков\n",
    "    shuffle=True, # Перемешаем наши данные\n",
    "    partition_random_seed=RS,\n",
    "    plot=True,\n",
    "    stratified=True, \n",
    "    verbose=False\n",
    ")"
   ]
  },
  {
   "cell_type": "code",
   "execution_count": 162,
   "id": "ee8c8a21",
   "metadata": {},
   "outputs": [
    {
     "data": {
      "text/html": [
       "<div>\n",
       "<style scoped>\n",
       "    .dataframe tbody tr th:only-of-type {\n",
       "        vertical-align: middle;\n",
       "    }\n",
       "\n",
       "    .dataframe tbody tr th {\n",
       "        vertical-align: top;\n",
       "    }\n",
       "\n",
       "    .dataframe thead th {\n",
       "        text-align: right;\n",
       "    }\n",
       "</style>\n",
       "<table border=\"1\" class=\"dataframe\">\n",
       "  <thead>\n",
       "    <tr style=\"text-align: right;\">\n",
       "      <th></th>\n",
       "      <th>iterations</th>\n",
       "      <th>test-Logloss-mean</th>\n",
       "      <th>test-Logloss-std</th>\n",
       "      <th>train-Logloss-mean</th>\n",
       "      <th>train-Logloss-std</th>\n",
       "      <th>test-AUC-mean</th>\n",
       "      <th>test-AUC-std</th>\n",
       "      <th>test-F1-mean</th>\n",
       "      <th>test-F1-std</th>\n",
       "      <th>train-F1-mean</th>\n",
       "      <th>train-F1-std</th>\n",
       "    </tr>\n",
       "  </thead>\n",
       "  <tbody>\n",
       "    <tr>\n",
       "      <th>0</th>\n",
       "      <td>0</td>\n",
       "      <td>0.549820</td>\n",
       "      <td>0.009947</td>\n",
       "      <td>0.549447</td>\n",
       "      <td>0.010189</td>\n",
       "      <td>0.893891</td>\n",
       "      <td>0.002646</td>\n",
       "      <td>0.804469</td>\n",
       "      <td>0.005814</td>\n",
       "      <td>0.807374</td>\n",
       "      <td>0.003766</td>\n",
       "    </tr>\n",
       "    <tr>\n",
       "      <th>1</th>\n",
       "      <td>1</td>\n",
       "      <td>0.468028</td>\n",
       "      <td>0.007938</td>\n",
       "      <td>0.466784</td>\n",
       "      <td>0.009639</td>\n",
       "      <td>0.912239</td>\n",
       "      <td>0.004854</td>\n",
       "      <td>0.825127</td>\n",
       "      <td>0.007258</td>\n",
       "      <td>0.825901</td>\n",
       "      <td>0.002206</td>\n",
       "    </tr>\n",
       "    <tr>\n",
       "      <th>2</th>\n",
       "      <td>2</td>\n",
       "      <td>0.417629</td>\n",
       "      <td>0.007514</td>\n",
       "      <td>0.415523</td>\n",
       "      <td>0.009096</td>\n",
       "      <td>0.931686</td>\n",
       "      <td>0.004184</td>\n",
       "      <td>0.840595</td>\n",
       "      <td>0.007139</td>\n",
       "      <td>0.843534</td>\n",
       "      <td>0.007817</td>\n",
       "    </tr>\n",
       "    <tr>\n",
       "      <th>3</th>\n",
       "      <td>3</td>\n",
       "      <td>0.380889</td>\n",
       "      <td>0.006560</td>\n",
       "      <td>0.378114</td>\n",
       "      <td>0.005971</td>\n",
       "      <td>0.943540</td>\n",
       "      <td>0.004021</td>\n",
       "      <td>0.851543</td>\n",
       "      <td>0.007256</td>\n",
       "      <td>0.856090</td>\n",
       "      <td>0.004263</td>\n",
       "    </tr>\n",
       "    <tr>\n",
       "      <th>4</th>\n",
       "      <td>4</td>\n",
       "      <td>0.350206</td>\n",
       "      <td>0.005915</td>\n",
       "      <td>0.347561</td>\n",
       "      <td>0.008532</td>\n",
       "      <td>0.955349</td>\n",
       "      <td>0.003107</td>\n",
       "      <td>0.873955</td>\n",
       "      <td>0.009562</td>\n",
       "      <td>0.875879</td>\n",
       "      <td>0.008424</td>\n",
       "    </tr>\n",
       "    <tr>\n",
       "      <th>...</th>\n",
       "      <td>...</td>\n",
       "      <td>...</td>\n",
       "      <td>...</td>\n",
       "      <td>...</td>\n",
       "      <td>...</td>\n",
       "      <td>...</td>\n",
       "      <td>...</td>\n",
       "      <td>...</td>\n",
       "      <td>...</td>\n",
       "      <td>...</td>\n",
       "      <td>...</td>\n",
       "    </tr>\n",
       "    <tr>\n",
       "      <th>295</th>\n",
       "      <td>295</td>\n",
       "      <td>0.042231</td>\n",
       "      <td>0.004742</td>\n",
       "      <td>0.010591</td>\n",
       "      <td>0.000433</td>\n",
       "      <td>0.998346</td>\n",
       "      <td>0.000298</td>\n",
       "      <td>0.985693</td>\n",
       "      <td>0.001646</td>\n",
       "      <td>0.999452</td>\n",
       "      <td>0.000147</td>\n",
       "    </tr>\n",
       "    <tr>\n",
       "      <th>296</th>\n",
       "      <td>296</td>\n",
       "      <td>0.042188</td>\n",
       "      <td>0.004821</td>\n",
       "      <td>0.010528</td>\n",
       "      <td>0.000413</td>\n",
       "      <td>0.998351</td>\n",
       "      <td>0.000308</td>\n",
       "      <td>0.985485</td>\n",
       "      <td>0.001614</td>\n",
       "      <td>0.999465</td>\n",
       "      <td>0.000166</td>\n",
       "    </tr>\n",
       "    <tr>\n",
       "      <th>297</th>\n",
       "      <td>297</td>\n",
       "      <td>0.042124</td>\n",
       "      <td>0.004773</td>\n",
       "      <td>0.010445</td>\n",
       "      <td>0.000411</td>\n",
       "      <td>0.998360</td>\n",
       "      <td>0.000302</td>\n",
       "      <td>0.985537</td>\n",
       "      <td>0.001693</td>\n",
       "      <td>0.999503</td>\n",
       "      <td>0.000145</td>\n",
       "    </tr>\n",
       "    <tr>\n",
       "      <th>298</th>\n",
       "      <td>298</td>\n",
       "      <td>0.042121</td>\n",
       "      <td>0.004777</td>\n",
       "      <td>0.010416</td>\n",
       "      <td>0.000409</td>\n",
       "      <td>0.998364</td>\n",
       "      <td>0.000308</td>\n",
       "      <td>0.985588</td>\n",
       "      <td>0.001566</td>\n",
       "      <td>0.999516</td>\n",
       "      <td>0.000140</td>\n",
       "    </tr>\n",
       "    <tr>\n",
       "      <th>299</th>\n",
       "      <td>299</td>\n",
       "      <td>0.042080</td>\n",
       "      <td>0.004803</td>\n",
       "      <td>0.010371</td>\n",
       "      <td>0.000395</td>\n",
       "      <td>0.998370</td>\n",
       "      <td>0.000313</td>\n",
       "      <td>0.985693</td>\n",
       "      <td>0.001561</td>\n",
       "      <td>0.999529</td>\n",
       "      <td>0.000116</td>\n",
       "    </tr>\n",
       "  </tbody>\n",
       "</table>\n",
       "<p>300 rows × 11 columns</p>\n",
       "</div>"
      ],
      "text/plain": [
       "     iterations  test-Logloss-mean  test-Logloss-std  train-Logloss-mean  \\\n",
       "0             0           0.549820          0.009947            0.549447   \n",
       "1             1           0.468028          0.007938            0.466784   \n",
       "2             2           0.417629          0.007514            0.415523   \n",
       "3             3           0.380889          0.006560            0.378114   \n",
       "4             4           0.350206          0.005915            0.347561   \n",
       "..          ...                ...               ...                 ...   \n",
       "295         295           0.042231          0.004742            0.010591   \n",
       "296         296           0.042188          0.004821            0.010528   \n",
       "297         297           0.042124          0.004773            0.010445   \n",
       "298         298           0.042121          0.004777            0.010416   \n",
       "299         299           0.042080          0.004803            0.010371   \n",
       "\n",
       "     train-Logloss-std  test-AUC-mean  test-AUC-std  test-F1-mean  \\\n",
       "0             0.010189       0.893891      0.002646      0.804469   \n",
       "1             0.009639       0.912239      0.004854      0.825127   \n",
       "2             0.009096       0.931686      0.004184      0.840595   \n",
       "3             0.005971       0.943540      0.004021      0.851543   \n",
       "4             0.008532       0.955349      0.003107      0.873955   \n",
       "..                 ...            ...           ...           ...   \n",
       "295           0.000433       0.998346      0.000298      0.985693   \n",
       "296           0.000413       0.998351      0.000308      0.985485   \n",
       "297           0.000411       0.998360      0.000302      0.985537   \n",
       "298           0.000409       0.998364      0.000308      0.985588   \n",
       "299           0.000395       0.998370      0.000313      0.985693   \n",
       "\n",
       "     test-F1-std  train-F1-mean  train-F1-std  \n",
       "0       0.005814       0.807374      0.003766  \n",
       "1       0.007258       0.825901      0.002206  \n",
       "2       0.007139       0.843534      0.007817  \n",
       "3       0.007256       0.856090      0.004263  \n",
       "4       0.009562       0.875879      0.008424  \n",
       "..           ...            ...           ...  \n",
       "295     0.001646       0.999452      0.000147  \n",
       "296     0.001614       0.999465      0.000166  \n",
       "297     0.001693       0.999503      0.000145  \n",
       "298     0.001566       0.999516      0.000140  \n",
       "299     0.001561       0.999529      0.000116  \n",
       "\n",
       "[300 rows x 11 columns]"
      ]
     },
     "execution_count": 162,
     "metadata": {},
     "output_type": "execute_result"
    }
   ],
   "source": [
    "cv_data"
   ]
  },
  {
   "cell_type": "code",
   "execution_count": 163,
   "id": "23abd111",
   "metadata": {},
   "outputs": [],
   "source": [
    "feature_season_auc_valid = cv_data['test-AUC-mean'].tail(1)"
   ]
  },
  {
   "cell_type": "code",
   "execution_count": 164,
   "id": "302f547a",
   "metadata": {},
   "outputs": [],
   "source": [
    "feature_season_f1_valid = cv_data['test-F1-mean'].tail(1)"
   ]
  },
  {
   "cell_type": "code",
   "execution_count": 165,
   "id": "222ac372",
   "metadata": {},
   "outputs": [
    {
     "data": {
      "text/plain": [
       "299    0.99837\n",
       "Name: test-AUC-mean, dtype: float64"
      ]
     },
     "execution_count": 165,
     "metadata": {},
     "output_type": "execute_result"
    }
   ],
   "source": [
    "feature_season_auc_valid"
   ]
  },
  {
   "cell_type": "code",
   "execution_count": 166,
   "id": "51045522",
   "metadata": {},
   "outputs": [
    {
     "data": {
      "text/plain": [
       "299    0.985693\n",
       "Name: test-F1-mean, dtype: float64"
      ]
     },
     "execution_count": 166,
     "metadata": {},
     "output_type": "execute_result"
    }
   ],
   "source": [
    "feature_season_f1_valid"
   ]
  },
  {
   "cell_type": "markdown",
   "id": "803bb166",
   "metadata": {},
   "source": [
    "### Валидация модели"
   ]
  },
  {
   "cell_type": "code",
   "execution_count": 167,
   "id": "19c94ddf",
   "metadata": {},
   "outputs": [],
   "source": [
    "model = CatBoostClassifier(loss_function='Logloss',\n",
    "    iterations=300,\n",
    "    custom_loss=['AUC', 'F1'],\n",
    "    random_seed= RS,\n",
    "    learning_rate= 0.2,\n",
    "    verbose=False)"
   ]
  },
  {
   "cell_type": "code",
   "execution_count": 168,
   "id": "cf13b7a6",
   "metadata": {},
   "outputs": [
    {
     "data": {
      "text/plain": [
       "<catboost.core.CatBoostClassifier at 0x1f4c9875820>"
      ]
     },
     "execution_count": 168,
     "metadata": {},
     "output_type": "execute_result"
    }
   ],
   "source": [
    "model.fit(features_train, target_train)"
   ]
  },
  {
   "cell_type": "code",
   "execution_count": 169,
   "id": "d342dc59",
   "metadata": {},
   "outputs": [],
   "source": [
    "pred = model.predict(features_test)"
   ]
  },
  {
   "cell_type": "code",
   "execution_count": 170,
   "id": "e5c5e6b1",
   "metadata": {},
   "outputs": [],
   "source": [
    "feature_season_auc_test = roc_auc_score(target_test, pred)"
   ]
  },
  {
   "cell_type": "code",
   "execution_count": 171,
   "id": "aeb2d0c1",
   "metadata": {},
   "outputs": [
    {
     "data": {
      "text/plain": [
       "0.5555876192861525"
      ]
     },
     "execution_count": 171,
     "metadata": {},
     "output_type": "execute_result"
    }
   ],
   "source": [
    "feature_season_auc_test"
   ]
  },
  {
   "cell_type": "code",
   "execution_count": 172,
   "id": "42d1aa87",
   "metadata": {},
   "outputs": [],
   "source": [
    "feature_season_f1_test = f1_score(target_test, pred)"
   ]
  },
  {
   "cell_type": "code",
   "execution_count": 173,
   "id": "ee0060b8",
   "metadata": {
    "scrolled": true
   },
   "outputs": [
    {
     "data": {
      "text/plain": [
       "0.1875"
      ]
     },
     "execution_count": 173,
     "metadata": {},
     "output_type": "execute_result"
    }
   ],
   "source": [
    "feature_season_f1_test"
   ]
  },
  {
   "cell_type": "code",
   "execution_count": 174,
   "id": "cbc6547d",
   "metadata": {},
   "outputs": [
    {
     "data": {
      "image/png": "[encoded data removed]",
      "text/plain": [
       "<Figure size 640x480 with 2 Axes>"
      ]
     },
     "metadata": {},
     "output_type": "display_data"
    }
   ],
   "source": [
    "cm = confusion_matrix(target_test, pred, normalize='true')\n",
    "ConfusionMatrixDisplay(confusion_matrix=cm).plot()\n",
    "plt.show()"
   ]
  },
  {
   "cell_type": "markdown",
   "id": "7e91fa15",
   "metadata": {},
   "source": [
    "## Модель на основе нейронной сети"
   ]
  },
  {
   "cell_type": "code",
   "execution_count": 175,
   "id": "7e557def",
   "metadata": {},
   "outputs": [],
   "source": [
    "features = data.drop(columns=['target', 'report_date'])"
   ]
  },
  {
   "cell_type": "code",
   "execution_count": 176,
   "id": "3ec5cacb",
   "metadata": {},
   "outputs": [],
   "source": [
    "target = data['target']"
   ]
  },
  {
   "cell_type": "code",
   "execution_count": 177,
   "id": "dc40267e",
   "metadata": {},
   "outputs": [],
   "source": [
    "features_train, features_test, target_train, target_test = train_test_split(features, target, test_size=0.3, stratify=target,\n",
    "                                                                            random_state=RS)"
   ]
  },
  {
   "cell_type": "code",
   "execution_count": 178,
   "id": "b510fe36",
   "metadata": {},
   "outputs": [],
   "source": [
    "features_train, target_train = SMOTE().fit_resample(features_train, target_train)"
   ]
  },
  {
   "cell_type": "code",
   "execution_count": 179,
   "id": "810681c4",
   "metadata": {},
   "outputs": [],
   "source": [
    "def baseline_nn(features_train):\n",
    "    model = keras.models.Sequential()\n",
    "    model.add(keras.layers.Dense(units=features_train.shape[1], input_dim=features_train.shape[1], \n",
    "                                 activation='sigmoid'))\n",
    "    model.add(keras.layers.Dense(units=1, input_dim=features_train.shape[1], \n",
    "                                 activation='sigmoid'))\n",
    "    model.compile(loss='binary_crossentropy', optimizer='sgd', metrics=['acc', AUC()])\n",
    "    \n",
    "    return model"
   ]
  },
  {
   "cell_type": "code",
   "execution_count": 180,
   "id": "c5f4ef59",
   "metadata": {},
   "outputs": [
    {
     "name": "stdout",
     "output_type": "stream",
     "text": [
      "WARNING:tensorflow:From C:\\Users\\User\\anaconda3\\envs\\new\\lib\\site-packages\\keras\\src\\backend.py:873: The name tf.get_default_graph is deprecated. Please use tf.compat.v1.get_default_graph instead.\n",
      "\n",
      "WARNING:tensorflow:From C:\\Users\\User\\anaconda3\\envs\\new\\lib\\site-packages\\keras\\src\\optimizers\\__init__.py:309: The name tf.train.Optimizer is deprecated. Please use tf.compat.v1.train.Optimizer instead.\n",
      "\n"
     ]
    }
   ],
   "source": [
    "model = baseline_nn(features_train)"
   ]
  },
  {
   "cell_type": "code",
   "execution_count": 181,
   "id": "b23c0e42",
   "metadata": {},
   "outputs": [
    {
     "name": "stdout",
     "output_type": "stream",
     "text": [
      "Epoch 1/10\n",
      "WARNING:tensorflow:From C:\\Users\\User\\anaconda3\\envs\\new\\lib\\site-packages\\keras\\src\\utils\\tf_utils.py:492: The name tf.ragged.RaggedTensorValue is deprecated. Please use tf.compat.v1.ragged.RaggedTensorValue instead.\n",
      "\n",
      "WARNING:tensorflow:From C:\\Users\\User\\anaconda3\\envs\\new\\lib\\site-packages\\keras\\src\\engine\\base_layer_utils.py:384: The name tf.executing_eagerly_outside_functions is deprecated. Please use tf.compat.v1.executing_eagerly_outside_functions instead.\n",
      "\n",
      "614/614 - 2s - loss: 0.6855 - acc: 0.5550 - auc: 0.5770 - val_loss: 0.6734 - val_acc: 0.6521 - val_auc: 0.6146 - 2s/epoch - 3ms/step\n",
      "Epoch 2/10\n",
      "614/614 - 1s - loss: 0.6812 - acc: 0.5549 - auc: 0.5801 - val_loss: 0.6589 - val_acc: 0.6657 - val_auc: 0.6227 - 807ms/epoch - 1ms/step\n",
      "Epoch 3/10\n",
      "614/614 - 1s - loss: 0.6795 - acc: 0.5541 - auc: 0.5828 - val_loss: 0.6993 - val_acc: 0.6514 - val_auc: 0.6254 - 822ms/epoch - 1ms/step\n",
      "Epoch 4/10\n",
      "614/614 - 1s - loss: 0.6783 - acc: 0.5553 - auc: 0.5865 - val_loss: 0.6479 - val_acc: 0.6666 - val_auc: 0.6263 - 814ms/epoch - 1ms/step\n",
      "Epoch 5/10\n",
      "614/614 - 1s - loss: 0.6771 - acc: 0.5563 - auc: 0.5874 - val_loss: 0.6873 - val_acc: 0.6530 - val_auc: 0.6275 - 759ms/epoch - 1ms/step\n",
      "Epoch 6/10\n",
      "614/614 - 1s - loss: 0.6759 - acc: 0.5581 - auc: 0.5912 - val_loss: 0.6372 - val_acc: 0.6705 - val_auc: 0.6286 - 776ms/epoch - 1ms/step\n",
      "Epoch 7/10\n",
      "614/614 - 1s - loss: 0.6749 - acc: 0.5570 - auc: 0.5936 - val_loss: 0.6778 - val_acc: 0.6661 - val_auc: 0.6290 - 888ms/epoch - 1ms/step\n",
      "Epoch 8/10\n",
      "614/614 - 1s - loss: 0.6739 - acc: 0.5623 - auc: 0.5961 - val_loss: 0.6952 - val_acc: 0.6664 - val_auc: 0.6325 - 870ms/epoch - 1ms/step\n",
      "Epoch 9/10\n",
      "614/614 - 1s - loss: 0.6732 - acc: 0.5603 - auc: 0.5982 - val_loss: 0.6545 - val_acc: 0.6700 - val_auc: 0.6371 - 875ms/epoch - 1ms/step\n",
      "Epoch 10/10\n",
      "614/614 - 1s - loss: 0.6729 - acc: 0.5605 - auc: 0.5950 - val_loss: 0.6938 - val_acc: 0.6680 - val_auc: 0.6340 - 859ms/epoch - 1ms/step\n"
     ]
    },
    {
     "data": {
      "text/plain": [
       "<keras.src.callbacks.History at 0x1f4c98f4370>"
      ]
     },
     "execution_count": 181,
     "metadata": {},
     "output_type": "execute_result"
    }
   ],
   "source": [
    "model.fit(features_train, target_train, epochs=10, verbose=2,\n",
    "          validation_data=(features_test, target_test))"
   ]
  },
  {
   "cell_type": "code",
   "execution_count": 182,
   "id": "af9524a6",
   "metadata": {},
   "outputs": [
    {
     "name": "stdout",
     "output_type": "stream",
     "text": [
      "136/136 [==============================] - 0s 933us/step\n"
     ]
    }
   ],
   "source": [
    "pred = model.predict(features_test)"
   ]
  },
  {
   "cell_type": "code",
   "execution_count": 183,
   "id": "9c5d1896",
   "metadata": {},
   "outputs": [
    {
     "data": {
      "text/plain": [
       "0.6328318686863188"
      ]
     },
     "execution_count": 183,
     "metadata": {},
     "output_type": "execute_result"
    }
   ],
   "source": [
    "nn_auc_test = roc_auc_score(target_test, pred)\n",
    "nn_auc_test"
   ]
  },
  {
   "cell_type": "code",
   "execution_count": 184,
   "id": "7cdca736",
   "metadata": {},
   "outputs": [],
   "source": [
    "pred_bin = pred > 0.5"
   ]
  },
  {
   "cell_type": "code",
   "execution_count": 185,
   "id": "939c7bb0",
   "metadata": {},
   "outputs": [],
   "source": [
    "pred_bin = pred_bin.astype('int')"
   ]
  },
  {
   "cell_type": "code",
   "execution_count": 186,
   "id": "ed31626b",
   "metadata": {},
   "outputs": [
    {
     "data": {
      "text/plain": [
       "0.08745247148288975"
      ]
     },
     "execution_count": 186,
     "metadata": {},
     "output_type": "execute_result"
    }
   ],
   "source": [
    "nn_f1_test = f1_score(target_test, pred_bin)\n",
    "nn_f1_test"
   ]
  }
 ],
 "metadata": {
  "kernelspec": {
   "display_name": "new",
   "language": "python",
   "name": "new"
  },
  "language_info": {
   "codemirror_mode": {
    "name": "ipython",
    "version": 3
   },
   "file_extension": ".py",
   "mimetype": "text/x-python",
   "name": "python",
   "nbconvert_exporter": "python",
   "pygments_lexer": "ipython3",
   "version": "3.9.16"
  },
  "toc": {
   "base_numbering": 1,
   "nav_menu": {},
   "number_sections": true,
   "sideBar": true,
   "skip_h1_title": true,
   "title_cell": "Table of Contents",
   "title_sidebar": "Contents",
   "toc_cell": false,
   "toc_position": {
    "height": "calc(100% - 180px)",
    "left": "10px",
    "top": "150px",
    "width": "513.438px"
   },
   "toc_section_display": true,
   "toc_window_display": true
  }
 },
 "nbformat": 4,
 "nbformat_minor": 5
}
