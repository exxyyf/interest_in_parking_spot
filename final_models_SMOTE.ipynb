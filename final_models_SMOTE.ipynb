{
 "cells": [
  {
   "cell_type": "code",
   "execution_count": 2,
   "id": "160ebeff",
   "metadata": {},
   "outputs": [
    {
     "name": "stdout",
     "output_type": "stream",
     "text": [
      "Looking in indexes: https://pypi.org/simple, https://pypi.ngc.nvidia.com\n",
      "Collecting imblearn\n",
      "  Downloading imblearn-0.0-py2.py3-none-any.whl (1.9 kB)\n",
      "Collecting imbalanced-learn (from imblearn)\n",
      "  Obtaining dependency information for imbalanced-learn from https://files.pythonhosted.org/packages/a3/9e/fbe60a768502af54563dcb59ca7856f5a8833b3ad5ada658922e1ab09b7f/imbalanced_learn-0.11.0-py3-none-any.whl.metadata\n",
      "  Downloading imbalanced_learn-0.11.0-py3-none-any.whl.metadata (8.3 kB)\n",
      "Requirement already satisfied: numpy>=1.17.3 in c:\\users\\user\\anaconda3\\envs\\new\\lib\\site-packages (from imbalanced-learn->imblearn) (1.23.5)\n",
      "Requirement already satisfied: scipy>=1.5.0 in c:\\users\\user\\anaconda3\\envs\\new\\lib\\site-packages (from imbalanced-learn->imblearn) (1.9.3)\n",
      "Requirement already satisfied: scikit-learn>=1.0.2 in c:\\users\\user\\anaconda3\\envs\\new\\lib\\site-packages (from imbalanced-learn->imblearn) (1.3.0)\n",
      "Requirement already satisfied: joblib>=1.1.1 in c:\\users\\user\\anaconda3\\envs\\new\\lib\\site-packages (from imbalanced-learn->imblearn) (1.2.0)\n",
      "Requirement already satisfied: threadpoolctl>=2.0.0 in c:\\users\\user\\anaconda3\\envs\\new\\lib\\site-packages (from imbalanced-learn->imblearn) (3.1.0)\n",
      "Downloading imbalanced_learn-0.11.0-py3-none-any.whl (235 kB)\n",
      "   ---------------------------------------- 0.0/235.6 kB ? eta -:--:--\n",
      "   - -------------------------------------- 10.2/235.6 kB ? eta -:--:--\n",
      "   ----- --------------------------------- 30.7/235.6 kB 435.7 kB/s eta 0:00:01\n",
      "   ---------- ---------------------------- 61.4/235.6 kB 544.7 kB/s eta 0:00:01\n",
      "   --------------------------------- ------ 194.6/235.6 kB 1.3 MB/s eta 0:00:01\n",
      "   ---------------------------------------- 235.6/235.6 kB 1.4 MB/s eta 0:00:00\n",
      "Installing collected packages: imbalanced-learn, imblearn\n",
      "Successfully installed imbalanced-learn-0.11.0 imblearn-0.0\n",
      "Note: you may need to restart the kernel to use updated packages.\n"
     ]
    }
   ],
   "source": [
    "pip install imblearn"
   ]
  },
  {
   "cell_type": "code",
   "execution_count": 1,
   "id": "451a2772",
   "metadata": {},
   "outputs": [
    {
     "name": "stderr",
     "output_type": "stream",
     "text": [
      "C:\\Users\\User\\anaconda3\\envs\\new\\lib\\site-packages\\numpy\\_distributor_init.py:30: UserWarning: loaded more than 1 DLL from .libs:\n",
      "C:\\Users\\User\\anaconda3\\envs\\new\\lib\\site-packages\\numpy\\.libs\\libopenblas.FB5AE2TYXYH2IJRDKGDGQ3XBKLKTF43H.gfortran-win_amd64.dll\n",
      "C:\\Users\\User\\anaconda3\\envs\\new\\lib\\site-packages\\numpy\\.libs\\libopenblas64__v0.3.21-gcc_10_3_0.dll\n",
      "  warnings.warn(\"loaded more than 1 DLL from .libs:\"\n"
     ]
    },
    {
     "name": "stdout",
     "output_type": "stream",
     "text": [
      "WARNING:tensorflow:From C:\\Users\\User\\anaconda3\\envs\\new\\lib\\site-packages\\keras\\src\\losses.py:2976: The name tf.losses.sparse_softmax_cross_entropy is deprecated. Please use tf.compat.v1.losses.sparse_softmax_cross_entropy instead.\n",
      "\n"
     ]
    },
    {
     "ename": "ModuleNotFoundError",
     "evalue": "No module named 'imblearn'",
     "output_type": "error",
     "traceback": [
      "\u001b[1;31m---------------------------------------------------------------------------\u001b[0m",
      "\u001b[1;31mModuleNotFoundError\u001b[0m                       Traceback (most recent call last)",
      "Cell \u001b[1;32mIn[1], line 37\u001b[0m\n\u001b[0;32m     35\u001b[0m \u001b[38;5;28;01mfrom\u001b[39;00m \u001b[38;5;21;01msklearn\u001b[39;00m\u001b[38;5;21;01m.\u001b[39;00m\u001b[38;5;21;01mmetrics\u001b[39;00m \u001b[38;5;28;01mimport\u001b[39;00m confusion_matrix\n\u001b[0;32m     36\u001b[0m \u001b[38;5;28;01mfrom\u001b[39;00m \u001b[38;5;21;01msklearn\u001b[39;00m\u001b[38;5;21;01m.\u001b[39;00m\u001b[38;5;21;01mmetrics\u001b[39;00m \u001b[38;5;28;01mimport\u001b[39;00m ConfusionMatrixDisplay\n\u001b[1;32m---> 37\u001b[0m \u001b[38;5;28;01mfrom\u001b[39;00m \u001b[38;5;21;01mimblearn\u001b[39;00m\u001b[38;5;21;01m.\u001b[39;00m\u001b[38;5;21;01mover_sampling\u001b[39;00m \u001b[38;5;28;01mimport\u001b[39;00m SMOTE\n",
      "\u001b[1;31mModuleNotFoundError\u001b[0m: No module named 'imblearn'"
     ]
    }
   ],
   "source": [
    "import pandas as pd\n",
    "from sklearn.preprocessing import StandardScaler\n",
    "from sklearn.model_selection import train_test_split\n",
    "from sklearn.metrics import f1_score\n",
    "from sklearn.metrics import roc_auc_score\n",
    "from catboost import CatBoostClassifier\n",
    "from catboost import cv, Pool\n",
    "from sklearn.metrics import roc_auc_score\n",
    "from tensorflow.keras.models import Sequential\n",
    "from tensorflow.keras.layers import Dense\n",
    "from tensorflow import keras\n",
    "from scikeras.wrappers import KerasClassifier\n",
    "from sklearn.model_selection import cross_val_score\n",
    "from sklearn.preprocessing import LabelEncoder\n",
    "from sklearn.preprocessing import OneHotEncoder\n",
    "from sklearn.model_selection import StratifiedKFold\n",
    "from sklearn.preprocessing import StandardScaler\n",
    "from sklearn.pipeline import Pipeline\n",
    "from sklearn.compose import ColumnTransformer\n",
    "from sklearn.model_selection import train_test_split\n",
    "from sklearn.utils import shuffle\n",
    "from sklearn.preprocessing import MinMaxScaler\n",
    "from tensorflow.keras.metrics import AUC\n",
    "from sklearn.model_selection import KFold\n",
    "from keras.models import Sequential\n",
    "from keras.layers import Dense\n",
    "from scikeras.wrappers import KerasClassifier\n",
    "from sklearn.model_selection import StratifiedKFold\n",
    "from sklearn.model_selection import cross_val_score\n",
    "import numpy as np\n",
    "import pandas as pd\n",
    "import matplotlib.pyplot as plt\n",
    "import seaborn as sns\n",
    "RS = 121212\n",
    "from sklearn.metrics import confusion_matrix\n",
    "from sklearn.metrics import ConfusionMatrixDisplay\n",
    "from imblearn.over_sampling import SMOTE"
   ]
  },
  {
   "cell_type": "markdown",
   "id": "77f19e6b",
   "metadata": {},
   "source": [
    "# Загрузка данных"
   ]
  },
  {
   "cell_type": "code",
   "execution_count": null,
   "id": "96c05521",
   "metadata": {},
   "outputs": [],
   "source": [
    "df = pd.read_csv('train_dataset_Самолет.csv', low_memory=False, parse_dates=['report_date'])"
   ]
  },
  {
   "cell_type": "code",
   "execution_count": null,
   "id": "a1e59cea",
   "metadata": {},
   "outputs": [],
   "source": [
    "df.head()"
   ]
  },
  {
   "cell_type": "markdown",
   "id": "6fa07f9a",
   "metadata": {},
   "source": [
    "plt.figure(figsize=(15, 10))\n",
    "sns.heatmap(df.select_dtypes([int, float]).corr())\n",
    "plt.show()"
   ]
  },
  {
   "cell_type": "code",
   "execution_count": null,
   "id": "a27ff995",
   "metadata": {},
   "outputs": [],
   "source": [
    "data = df.dropna(thresh=int(len(df)*0.95), axis=1).copy()\n",
    "data.drop(columns=['col1454'], inplace=True)"
   ]
  },
  {
   "cell_type": "code",
   "execution_count": null,
   "id": "e4d5c5ed",
   "metadata": {},
   "outputs": [],
   "source": [
    "data = data.fillna(data.mean())"
   ]
  },
  {
   "cell_type": "code",
   "execution_count": null,
   "id": "2436510b",
   "metadata": {},
   "outputs": [],
   "source": [
    "data.head()"
   ]
  },
  {
   "cell_type": "code",
   "execution_count": null,
   "id": "a0a76bdd",
   "metadata": {},
   "outputs": [],
   "source": [
    "data_f = data.copy()"
   ]
  },
  {
   "cell_type": "markdown",
   "id": "4f9fbb22",
   "metadata": {},
   "source": [
    "plt.figure(figsize=(15, 10))\n",
    "sns.heatmap(data.corr())\n",
    "plt.show()"
   ]
  },
  {
   "cell_type": "code",
   "execution_count": null,
   "id": "43773c83",
   "metadata": {},
   "outputs": [],
   "source": [
    "client_id = data['client_id']"
   ]
  },
  {
   "cell_type": "code",
   "execution_count": null,
   "id": "7f5074b3",
   "metadata": {},
   "outputs": [],
   "source": [
    "data.drop(columns='client_id', inplace=True)"
   ]
  },
  {
   "cell_type": "markdown",
   "id": "6bc0e42d",
   "metadata": {},
   "source": [
    "# Модели"
   ]
  },
  {
   "cell_type": "markdown",
   "id": "362cb56e",
   "metadata": {},
   "source": [
    "## Создание baseline модели"
   ]
  },
  {
   "cell_type": "code",
   "execution_count": null,
   "id": "61104a24",
   "metadata": {},
   "outputs": [],
   "source": [
    "features = data.drop(columns=['target', 'report_date'])"
   ]
  },
  {
   "cell_type": "code",
   "execution_count": null,
   "id": "f6652cca",
   "metadata": {},
   "outputs": [],
   "source": [
    "target = data['target']"
   ]
  },
  {
   "cell_type": "code",
   "execution_count": null,
   "id": "26d73d8b",
   "metadata": {},
   "outputs": [],
   "source": [
    "features_train, features_test, target_train, target_test = train_test_split(features, target, test_size=0.3, stratify=target,\n",
    "                                                                            random_state=RS)"
   ]
  },
  {
   "cell_type": "code",
   "execution_count": null,
   "id": "cda33210",
   "metadata": {},
   "outputs": [],
   "source": [
    "features_train, target_train = SMOTE().fit_resample(features_train, target_train)"
   ]
  },
  {
   "cell_type": "code",
   "execution_count": null,
   "id": "1173cd0b",
   "metadata": {},
   "outputs": [],
   "source": [
    "params = {\n",
    "    'loss_function': 'Logloss',\n",
    "    'iterations': 300,\n",
    "    'custom_loss': ['AUC', 'F1'],\n",
    "    'random_seed': RS,\n",
    "    'learning_rate': 0.2\n",
    "}"
   ]
  },
  {
   "cell_type": "code",
   "execution_count": null,
   "id": "f1e846e6",
   "metadata": {},
   "outputs": [],
   "source": [
    "cv_data = cv(\n",
    "    params=params,\n",
    "    pool=Pool(features_train, label=target_train),\n",
    "    fold_count=5, # Разбивка выборки на 5 кусочков\n",
    "    shuffle=True, # Перемешаем наши данные\n",
    "    partition_random_seed=RS,\n",
    "    plot=True,\n",
    "    stratified=True, \n",
    "    verbose=False\n",
    ")"
   ]
  },
  {
   "cell_type": "code",
   "execution_count": null,
   "id": "7ac0152a",
   "metadata": {},
   "outputs": [],
   "source": [
    "cv_data"
   ]
  },
  {
   "cell_type": "code",
   "execution_count": null,
   "id": "2f8b61f2",
   "metadata": {},
   "outputs": [],
   "source": [
    "baseline_auc_valid = cv_data['test-AUC-mean'].tail(1)"
   ]
  },
  {
   "cell_type": "code",
   "execution_count": null,
   "id": "1c698119",
   "metadata": {},
   "outputs": [],
   "source": [
    "baseline_f1_valid = cv_data['test-F1-mean'].tail(1)"
   ]
  },
  {
   "cell_type": "code",
   "execution_count": null,
   "id": "2f691f4d",
   "metadata": {},
   "outputs": [],
   "source": [
    "baseline_auc_valid"
   ]
  },
  {
   "cell_type": "code",
   "execution_count": null,
   "id": "42bf5ce1",
   "metadata": {},
   "outputs": [],
   "source": [
    "baseline_f1_valid"
   ]
  },
  {
   "cell_type": "markdown",
   "id": "ec4af955",
   "metadata": {},
   "source": [
    "### Валидация модели"
   ]
  },
  {
   "cell_type": "code",
   "execution_count": null,
   "id": "702998b1",
   "metadata": {},
   "outputs": [],
   "source": [
    "model = CatBoostClassifier(loss_function='Logloss',\n",
    "    iterations=300,\n",
    "    custom_loss=['AUC', 'F1'],\n",
    "    random_seed= RS,\n",
    "    learning_rate= 0.2,\n",
    "    verbose=False)"
   ]
  },
  {
   "cell_type": "code",
   "execution_count": null,
   "id": "56dd3d5b",
   "metadata": {},
   "outputs": [],
   "source": [
    "model.fit(features_train, target_train)"
   ]
  },
  {
   "cell_type": "code",
   "execution_count": null,
   "id": "3fdd63e1",
   "metadata": {},
   "outputs": [],
   "source": [
    "pred = model.predict(features_test)"
   ]
  },
  {
   "cell_type": "code",
   "execution_count": null,
   "id": "22a1e2c5",
   "metadata": {},
   "outputs": [],
   "source": [
    "baseline_auc_test = roc_auc_score(target_test, pred)"
   ]
  },
  {
   "cell_type": "code",
   "execution_count": null,
   "id": "b3d25c94",
   "metadata": {},
   "outputs": [],
   "source": [
    "baseline_auc_test"
   ]
  },
  {
   "cell_type": "code",
   "execution_count": null,
   "id": "f98c7105",
   "metadata": {},
   "outputs": [],
   "source": [
    "baseline_f1_test = f1_score(target_test, pred)"
   ]
  },
  {
   "cell_type": "code",
   "execution_count": null,
   "id": "b6574912",
   "metadata": {},
   "outputs": [],
   "source": [
    "baseline_f1_test"
   ]
  },
  {
   "cell_type": "code",
   "execution_count": null,
   "id": "84e6e79d",
   "metadata": {},
   "outputs": [],
   "source": [
    "cm = confusion_matrix(target_test, pred, normalize='true')\n",
    "ConfusionMatrixDisplay(confusion_matrix=cm).plot()\n",
    "plt.show()"
   ]
  },
  {
   "cell_type": "code",
   "execution_count": null,
   "id": "feb229b8",
   "metadata": {},
   "outputs": [],
   "source": [
    "\n",
    "# Get predicted probabilities for each class\n",
    "preds_proba = model.predict_proba(features_test)\n",
    "# Get predicted RawFormulaVal\n"
   ]
  },
  {
   "cell_type": "code",
   "execution_count": null,
   "id": "3ac650eb",
   "metadata": {},
   "outputs": [],
   "source": [
    "preds_proba"
   ]
  },
  {
   "cell_type": "code",
   "execution_count": null,
   "id": "ff6d3030",
   "metadata": {},
   "outputs": [],
   "source": [
    "df = pd.DataFrame(preds_proba)"
   ]
  },
  {
   "cell_type": "code",
   "execution_count": null,
   "id": "d363ae0e",
   "metadata": {},
   "outputs": [],
   "source": [
    "(df[1] > 0.5).sum()"
   ]
  },
  {
   "cell_type": "code",
   "execution_count": null,
   "id": "c2023359",
   "metadata": {},
   "outputs": [],
   "source": [
    "preds = model.predict(features_test)"
   ]
  },
  {
   "cell_type": "code",
   "execution_count": null,
   "id": "ab224035",
   "metadata": {},
   "outputs": [],
   "source": [
    "preds"
   ]
  },
  {
   "cell_type": "code",
   "execution_count": null,
   "id": "3e13b589",
   "metadata": {},
   "outputs": [],
   "source": [
    "from math import exp"
   ]
  },
  {
   "cell_type": "code",
   "execution_count": null,
   "id": "2da73c8c",
   "metadata": {},
   "outputs": [],
   "source": [
    "exp( preds_proba) / (1+ exp( preds_proba))"
   ]
  },
  {
   "cell_type": "code",
   "execution_count": null,
   "id": "dbd9636f",
   "metadata": {},
   "outputs": [],
   "source": [
    "test['score'] = model.predict_proba(test[model_cols])\n",
    "sample_submission = test.loc[:, ['report_date', 'client_id', 'score']]"
   ]
  },
  {
   "cell_type": "markdown",
   "id": "cf94442b",
   "metadata": {},
   "source": [
    "## Модель, обученная на клиентах, которые имеют таргет 0 и 1"
   ]
  },
  {
   "cell_type": "code",
   "execution_count": null,
   "id": "8565f034",
   "metadata": {},
   "outputs": [],
   "source": [
    "train, test = train_test_split(data_f.drop(columns='report_date'), test_size=0.3, random_state=RS, stratify=data['target'])"
   ]
  },
  {
   "cell_type": "code",
   "execution_count": null,
   "id": "0ffb2d93",
   "metadata": {},
   "outputs": [],
   "source": [
    "one_id = train.query('target == 1')['client_id']"
   ]
  },
  {
   "cell_type": "code",
   "execution_count": null,
   "id": "0176c201",
   "metadata": {},
   "outputs": [],
   "source": [
    "clients_changed = train.query('client_id in @one_id')"
   ]
  },
  {
   "cell_type": "code",
   "execution_count": null,
   "id": "bc22859e",
   "metadata": {},
   "outputs": [],
   "source": [
    "clients_changed.head()"
   ]
  },
  {
   "cell_type": "code",
   "execution_count": null,
   "id": "614d4440",
   "metadata": {},
   "outputs": [],
   "source": [
    "features_train = clients_changed.drop(columns=['target', 'client_id'])"
   ]
  },
  {
   "cell_type": "code",
   "execution_count": null,
   "id": "431b45b7",
   "metadata": {},
   "outputs": [],
   "source": [
    "target_train = clients_changed['target']"
   ]
  },
  {
   "cell_type": "code",
   "execution_count": null,
   "id": "47368a92",
   "metadata": {},
   "outputs": [],
   "source": [
    "features_train, target_train = SMOTE().fit_resample(features_train, target_train)"
   ]
  },
  {
   "cell_type": "code",
   "execution_count": null,
   "id": "6df5f278",
   "metadata": {},
   "outputs": [],
   "source": [
    "params = {\n",
    "    'loss_function': 'Logloss',\n",
    "    'iterations': 300,\n",
    "    'custom_loss': ['AUC', 'F1'],\n",
    "    'random_seed': RS,\n",
    "    'learning_rate': 0.2\n",
    "}"
   ]
  },
  {
   "cell_type": "code",
   "execution_count": null,
   "id": "8b69401e",
   "metadata": {},
   "outputs": [],
   "source": [
    "cv_data = cv(\n",
    "    params=params,\n",
    "    pool=Pool(features_train, label=target_train),\n",
    "    fold_count=5, # Разбивка выборки на 5 кусочков\n",
    "    shuffle=True, # Перемешаем наши данные\n",
    "    partition_random_seed=RS,\n",
    "    plot=True,\n",
    "    stratified=True, \n",
    "    verbose=False\n",
    ")"
   ]
  },
  {
   "cell_type": "code",
   "execution_count": null,
   "id": "f4d6ed7e",
   "metadata": {},
   "outputs": [],
   "source": [
    "cv_data"
   ]
  },
  {
   "cell_type": "code",
   "execution_count": null,
   "id": "7fd8d5ab",
   "metadata": {},
   "outputs": [],
   "source": [
    "changed_auc_valid = cv_data['test-AUC-mean'].tail(1)"
   ]
  },
  {
   "cell_type": "code",
   "execution_count": null,
   "id": "bc8e722f",
   "metadata": {},
   "outputs": [],
   "source": [
    "changed_f1_valid = cv_data['test-F1-mean'].tail(1)"
   ]
  },
  {
   "cell_type": "code",
   "execution_count": null,
   "id": "97321753",
   "metadata": {},
   "outputs": [],
   "source": [
    "changed_auc_valid"
   ]
  },
  {
   "cell_type": "code",
   "execution_count": null,
   "id": "829143f5",
   "metadata": {},
   "outputs": [],
   "source": [
    "changed_f1_valid"
   ]
  },
  {
   "cell_type": "markdown",
   "id": "30cd3921",
   "metadata": {},
   "source": [
    "### Валидация модели"
   ]
  },
  {
   "cell_type": "code",
   "execution_count": null,
   "id": "d78b039f",
   "metadata": {},
   "outputs": [],
   "source": [
    "model = CatBoostClassifier(loss_function='Logloss',\n",
    "    iterations=300,\n",
    "    custom_loss=['AUC', 'F1'],\n",
    "    random_seed= RS,\n",
    "    learning_rate= 0.2,\n",
    "    verbose=False)"
   ]
  },
  {
   "cell_type": "code",
   "execution_count": null,
   "id": "b0a180e3",
   "metadata": {},
   "outputs": [],
   "source": [
    "model.fit(features_train, target_train)"
   ]
  },
  {
   "cell_type": "code",
   "execution_count": null,
   "id": "16f6abbc",
   "metadata": {},
   "outputs": [],
   "source": [
    "features_test = test.drop(columns=['target', 'client_id'])"
   ]
  },
  {
   "cell_type": "code",
   "execution_count": null,
   "id": "76f03c34",
   "metadata": {},
   "outputs": [],
   "source": [
    "target_test = test['target']"
   ]
  },
  {
   "cell_type": "code",
   "execution_count": null,
   "id": "f0a2f3e4",
   "metadata": {},
   "outputs": [],
   "source": [
    "pred = model.predict(features_test)"
   ]
  },
  {
   "cell_type": "code",
   "execution_count": null,
   "id": "2d32924d",
   "metadata": {},
   "outputs": [],
   "source": [
    "changed_auc_test = roc_auc_score(target_test, pred)"
   ]
  },
  {
   "cell_type": "code",
   "execution_count": null,
   "id": "2763d052",
   "metadata": {},
   "outputs": [],
   "source": [
    "changed_auc_test"
   ]
  },
  {
   "cell_type": "code",
   "execution_count": null,
   "id": "a47603a7",
   "metadata": {},
   "outputs": [],
   "source": [
    "changed_f1_test = f1_score(target_test, pred)"
   ]
  },
  {
   "cell_type": "code",
   "execution_count": null,
   "id": "1fce1df3",
   "metadata": {},
   "outputs": [],
   "source": [
    "changed_f1_test"
   ]
  },
  {
   "cell_type": "code",
   "execution_count": null,
   "id": "63d896ea",
   "metadata": {},
   "outputs": [],
   "source": [
    "cm = confusion_matrix(target_test, pred, normalize='true')\n",
    "ConfusionMatrixDisplay(confusion_matrix=cm).plot()\n",
    "plt.show()"
   ]
  },
  {
   "cell_type": "markdown",
   "id": "175ccbe8",
   "metadata": {},
   "source": [
    "Делаем вывод о том, что модель не обучается на таких данных"
   ]
  },
  {
   "cell_type": "markdown",
   "id": "8b97ba83",
   "metadata": {},
   "source": [
    "## Модель, обученная на измененных данных - добавили наблюдения с таргетом 1 для получения трех единиц по уникальному пользователю, совершившему покупку"
   ]
  },
  {
   "cell_type": "code",
   "execution_count": null,
   "id": "b4963324",
   "metadata": {},
   "outputs": [],
   "source": [
    "train, test = train_test_split(data_f.drop(columns='report_date'), test_size=0.3, random_state=RS, stratify=data['target'])"
   ]
  },
  {
   "cell_type": "code",
   "execution_count": null,
   "id": "31ff8bd1",
   "metadata": {},
   "outputs": [],
   "source": [
    "clients = train.query('target == 1').groupby('client_id').agg('count').reset_index()"
   ]
  },
  {
   "cell_type": "code",
   "execution_count": null,
   "id": "ce81e59e",
   "metadata": {},
   "outputs": [],
   "source": [
    "add_two = clients.query('target == 1')['client_id']"
   ]
  },
  {
   "cell_type": "code",
   "execution_count": null,
   "id": "f295145f",
   "metadata": {},
   "outputs": [],
   "source": [
    "add_two"
   ]
  },
  {
   "cell_type": "code",
   "execution_count": null,
   "id": "404782df",
   "metadata": {},
   "outputs": [],
   "source": [
    "add_one = clients.query('target == 2')['client_id']"
   ]
  },
  {
   "cell_type": "code",
   "execution_count": null,
   "id": "a18d553e",
   "metadata": {},
   "outputs": [],
   "source": [
    "add_two_values = train.query('client_id in @add_two & target==1').groupby('client_id').agg('mean').reset_index()"
   ]
  },
  {
   "cell_type": "code",
   "execution_count": null,
   "id": "1edde0dc",
   "metadata": {},
   "outputs": [],
   "source": [
    "add_one_values = train.query('client_id in @add_one & target==1')"
   ]
  },
  {
   "cell_type": "code",
   "execution_count": null,
   "id": "14199d35",
   "metadata": {},
   "outputs": [],
   "source": [
    "data_added = pd.concat([train, add_two_values, add_two_values, add_one_values], axis=0)"
   ]
  },
  {
   "cell_type": "code",
   "execution_count": null,
   "id": "bc2d1519",
   "metadata": {},
   "outputs": [],
   "source": [
    "data_added"
   ]
  },
  {
   "cell_type": "code",
   "execution_count": null,
   "id": "b5f845fc",
   "metadata": {},
   "outputs": [],
   "source": [
    "features_train = data_added.drop(columns=['target', 'client_id'])"
   ]
  },
  {
   "cell_type": "code",
   "execution_count": null,
   "id": "0e4ab6ec",
   "metadata": {},
   "outputs": [],
   "source": [
    "target_train = data_added['target']"
   ]
  },
  {
   "cell_type": "code",
   "execution_count": null,
   "id": "348a4d06",
   "metadata": {},
   "outputs": [],
   "source": [
    "features_train, target_train = SMOTE().fit_resample(features_train, target_train)"
   ]
  },
  {
   "cell_type": "code",
   "execution_count": null,
   "id": "562db6b8",
   "metadata": {},
   "outputs": [],
   "source": [
    "params = {\n",
    "    'loss_function': 'Logloss',\n",
    "    'iterations': 300,\n",
    "    'custom_loss': ['AUC', 'F1'],\n",
    "    'random_seed': RS,\n",
    "    'learning_rate': 0.2\n",
    "}"
   ]
  },
  {
   "cell_type": "code",
   "execution_count": null,
   "id": "a171f523",
   "metadata": {},
   "outputs": [],
   "source": [
    "cv_data = cv(\n",
    "    params=params,\n",
    "    pool=Pool(features_train, label=target_train),\n",
    "    fold_count=5, # Разбивка выборки на 5 кусочков\n",
    "    shuffle=True, # Перемешаем наши данные\n",
    "    partition_random_seed=RS,\n",
    "    plot=True,\n",
    "    stratified=True, \n",
    "    verbose=False\n",
    ")"
   ]
  },
  {
   "cell_type": "code",
   "execution_count": null,
   "id": "8547adc3",
   "metadata": {},
   "outputs": [],
   "source": [
    "cv_data"
   ]
  },
  {
   "cell_type": "code",
   "execution_count": null,
   "id": "f9066a9f",
   "metadata": {},
   "outputs": [],
   "source": [
    "added_auc_valid = cv_data['test-AUC-mean'].tail(1)"
   ]
  },
  {
   "cell_type": "code",
   "execution_count": null,
   "id": "1bdf4260",
   "metadata": {},
   "outputs": [],
   "source": [
    "added_f1_valid = cv_data['test-F1-mean'].tail(1)"
   ]
  },
  {
   "cell_type": "code",
   "execution_count": null,
   "id": "3a917dbd",
   "metadata": {},
   "outputs": [],
   "source": [
    "added_auc_valid"
   ]
  },
  {
   "cell_type": "code",
   "execution_count": null,
   "id": "55cdf892",
   "metadata": {},
   "outputs": [],
   "source": [
    "added_f1_valid"
   ]
  },
  {
   "cell_type": "markdown",
   "id": "4838eac4",
   "metadata": {},
   "source": [
    "### Валидация модели"
   ]
  },
  {
   "cell_type": "code",
   "execution_count": null,
   "id": "6f1cdcd1",
   "metadata": {},
   "outputs": [],
   "source": [
    "model = CatBoostClassifier(loss_function='Logloss',\n",
    "    iterations=300,\n",
    "    custom_loss=['AUC', 'F1'],\n",
    "    random_seed= RS,\n",
    "    learning_rate= 0.2,\n",
    "    verbose=False)"
   ]
  },
  {
   "cell_type": "code",
   "execution_count": null,
   "id": "a1c99f92",
   "metadata": {},
   "outputs": [],
   "source": [
    "model.fit(features_train, target_train)"
   ]
  },
  {
   "cell_type": "code",
   "execution_count": null,
   "id": "b437958c",
   "metadata": {},
   "outputs": [],
   "source": [
    "features_test = test.drop(columns=['target', 'client_id'])"
   ]
  },
  {
   "cell_type": "code",
   "execution_count": null,
   "id": "84e5e579",
   "metadata": {},
   "outputs": [],
   "source": [
    "target_test = test['target']"
   ]
  },
  {
   "cell_type": "code",
   "execution_count": null,
   "id": "346db934",
   "metadata": {},
   "outputs": [],
   "source": [
    "pred = model.predict(features_test)"
   ]
  },
  {
   "cell_type": "code",
   "execution_count": null,
   "id": "8494b0e3",
   "metadata": {},
   "outputs": [],
   "source": [
    "added_auc_test = roc_auc_score(target_test, pred)"
   ]
  },
  {
   "cell_type": "code",
   "execution_count": null,
   "id": "dd9c6c9b",
   "metadata": {},
   "outputs": [],
   "source": [
    "added_auc_test"
   ]
  },
  {
   "cell_type": "code",
   "execution_count": null,
   "id": "ad664f01",
   "metadata": {},
   "outputs": [],
   "source": [
    "added_f1_test = f1_score(target_test, pred)"
   ]
  },
  {
   "cell_type": "code",
   "execution_count": null,
   "id": "2a736bec",
   "metadata": {
    "scrolled": true
   },
   "outputs": [],
   "source": [
    "added_f1_test"
   ]
  },
  {
   "cell_type": "code",
   "execution_count": null,
   "id": "3ecda2b4",
   "metadata": {},
   "outputs": [],
   "source": [
    "cm = confusion_matrix(target_test, pred, normalize='true')\n",
    "ConfusionMatrixDisplay(confusion_matrix=cm).plot()\n",
    "plt.show()"
   ]
  },
  {
   "cell_type": "markdown",
   "id": "eb5a91e4",
   "metadata": {},
   "source": [
    "## Модель, обученная на измененных данных - заполнили единицами таргет у всех уникальных пользователей, у кого встречается хотя бы одна единица в таргете"
   ]
  },
  {
   "cell_type": "code",
   "execution_count": null,
   "id": "139b874e",
   "metadata": {},
   "outputs": [],
   "source": [
    "train, test = train_test_split(data_f.drop(columns='report_date'), test_size=0.3, random_state=RS, stratify=data_f['target'])"
   ]
  },
  {
   "cell_type": "code",
   "execution_count": null,
   "id": "3c87bad6",
   "metadata": {},
   "outputs": [],
   "source": [
    "train.query('target == 1')"
   ]
  },
  {
   "cell_type": "code",
   "execution_count": null,
   "id": "dfcfe244",
   "metadata": {},
   "outputs": [],
   "source": [
    "one_id = train.query('target == 1')['client_id']"
   ]
  },
  {
   "cell_type": "code",
   "execution_count": null,
   "id": "2665176b",
   "metadata": {},
   "outputs": [],
   "source": [
    "one_id"
   ]
  },
  {
   "cell_type": "code",
   "execution_count": null,
   "id": "b3ee052e",
   "metadata": {},
   "outputs": [],
   "source": [
    "criteria = 'client_id in @one_id'"
   ]
  },
  {
   "cell_type": "code",
   "execution_count": null,
   "id": "de27407c",
   "metadata": {},
   "outputs": [],
   "source": [
    "train.loc[train.eval(criteria), 'target'] = 1"
   ]
  },
  {
   "cell_type": "code",
   "execution_count": null,
   "id": "321821fc",
   "metadata": {},
   "outputs": [],
   "source": [
    "train.query('client_id in @one_id').loc[:, 'target']"
   ]
  },
  {
   "cell_type": "code",
   "execution_count": null,
   "id": "b338b26b",
   "metadata": {},
   "outputs": [],
   "source": [
    "features_train = train.drop(columns=['target', 'client_id'])"
   ]
  },
  {
   "cell_type": "code",
   "execution_count": null,
   "id": "bbed605c",
   "metadata": {},
   "outputs": [],
   "source": [
    "target_train = train['target']"
   ]
  },
  {
   "cell_type": "code",
   "execution_count": null,
   "id": "60c366ce",
   "metadata": {},
   "outputs": [],
   "source": [
    "features_train, target_train = SMOTE().fit_resample(features_train, target_train)"
   ]
  },
  {
   "cell_type": "code",
   "execution_count": null,
   "id": "96ed2fb7",
   "metadata": {},
   "outputs": [],
   "source": [
    "params = {\n",
    "    'loss_function': 'Logloss',\n",
    "    'iterations': 300,\n",
    "    'custom_loss': ['AUC', 'F1'],\n",
    "    'random_seed': RS,\n",
    "    'learning_rate': 0.2\n",
    "}"
   ]
  },
  {
   "cell_type": "code",
   "execution_count": null,
   "id": "47b05094",
   "metadata": {},
   "outputs": [],
   "source": [
    "cv_data = cv(\n",
    "    params=params,\n",
    "    pool=Pool(features_train, label=target_train),\n",
    "    fold_count=5, # Разбивка выборки на 5 кусочков\n",
    "    shuffle=True, # Перемешаем наши данные\n",
    "    partition_random_seed=RS,\n",
    "    plot=True,\n",
    "    stratified=True, \n",
    "    verbose=False\n",
    ")"
   ]
  },
  {
   "cell_type": "code",
   "execution_count": null,
   "id": "69fcbaab",
   "metadata": {},
   "outputs": [],
   "source": [
    "cv_data"
   ]
  },
  {
   "cell_type": "code",
   "execution_count": null,
   "id": "9ff27118",
   "metadata": {},
   "outputs": [],
   "source": [
    "filled_auc_valid = cv_data['test-AUC-mean'].tail(1)"
   ]
  },
  {
   "cell_type": "code",
   "execution_count": null,
   "id": "f437b121",
   "metadata": {},
   "outputs": [],
   "source": [
    "filled_f1_valid = cv_data['test-F1-mean'].tail(1)"
   ]
  },
  {
   "cell_type": "code",
   "execution_count": null,
   "id": "b56e0e0a",
   "metadata": {},
   "outputs": [],
   "source": [
    "filled_auc_valid"
   ]
  },
  {
   "cell_type": "code",
   "execution_count": null,
   "id": "e13a94df",
   "metadata": {},
   "outputs": [],
   "source": [
    "filled_f1_valid"
   ]
  },
  {
   "cell_type": "markdown",
   "id": "0c056bfd",
   "metadata": {},
   "source": [
    "### Валидация модели"
   ]
  },
  {
   "cell_type": "code",
   "execution_count": null,
   "id": "7ca046c2",
   "metadata": {},
   "outputs": [],
   "source": [
    "model = CatBoostClassifier(loss_function='Logloss',\n",
    "    iterations=300,\n",
    "    custom_loss=['AUC', 'F1'],\n",
    "    random_seed= RS,\n",
    "    learning_rate= 0.2,\n",
    "    verbose=False)"
   ]
  },
  {
   "cell_type": "code",
   "execution_count": null,
   "id": "d43b9cea",
   "metadata": {},
   "outputs": [],
   "source": [
    "model.fit(features_train, target_train)"
   ]
  },
  {
   "cell_type": "code",
   "execution_count": null,
   "id": "88bb966b",
   "metadata": {},
   "outputs": [],
   "source": [
    "features_test = test.drop(columns=['target', 'client_id'])"
   ]
  },
  {
   "cell_type": "code",
   "execution_count": null,
   "id": "a6e11bc8",
   "metadata": {},
   "outputs": [],
   "source": [
    "target_test = test['target']"
   ]
  },
  {
   "cell_type": "code",
   "execution_count": null,
   "id": "b6dd0c3e",
   "metadata": {},
   "outputs": [],
   "source": [
    "pred = model.predict(features_test)"
   ]
  },
  {
   "cell_type": "code",
   "execution_count": null,
   "id": "b9acd10d",
   "metadata": {},
   "outputs": [],
   "source": [
    "filled_auc_test = roc_auc_score(target_test, pred)"
   ]
  },
  {
   "cell_type": "code",
   "execution_count": null,
   "id": "387a7988",
   "metadata": {},
   "outputs": [],
   "source": [
    "filled_auc_test"
   ]
  },
  {
   "cell_type": "code",
   "execution_count": null,
   "id": "230c3c5a",
   "metadata": {},
   "outputs": [],
   "source": [
    "filled_f1_test = f1_score(target_test, pred)"
   ]
  },
  {
   "cell_type": "code",
   "execution_count": null,
   "id": "7ff43243",
   "metadata": {},
   "outputs": [],
   "source": [
    "filled_f1_test"
   ]
  },
  {
   "cell_type": "code",
   "execution_count": null,
   "id": "7fe96b3d",
   "metadata": {},
   "outputs": [],
   "source": [
    "cm = confusion_matrix(target_test, pred, normalize='true')\n",
    "ConfusionMatrixDisplay(confusion_matrix=cm).plot()\n",
    "plt.show()"
   ]
  },
  {
   "cell_type": "markdown",
   "id": "ba3669eb",
   "metadata": {},
   "source": [
    "## Бейслайн модель, обученная на данных с новыми фичами"
   ]
  },
  {
   "cell_type": "code",
   "execution_count": null,
   "id": "cfa1fd2b",
   "metadata": {},
   "outputs": [],
   "source": [
    "train, test = train_test_split(data_f, test_size=0.3, random_state=RS, stratify=data['target'])"
   ]
  },
  {
   "cell_type": "code",
   "execution_count": null,
   "id": "223fb7c2",
   "metadata": {},
   "outputs": [],
   "source": [
    "def date_maker(row):\n",
    "    if row['report_date'].year == 2021:\n",
    "        return row['report_date'].month\n",
    "    elif row['report_date'].year == 2022:\n",
    "        return row['report_date'].month + 12\n",
    "    elif row['report_date'].year == 2023:\n",
    "        return row['report_date'].month + 24"
   ]
  },
  {
   "cell_type": "code",
   "execution_count": null,
   "id": "7abe5afd",
   "metadata": {},
   "outputs": [],
   "source": [
    "train['month'] = train.apply(date_maker, axis=1)"
   ]
  },
  {
   "cell_type": "code",
   "execution_count": null,
   "id": "eeeb3c62",
   "metadata": {},
   "outputs": [],
   "source": [
    "test['month'] = test.apply(date_maker, axis=1)"
   ]
  },
  {
   "cell_type": "code",
   "execution_count": null,
   "id": "f011fd8b",
   "metadata": {},
   "outputs": [],
   "source": [
    "train = train.merge(train.groupby('client_id')['month'].agg('min').reset_index(), \\\n",
    "                    how='left', on='client_id', suffixes=('', '_min'))"
   ]
  },
  {
   "cell_type": "code",
   "execution_count": null,
   "id": "1d82ea62",
   "metadata": {},
   "outputs": [],
   "source": [
    "test = test.merge(test.groupby('client_id')['month'].agg('min').reset_index(), \\\n",
    "                    how='left', on='client_id', suffixes=('', '_min'))"
   ]
  },
  {
   "cell_type": "code",
   "execution_count": null,
   "id": "b4b75a4d",
   "metadata": {},
   "outputs": [],
   "source": [
    "train['month_from_first'] = train['month'] - train['month_min'] + 1"
   ]
  },
  {
   "cell_type": "code",
   "execution_count": null,
   "id": "b884365c",
   "metadata": {},
   "outputs": [],
   "source": [
    "test['month_from_first'] = test['month'] - test['month_min'] + 1"
   ]
  },
  {
   "cell_type": "code",
   "execution_count": null,
   "id": "9f42f97e",
   "metadata": {},
   "outputs": [],
   "source": [
    "train = train.drop(columns=['month', 'month_min'])"
   ]
  },
  {
   "cell_type": "code",
   "execution_count": null,
   "id": "e4f298ba",
   "metadata": {},
   "outputs": [],
   "source": [
    "test = test.drop(columns=['month', 'month_min'])"
   ]
  },
  {
   "cell_type": "code",
   "execution_count": null,
   "id": "0f8c22e9",
   "metadata": {},
   "outputs": [],
   "source": [
    "train.head()"
   ]
  },
  {
   "cell_type": "code",
   "execution_count": null,
   "id": "25f07c4e",
   "metadata": {},
   "outputs": [],
   "source": [
    "features_train = train.drop(columns=['report_date', 'client_id', 'target'])"
   ]
  },
  {
   "cell_type": "code",
   "execution_count": null,
   "id": "2f005f3d",
   "metadata": {},
   "outputs": [],
   "source": [
    "target_train = train['target']"
   ]
  },
  {
   "cell_type": "code",
   "execution_count": null,
   "id": "62e437fc",
   "metadata": {},
   "outputs": [],
   "source": [
    "features_train, target_train = SMOTE().fit_resample(features_train, target_train)"
   ]
  },
  {
   "cell_type": "code",
   "execution_count": null,
   "id": "8dd7ef1b",
   "metadata": {},
   "outputs": [],
   "source": [
    "features_test = test.drop(columns=['report_date', 'client_id', 'target'])"
   ]
  },
  {
   "cell_type": "code",
   "execution_count": null,
   "id": "87f3ccef",
   "metadata": {},
   "outputs": [],
   "source": [
    "target_test = test['target']"
   ]
  },
  {
   "cell_type": "code",
   "execution_count": null,
   "id": "49660806",
   "metadata": {},
   "outputs": [],
   "source": [
    "params = {\n",
    "    'loss_function': 'Logloss',\n",
    "    'iterations': 300,\n",
    "    'custom_loss': ['AUC', 'F1'],\n",
    "    'random_seed': RS,\n",
    "    'learning_rate': 0.2\n",
    "}"
   ]
  },
  {
   "cell_type": "code",
   "execution_count": null,
   "id": "2a90e6b8",
   "metadata": {},
   "outputs": [],
   "source": [
    "cv_data = cv(\n",
    "    params=params,\n",
    "    pool=Pool(features_train, label=target_train),\n",
    "    fold_count=5, # Разбивка выборки на 5 кусочков\n",
    "    shuffle=True, # Перемешаем наши данные\n",
    "    partition_random_seed=RS,\n",
    "    plot=True,\n",
    "    stratified=True, \n",
    "    verbose=False\n",
    ")"
   ]
  },
  {
   "cell_type": "code",
   "execution_count": null,
   "id": "206529b9",
   "metadata": {},
   "outputs": [],
   "source": [
    "cv_data"
   ]
  },
  {
   "cell_type": "code",
   "execution_count": null,
   "id": "78f3d1d6",
   "metadata": {},
   "outputs": [],
   "source": [
    "feature_month_auc_valid = cv_data['test-AUC-mean'].tail(1)"
   ]
  },
  {
   "cell_type": "code",
   "execution_count": null,
   "id": "5d1e2b01",
   "metadata": {},
   "outputs": [],
   "source": [
    "feature_month_f1_valid = cv_data['test-F1-mean'].tail(1)"
   ]
  },
  {
   "cell_type": "code",
   "execution_count": null,
   "id": "844a4678",
   "metadata": {},
   "outputs": [],
   "source": [
    "feature_month_auc_valid"
   ]
  },
  {
   "cell_type": "code",
   "execution_count": null,
   "id": "d45d7263",
   "metadata": {},
   "outputs": [],
   "source": [
    "feature_month_f1_valid"
   ]
  },
  {
   "cell_type": "markdown",
   "id": "f47db99f",
   "metadata": {},
   "source": [
    "### Валидация модели"
   ]
  },
  {
   "cell_type": "code",
   "execution_count": null,
   "id": "fde1a2ad",
   "metadata": {},
   "outputs": [],
   "source": [
    "model = CatBoostClassifier(loss_function='Logloss',\n",
    "    iterations=300,\n",
    "    custom_loss=['AUC', 'F1'],\n",
    "    random_seed= RS,\n",
    "    learning_rate= 0.2,\n",
    "    verbose=False)"
   ]
  },
  {
   "cell_type": "code",
   "execution_count": null,
   "id": "d27147c6",
   "metadata": {},
   "outputs": [],
   "source": [
    "model.fit(features_train, target_train)"
   ]
  },
  {
   "cell_type": "code",
   "execution_count": null,
   "id": "89d6a7dc",
   "metadata": {},
   "outputs": [],
   "source": [
    "pred = model.predict(features_test)"
   ]
  },
  {
   "cell_type": "code",
   "execution_count": null,
   "id": "4b034f38",
   "metadata": {},
   "outputs": [],
   "source": [
    "feature_month_auc_test = roc_auc_score(target_test, pred)"
   ]
  },
  {
   "cell_type": "code",
   "execution_count": null,
   "id": "6e2b3f83",
   "metadata": {},
   "outputs": [],
   "source": [
    "feature_month_auc_test"
   ]
  },
  {
   "cell_type": "code",
   "execution_count": null,
   "id": "99053c77",
   "metadata": {},
   "outputs": [],
   "source": [
    "feature_month_f1_test = f1_score(target_test, pred)"
   ]
  },
  {
   "cell_type": "code",
   "execution_count": null,
   "id": "6b888214",
   "metadata": {},
   "outputs": [],
   "source": [
    "feature_month_f1_test"
   ]
  },
  {
   "cell_type": "code",
   "execution_count": null,
   "id": "291a9a90",
   "metadata": {},
   "outputs": [],
   "source": [
    "cm = confusion_matrix(target_test, pred, normalize='true')\n",
    "ConfusionMatrixDisplay(confusion_matrix=cm).plot()\n",
    "plt.show()"
   ]
  },
  {
   "cell_type": "markdown",
   "id": "32da00d7",
   "metadata": {},
   "source": [
    "## Бейслайн модель с новыми фичами (месяц года)"
   ]
  },
  {
   "cell_type": "code",
   "execution_count": null,
   "id": "2118e91d",
   "metadata": {},
   "outputs": [],
   "source": [
    "data_f"
   ]
  },
  {
   "cell_type": "code",
   "execution_count": null,
   "id": "d0a30e74",
   "metadata": {},
   "outputs": [],
   "source": [
    "train, test = train_test_split(data_f, test_size=0.3, random_state=RS, stratify=data['target'])"
   ]
  },
  {
   "cell_type": "code",
   "execution_count": null,
   "id": "939ded0f",
   "metadata": {},
   "outputs": [],
   "source": [
    "def month_maker(row):\n",
    "        return row['report_date'].month"
   ]
  },
  {
   "cell_type": "code",
   "execution_count": null,
   "id": "007ae757",
   "metadata": {},
   "outputs": [],
   "source": [
    "train['month'] = train.apply(month_maker, axis=1)"
   ]
  },
  {
   "cell_type": "code",
   "execution_count": null,
   "id": "5d165341",
   "metadata": {},
   "outputs": [],
   "source": [
    "test['month'] = test.apply(month_maker, axis=1)"
   ]
  },
  {
   "cell_type": "code",
   "execution_count": null,
   "id": "abe776dd",
   "metadata": {},
   "outputs": [],
   "source": [
    "train.head()"
   ]
  },
  {
   "cell_type": "code",
   "execution_count": null,
   "id": "0497a7e8",
   "metadata": {},
   "outputs": [],
   "source": [
    "train = pd.get_dummies(train, columns=['month'], drop_first=False, dtype='int')"
   ]
  },
  {
   "cell_type": "code",
   "execution_count": null,
   "id": "45785507",
   "metadata": {},
   "outputs": [],
   "source": [
    "train.head()"
   ]
  },
  {
   "cell_type": "code",
   "execution_count": null,
   "id": "ceacf8b4",
   "metadata": {},
   "outputs": [],
   "source": [
    "test = pd.get_dummies(test, columns=['month'], drop_first=False, dtype='int')"
   ]
  },
  {
   "cell_type": "code",
   "execution_count": null,
   "id": "8e5eedc1",
   "metadata": {},
   "outputs": [],
   "source": [
    "features_train = train.drop(columns=['report_date', 'client_id', 'target'])"
   ]
  },
  {
   "cell_type": "code",
   "execution_count": null,
   "id": "af2cdb1d",
   "metadata": {},
   "outputs": [],
   "source": [
    "target_train = train['target']"
   ]
  },
  {
   "cell_type": "code",
   "execution_count": null,
   "id": "1f67fb86",
   "metadata": {},
   "outputs": [],
   "source": [
    "features_train, target_train = SMOTE().fit_resample(features_train, target_train)"
   ]
  },
  {
   "cell_type": "code",
   "execution_count": null,
   "id": "d13fad2c",
   "metadata": {},
   "outputs": [],
   "source": [
    "features_test = test.drop(columns=['report_date', 'client_id', 'target'])"
   ]
  },
  {
   "cell_type": "code",
   "execution_count": null,
   "id": "d6e96ccf",
   "metadata": {},
   "outputs": [],
   "source": [
    "target_test = test['target']"
   ]
  },
  {
   "cell_type": "code",
   "execution_count": null,
   "id": "69d90553",
   "metadata": {},
   "outputs": [],
   "source": [
    "params = {\n",
    "    'loss_function': 'Logloss',\n",
    "    'iterations': 300,\n",
    "    'custom_loss': ['AUC', 'F1'],\n",
    "    'random_seed': RS,\n",
    "    'learning_rate': 0.2\n",
    "}"
   ]
  },
  {
   "cell_type": "code",
   "execution_count": null,
   "id": "0e86b5ea",
   "metadata": {},
   "outputs": [],
   "source": [
    "cv_data = cv(\n",
    "    params=params,\n",
    "    pool=Pool(features_train, label=target_train),\n",
    "    fold_count=5, # Разбивка выборки на 5 кусочков\n",
    "    shuffle=True, # Перемешаем наши данные\n",
    "    partition_random_seed=RS,\n",
    "    plot=True,\n",
    "    stratified=True, \n",
    "    verbose=False\n",
    ")"
   ]
  },
  {
   "cell_type": "code",
   "execution_count": null,
   "id": "ee8c8a21",
   "metadata": {},
   "outputs": [],
   "source": [
    "cv_data"
   ]
  },
  {
   "cell_type": "code",
   "execution_count": null,
   "id": "23abd111",
   "metadata": {},
   "outputs": [],
   "source": [
    "feature_season_auc_valid = cv_data['test-AUC-mean'].tail(1)"
   ]
  },
  {
   "cell_type": "code",
   "execution_count": null,
   "id": "302f547a",
   "metadata": {},
   "outputs": [],
   "source": [
    "feature_season_f1_valid = cv_data['test-F1-mean'].tail(1)"
   ]
  },
  {
   "cell_type": "code",
   "execution_count": null,
   "id": "222ac372",
   "metadata": {},
   "outputs": [],
   "source": [
    "feature_season_auc_valid"
   ]
  },
  {
   "cell_type": "code",
   "execution_count": null,
   "id": "51045522",
   "metadata": {},
   "outputs": [],
   "source": [
    "feature_season_f1_valid"
   ]
  },
  {
   "cell_type": "markdown",
   "id": "803bb166",
   "metadata": {},
   "source": [
    "### Валидация модели"
   ]
  },
  {
   "cell_type": "code",
   "execution_count": null,
   "id": "19c94ddf",
   "metadata": {},
   "outputs": [],
   "source": [
    "model = CatBoostClassifier(loss_function='Logloss',\n",
    "    iterations=300,\n",
    "    custom_loss=['AUC', 'F1'],\n",
    "    random_seed= RS,\n",
    "    learning_rate= 0.2,\n",
    "    verbose=False)"
   ]
  },
  {
   "cell_type": "code",
   "execution_count": null,
   "id": "cf13b7a6",
   "metadata": {},
   "outputs": [],
   "source": [
    "model.fit(features_train, target_train)"
   ]
  },
  {
   "cell_type": "code",
   "execution_count": null,
   "id": "d342dc59",
   "metadata": {},
   "outputs": [],
   "source": [
    "pred = model.predict(features_test)"
   ]
  },
  {
   "cell_type": "code",
   "execution_count": null,
   "id": "e5c5e6b1",
   "metadata": {},
   "outputs": [],
   "source": [
    "feature_season_auc_test = roc_auc_score(target_test, pred)"
   ]
  },
  {
   "cell_type": "code",
   "execution_count": null,
   "id": "aeb2d0c1",
   "metadata": {},
   "outputs": [],
   "source": [
    "feature_season_auc_test"
   ]
  },
  {
   "cell_type": "code",
   "execution_count": null,
   "id": "42d1aa87",
   "metadata": {},
   "outputs": [],
   "source": [
    "feature_season_f1_test = f1_score(target_test, pred)"
   ]
  },
  {
   "cell_type": "code",
   "execution_count": null,
   "id": "ee0060b8",
   "metadata": {
    "scrolled": true
   },
   "outputs": [],
   "source": [
    "feature_season_f1_test"
   ]
  },
  {
   "cell_type": "code",
   "execution_count": null,
   "id": "cbc6547d",
   "metadata": {},
   "outputs": [],
   "source": [
    "cm = confusion_matrix(target_test, pred, normalize='true')\n",
    "ConfusionMatrixDisplay(confusion_matrix=cm).plot()\n",
    "plt.show()"
   ]
  },
  {
   "cell_type": "markdown",
   "id": "7e91fa15",
   "metadata": {},
   "source": [
    "## Модель на основе нейронной сети"
   ]
  },
  {
   "cell_type": "code",
   "execution_count": null,
   "id": "7e557def",
   "metadata": {},
   "outputs": [],
   "source": [
    "features = data.drop(columns=['target', 'report_date'])"
   ]
  },
  {
   "cell_type": "code",
   "execution_count": null,
   "id": "3ec5cacb",
   "metadata": {},
   "outputs": [],
   "source": [
    "target = data['target']"
   ]
  },
  {
   "cell_type": "code",
   "execution_count": null,
   "id": "dc40267e",
   "metadata": {},
   "outputs": [],
   "source": [
    "features_train, features_test, target_train, target_test = train_test_split(features, target, test_size=0.3, stratify=target,\n",
    "                                                                            random_state=RS)"
   ]
  },
  {
   "cell_type": "code",
   "execution_count": null,
   "id": "b510fe36",
   "metadata": {},
   "outputs": [],
   "source": [
    "features_train, target_train = SMOTE().fit_resample(features_train, target_train)"
   ]
  },
  {
   "cell_type": "code",
   "execution_count": null,
   "id": "810681c4",
   "metadata": {},
   "outputs": [],
   "source": [
    "def baseline_nn(features_train):\n",
    "    model = keras.models.Sequential()\n",
    "    model.add(keras.layers.Dense(units=features_train.shape[1], input_dim=features_train.shape[1], \n",
    "                                 activation='sigmoid'))\n",
    "    model.add(keras.layers.Dense(units=1, input_dim=features_train.shape[1], \n",
    "                                 activation='sigmoid'))\n",
    "    model.compile(loss='binary_crossentropy', optimizer='sgd', metrics=['acc', AUC()])\n",
    "    \n",
    "    return model"
   ]
  },
  {
   "cell_type": "code",
   "execution_count": null,
   "id": "c5f4ef59",
   "metadata": {},
   "outputs": [],
   "source": [
    "model = baseline_nn(features_train)"
   ]
  },
  {
   "cell_type": "code",
   "execution_count": null,
   "id": "b23c0e42",
   "metadata": {},
   "outputs": [],
   "source": [
    "model.fit(features_train, target_train, epochs=10, verbose=2,\n",
    "          validation_data=(features_test, target_test))"
   ]
  }
 ],
 "metadata": {
  "kernelspec": {
   "display_name": "new",
   "language": "python",
   "name": "new"
  },
  "language_info": {
   "codemirror_mode": {
    "name": "ipython",
    "version": 3
   },
   "file_extension": ".py",
   "mimetype": "text/x-python",
   "name": "python",
   "nbconvert_exporter": "python",
   "pygments_lexer": "ipython3",
   "version": "3.9.16"
  },
  "toc": {
   "base_numbering": 1,
   "nav_menu": {},
   "number_sections": true,
   "sideBar": true,
   "skip_h1_title": true,
   "title_cell": "Table of Contents",
   "title_sidebar": "Contents",
   "toc_cell": false,
   "toc_position": {
    "height": "calc(100% - 180px)",
    "left": "10px",
    "top": "150px",
    "width": "513.438px"
   },
   "toc_section_display": true,
   "toc_window_display": true
  }
 },
 "nbformat": 4,
 "nbformat_minor": 5
}
